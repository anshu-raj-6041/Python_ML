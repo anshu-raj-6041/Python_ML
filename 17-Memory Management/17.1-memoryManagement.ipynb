{
 "cells": [
  {
   "cell_type": "markdown",
   "id": "0c769b8a",
   "metadata": {},
   "source": [
    "Python Memory Management\n",
    "Memory management in Python involves a combination of automatic garbage collection, reference counting and various internal optimizations to efficiently manage memory allocation and deallocation. "
   ]
  },
  {
   "cell_type": "code",
   "execution_count": null,
   "id": "72ea0e53",
   "metadata": {},
   "outputs": [],
   "source": [
    "# Reference Counting => is the primary method Python uses to manage memory. \n",
    "# Each object in Python maintains a count of reference pointing to it. When the reference counts drop to 0, memory\n",
    "# occupied by the object is deallocated."
   ]
  },
  {
   "cell_type": "code",
   "execution_count": 7,
   "id": "74f293c9",
   "metadata": {},
   "outputs": [
    {
     "name": "stdout",
     "output_type": "stream",
     "text": [
      "2\n"
     ]
    }
   ],
   "source": [
    "import sys\n",
    "\n",
    "a = []\n",
    "print(sys.getrefcount(a))   #(one ref count from 'a' and one from getrefcount())"
   ]
  },
  {
   "cell_type": "code",
   "execution_count": 8,
   "id": "09015bf9",
   "metadata": {},
   "outputs": [
    {
     "name": "stdout",
     "output_type": "stream",
     "text": [
      "3\n"
     ]
    }
   ],
   "source": [
    "b = a\n",
    "print(sys.getrefcount(b))\n"
   ]
  },
  {
   "cell_type": "code",
   "execution_count": 9,
   "id": "83e75814",
   "metadata": {},
   "outputs": [
    {
     "name": "stdout",
     "output_type": "stream",
     "text": [
      "2\n"
     ]
    }
   ],
   "source": [
    "del b\n",
    "print(sys.getrefcount(a))"
   ]
  },
  {
   "cell_type": "code",
   "execution_count": null,
   "id": "3566c36a",
   "metadata": {},
   "outputs": [],
   "source": [
    "# Garbage Collection\n",
    "# Python includes a cyclic garbage collector to handle ref cycles.\n",
    "# Reference cycles occur when object ref each other, preventing their ref count from reaching 0."
   ]
  },
  {
   "cell_type": "code",
   "execution_count": 10,
   "id": "00a461fa",
   "metadata": {},
   "outputs": [],
   "source": [
    "import gc\n",
    "# enable garbage collection\n",
    "gc.enable()"
   ]
  },
  {
   "cell_type": "code",
   "execution_count": 11,
   "id": "48b35366",
   "metadata": {},
   "outputs": [],
   "source": [
    "gc.disable()"
   ]
  },
  {
   "cell_type": "code",
   "execution_count": 12,
   "id": "92ec8812",
   "metadata": {},
   "outputs": [
    {
     "data": {
      "text/plain": [
       "2776"
      ]
     },
     "execution_count": 12,
     "metadata": {},
     "output_type": "execute_result"
    }
   ],
   "source": [
    "gc.collect()"
   ]
  },
  {
   "cell_type": "code",
   "execution_count": 13,
   "id": "ea8e1ec0",
   "metadata": {},
   "outputs": [
    {
     "name": "stdout",
     "output_type": "stream",
     "text": [
      "[{'collections': 196, 'collected': 2030, 'uncollectable': 0}, {'collections': 17, 'collected': 649, 'uncollectable': 0}, {'collections': 2, 'collected': 2776, 'uncollectable': 0}]\n"
     ]
    }
   ],
   "source": [
    "# get gc stats\n",
    "print(gc.get_stats())"
   ]
  },
  {
   "cell_type": "code",
   "execution_count": 14,
   "id": "5ac3ccaf",
   "metadata": {},
   "outputs": [
    {
     "name": "stdout",
     "output_type": "stream",
     "text": [
      "[]\n"
     ]
    }
   ],
   "source": [
    "# get unreachable objects\n",
    "print(gc.garbage)"
   ]
  },
  {
   "cell_type": "code",
   "execution_count": 15,
   "id": "8805ad2f",
   "metadata": {},
   "outputs": [],
   "source": [
    "# Memory Mannagment (Best Practices)\n",
    "# 1> Use Local Variables\n",
    "# 2> Avoid circular reference\n",
    "# 3> Use Generators : Generators produce items one at a time and only keeps one item in memory at a time,making efficieny \n",
    "# 4> Explicitly delete Object\n",
    "# 5> Profile Memory Usage"
   ]
  },
  {
   "cell_type": "code",
   "execution_count": null,
   "id": "23a7b7e8",
   "metadata": {},
   "outputs": [],
   "source": [
    "import gc\n",
    "\n",
    "class MyObject:\n",
    "    def __init__(self, name):\n",
    "        self.name = name \n",
    "        print(f\"Object {self.name} created\")\n",
    "\n",
    "    def __del__(self):\n",
    "        print(f\"Object {self.name} deleted\")\n",
    "\n",
    "# create circular reference\n",
    "obj1 = MyObject(\"obj1\")\n",
    "obj2 = MyObject(\"obj2\")\n",
    "\n",
    "obj1.ref = obj2\n",
    "obj2.ref = obj1"
   ]
  }
 ],
 "metadata": {
  "kernelspec": {
   "display_name": "Python 3",
   "language": "python",
   "name": "python3"
  },
  "language_info": {
   "codemirror_mode": {
    "name": "ipython",
    "version": 3
   },
   "file_extension": ".py",
   "mimetype": "text/x-python",
   "name": "python",
   "nbconvert_exporter": "python",
   "pygments_lexer": "ipython3",
   "version": "3.12.0"
  }
 },
 "nbformat": 4,
 "nbformat_minor": 5
}
