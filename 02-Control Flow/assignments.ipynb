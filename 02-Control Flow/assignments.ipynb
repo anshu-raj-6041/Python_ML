{
 "cells": [
  {
   "cell_type": "markdown",
   "metadata": {},
   "source": [
    "# Module 2: Control Flow Assignments\n",
    "## Lesson 2.1: Conditional Statements\n",
    "### Assignment 1: Simple if Statement\n",
    "\n",
    "Write a program that asks the user to input a number and prints whether the number is positive.\n",
    "\n",
    "### Assignment 2: if-else Statement\n",
    "\n",
    "Write a program that asks the user to input a number and prints whether the number is positive or negative.\n",
    "\n",
    "### Assignment 3: if-elif-else Statement\n",
    "\n",
    "Write a program that asks the user to input a number and prints whether the number is positive, negative, or zero.\n",
    "\n",
    "### Assignment 4: Nested if Statement\n",
    "\n",
    "Write a program that asks the user to input a number and prints whether the number is positive and even, positive and odd, or negative.\n",
    "\n",
    "## Lesson 2.2: Loops\n",
    "### Assignment 5: for Loop\n",
    "\n",
    "Write a program that prints all the numbers from 1 to 10 using a for loop.\n",
    "\n",
    "### Assignment 6: while Loop\n",
    "\n",
    "Write a program that prints all the numbers from 1 to 10 using a while loop.\n",
    "\n",
    "### Assignment 7: Nested Loops\n",
    "\n",
    "Write a program that prints a 5x5 grid of asterisks (*) using nested loops.\n",
    "\n",
    "### Assignment 8: break Statement\n",
    "\n",
    "Write a program that asks the user to input numbers until they input 0. The program should print the sum of all the input numbers\n",
    "\n",
    "### Assignment 9: continue Statement\n",
    "\n",
    "Write a program that prints all the numbers from 1 to 10 except 5 using a for loop and continue statement.\n",
    "\n",
    "### Assignment 10: pass Statement\n",
    "\n",
    "Write a program that defines an empty function using the pass statement.\n",
    "\n",
    "### Assignment 11: Combining Loops and Conditionals\n",
    "\n",
    "Write a program that asks the user to input a number and prints all the even numbers from 1 to that number using a for loop.\n",
    "\n",
    "### Assignment 12: Factorial Calculation\n",
    "\n",
    "Write a program that calculates the factorial of a number input by the user using a while loop.\n",
    "\n",
    "### Assignment 13: Sum of Digits\n",
    "\n",
    "Write a program that calculates the sum of the digits of a number input by the user using a while loop.\n",
    "\n",
    "### Assignment 14: Prime Number Check\n",
    "\n",
    "Write a program that checks if a number input by the user is a prime number using a for loop.\n",
    "\n",
    "### Assignment 15: Fibonacci Sequence\n",
    "\n",
    "Write a program that prints the first n Fibonacci numbers, where n is input by the user."
   ]
  },
  {
   "cell_type": "code",
   "execution_count": 5,
   "metadata": {},
   "outputs": [],
   "source": [
    "# Assignment 1: Number is + or not\n",
    "n = float(input(\"Enter the no:\"))\n",
    "\n",
    "if (n > 0):\n",
    "    print(\"The number is Positive\")"
   ]
  },
  {
   "cell_type": "code",
   "execution_count": 7,
   "id": "d930dee2",
   "metadata": {},
   "outputs": [
    {
     "name": "stdout",
     "output_type": "stream",
     "text": [
      "The number is Negative\n"
     ]
    }
   ],
   "source": [
    "# Assignment 2: Number is + or -\n",
    "n = float(input(\"Enter the no:\"))\n",
    "\n",
    "if (n > 0):\n",
    "    print(\"The number is Positive\")\n",
    "else:\n",
    "    print(\"The number is Negative\")"
   ]
  },
  {
   "cell_type": "code",
   "execution_count": 8,
   "id": "10619565",
   "metadata": {},
   "outputs": [
    {
     "name": "stdout",
     "output_type": "stream",
     "text": [
      "Number is Zero\n"
     ]
    }
   ],
   "source": [
    "# Assignment 3: Number is +, -, 0\n",
    "n = float(input(\"Enter the no:\"))\n",
    "\n",
    "if (n > 0):\n",
    "    print(\"Number is Positive\")\n",
    "elif (n < 0):\n",
    "    print(\"NUmber is Negative\")\n",
    "else:\n",
    "    print(\"Number is Zero\")"
   ]
  },
  {
   "cell_type": "code",
   "execution_count": 12,
   "id": "c789988e",
   "metadata": {},
   "outputs": [
    {
     "name": "stdout",
     "output_type": "stream",
     "text": [
      "Positive and Odd\n"
     ]
    }
   ],
   "source": [
    "# Assignment 4: Nested if\n",
    "# Write a program that asks the user to input a number and prints whether the number is positive and even, positive and odd, or negative.\n",
    "n = int(input(\"Enter the no:\"))\n",
    "\n",
    "if (n > 0):\n",
    "    if (n % 2 == 0):\n",
    "        print(\"Positive and Even\")\n",
    "    else:\n",
    "        print(\"Positive and Odd\")\n",
    "else:\n",
    "    print(\"Negative\")"
   ]
  },
  {
   "cell_type": "code",
   "execution_count": 13,
   "id": "3a32acef",
   "metadata": {},
   "outputs": [
    {
     "name": "stdout",
     "output_type": "stream",
     "text": [
      "1\n",
      "2\n",
      "3\n",
      "4\n",
      "5\n",
      "6\n",
      "7\n",
      "8\n",
      "9\n",
      "10\n"
     ]
    }
   ],
   "source": [
    "# Assignment 5: for Loop\n",
    "# Write a program that prints all the numbers from 1 to 10 using a for loop.\n",
    "for i in range(1, 11):\n",
    "    print(i)"
   ]
  },
  {
   "cell_type": "code",
   "execution_count": 14,
   "id": "eb5b33b1",
   "metadata": {},
   "outputs": [
    {
     "name": "stdout",
     "output_type": "stream",
     "text": [
      "1\n",
      "2\n",
      "3\n",
      "4\n",
      "5\n",
      "6\n",
      "7\n",
      "8\n",
      "9\n",
      "10\n"
     ]
    }
   ],
   "source": [
    "# Assignment 6: while Loop\n",
    "# Write a program that prints all the numbers from 1 to 10 using a while loop.\n",
    "n = 10\n",
    "count = 1\n",
    "\n",
    "while(count <= n):\n",
    "    print(count)\n",
    "    count += 1"
   ]
  },
  {
   "cell_type": "code",
   "execution_count": 21,
   "id": "59eb5ca5",
   "metadata": {},
   "outputs": [
    {
     "name": "stdout",
     "output_type": "stream",
     "text": [
      "* * * * * \n",
      "* * * * * \n",
      "* * * * * \n",
      "* * * * * \n",
      "* * * * * \n"
     ]
    }
   ],
   "source": [
    "# Assignment 7: Nested Loops\n",
    "# Write a program that prints a 5x5 grid of asterisks (*) using nested loops.\n",
    "\n",
    "for i in range(5):\n",
    "    for j in range(5):\n",
    "        print(\"*\", end=\" \")\n",
    "    print()"
   ]
  },
  {
   "cell_type": "code",
   "execution_count": 22,
   "id": "c4e19fc2",
   "metadata": {},
   "outputs": [
    {
     "name": "stdout",
     "output_type": "stream",
     "text": [
      "Total Sum =>  15\n"
     ]
    }
   ],
   "source": [
    "# Assignment 8: break Statement\n",
    "# Write a program that asks the user to input numbers until they input 0. The program should print the sum of all the input numbers\n",
    "sum = 0\n",
    "\n",
    "while True:\n",
    "    n = int(input(\"Enter the number, (0 to stop)\"))\n",
    "    if (n == 0):\n",
    "        break\n",
    "    sum = sum + n\n",
    "print(\"Total Sum => \", sum)"
   ]
  },
  {
   "cell_type": "code",
   "execution_count": 2,
   "id": "c34ddabf",
   "metadata": {},
   "outputs": [
    {
     "name": "stdout",
     "output_type": "stream",
     "text": [
      "1\n",
      "2\n",
      "3\n",
      "4\n",
      "6\n",
      "7\n",
      "8\n",
      "9\n",
      "10\n"
     ]
    }
   ],
   "source": [
    "# Assignment 9: continue Statement\n",
    "# Write a program that prints all the numbers from 1 to 10 except 5 using a for loop and continue statement.\n",
    "for i in range(1, 11):\n",
    "    if (i == 5):\n",
    "        continue\n",
    "    print(i)"
   ]
  },
  {
   "cell_type": "code",
   "execution_count": 3,
   "id": "b9a64383",
   "metadata": {},
   "outputs": [],
   "source": [
    "# Assignment 10: pass Statement\n",
    "# Write a program that defines an empty function using the pass statement.\n",
    "def my_function():\n",
    "    pass\n",
    "\n",
    "# call the fn\n",
    "my_function()"
   ]
  },
  {
   "cell_type": "code",
   "execution_count": 5,
   "id": "22cf0168",
   "metadata": {},
   "outputs": [
    {
     "name": "stdout",
     "output_type": "stream",
     "text": [
      "2\n",
      "4\n",
      "6\n",
      "8\n",
      "10\n"
     ]
    }
   ],
   "source": [
    "# Assignment 11: Combining Loops and Conditionals\n",
    "# Write a program that asks the user to input a number and prints all the even numbers from 1 to that number using a for loop.\n",
    "n = int(input(\"Enter the number:\"))\n",
    "\n",
    "for i in range(1, n+1):\n",
    "    if (i%2 == 0):\n",
    "        print(i)"
   ]
  },
  {
   "cell_type": "code",
   "execution_count": 9,
   "id": "e8ef2823",
   "metadata": {},
   "outputs": [
    {
     "name": "stdout",
     "output_type": "stream",
     "text": [
      "The Factorial of 5 is 120\n"
     ]
    }
   ],
   "source": [
    "# Assignment 12: Factorial Calculation\n",
    "# Write a program that calculates the factorial of a number input by the user using a while loop.\n",
    "n = int(input(\"Enter the no:\"))\n",
    "fac = 1\n",
    "i = 1\n",
    "\n",
    "while (i <= n):\n",
    "    fac = fac * i\n",
    "    i += 1\n",
    "print(\"The Factorial of\", n, \"is\", fac) "
   ]
  },
  {
   "cell_type": "code",
   "execution_count": 14,
   "id": "fff303b1",
   "metadata": {},
   "outputs": [
    {
     "name": "stdout",
     "output_type": "stream",
     "text": [
      "Sum of digits => 18\n"
     ]
    }
   ],
   "source": [
    "# Assignment 13: Sum of Digits\n",
    "number = int(input(\"Enter the number:\"))\n",
    "res = 0\n",
    "\n",
    "while (number > 0):\n",
    "    digit = number % 10\n",
    "    res = res*1 + digit\n",
    "    number = number // 10\n",
    "\n",
    "print(\"Sum of digits =>\", res)"
   ]
  },
  {
   "cell_type": "code",
   "execution_count": 23,
   "id": "9bccf0ae",
   "metadata": {},
   "outputs": [
    {
     "name": "stdout",
     "output_type": "stream",
     "text": [
      "Prime\n"
     ]
    }
   ],
   "source": [
    "# Assignment 14: Prime Number Check\n",
    "# Write a program that checks if a number input by the user is a prime number using a for loop.\n",
    "number = int(input(\"Enter the no:\"))\n",
    "\n",
    "if (number <= 1):\n",
    "    print(\"Composite\")\n",
    "else:\n",
    "    flag = False\n",
    "    for i in range(2, number):\n",
    "        if (number%i == 0):\n",
    "            flag = True\n",
    "            break\n",
    "    if (flag == True):\n",
    "        print(\"Composite\")\n",
    "    else:\n",
    "        print(\"Prime\")"
   ]
  },
  {
   "cell_type": "code",
   "execution_count": null,
   "id": "9ccc43c8",
   "metadata": {},
   "outputs": [
    {
     "name": "stdout",
     "output_type": "stream",
     "text": [
      "0\n",
      "1\n",
      "1\n",
      "2\n",
      "3\n"
     ]
    }
   ],
   "source": [
    "# Assignment 15: Fibonacci Sequence\n",
    "n = int(input(\"Enter the no of terms:\"))\n",
    "\n",
    "a = 0\n",
    "b = 1\n",
    "\n",
    "print(\"Fibonacci Sequence\")\n",
    "for i in range(n):\n",
    "    print(a)\n",
    "    a, b = b, a+b"
   ]
  }
 ],
 "metadata": {
  "kernelspec": {
   "display_name": "Python 3",
   "language": "python",
   "name": "python3"
  },
  "language_info": {
   "codemirror_mode": {
    "name": "ipython",
    "version": 3
   },
   "file_extension": ".py",
   "mimetype": "text/x-python",
   "name": "python",
   "nbconvert_exporter": "python",
   "pygments_lexer": "ipython3",
   "version": "3.12.0"
  }
 },
 "nbformat": 4,
 "nbformat_minor": 5
}
