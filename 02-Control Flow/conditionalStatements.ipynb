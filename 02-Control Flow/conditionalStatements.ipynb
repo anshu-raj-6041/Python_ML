{
 "cells": [
  {
   "cell_type": "code",
   "execution_count": 6,
   "id": "7ffce90c",
   "metadata": {},
   "outputs": [],
   "source": [
    "# if statement\n",
    "age = 10\n",
    "\n",
    "if (age >= 18):\n",
    "    print(\"U are allowed to vote\")"
   ]
  },
  {
   "cell_type": "code",
   "execution_count": 7,
   "id": "4c276bf2",
   "metadata": {},
   "outputs": [
    {
     "data": {
      "text/plain": [
       "False"
      ]
     },
     "execution_count": 7,
     "metadata": {},
     "output_type": "execute_result"
    }
   ],
   "source": [
    "age >= 18"
   ]
  },
  {
   "cell_type": "code",
   "execution_count": 8,
   "id": "4aca924f",
   "metadata": {},
   "outputs": [
    {
     "name": "stdout",
     "output_type": "stream",
     "text": [
      "Can't vote\n"
     ]
    }
   ],
   "source": [
    "# else\n",
    "age = 10\n",
    "if (age >= 18):\n",
    "    print(\"Can vote\")\n",
    "else:\n",
    "    print(\"Can't vote\")"
   ]
  },
  {
   "cell_type": "code",
   "execution_count": 13,
   "id": "c9d7028d",
   "metadata": {},
   "outputs": [
    {
     "name": "stdout",
     "output_type": "stream",
     "text": [
      "U are teenager\n"
     ]
    }
   ],
   "source": [
    "# elif\n",
    "age = 13\n",
    "\n",
    "if (age < 13):\n",
    "    print(\"U are child\")\n",
    "elif (age < 18):\n",
    "    print(\"U are teenager\")\n",
    "else:\n",
    "    print(\"U are adult\")"
   ]
  },
  {
   "cell_type": "code",
   "execution_count": null,
   "id": "66715708",
   "metadata": {},
   "outputs": [],
   "source": [
    "# Nested Conditional Statement"
   ]
  },
  {
   "cell_type": "code",
   "execution_count": 18,
   "id": "a7c15a3e",
   "metadata": {},
   "outputs": [
    {
     "name": "stdout",
     "output_type": "stream",
     "text": [
      "Result is =>  40.0\n"
     ]
    }
   ],
   "source": [
    "# Practical Example\n",
    "# Simple Calculator\n",
    "num1 = float(input(\"Enter the First no:\"))\n",
    "num2 = float(input(\"Enter the Second no:\"))\n",
    "op = input(\"Enter the operation (+, -, *, %):\")\n",
    "\n",
    "if (op == '+'):\n",
    "    result = num1 + num2\n",
    "elif (op == '-'):\n",
    "    result = num1 - num2\n",
    "elif (op == '*'):\n",
    "    result = num1 * num2\n",
    "elif (op == '/'):\n",
    "    if (num2 != 0):\n",
    "        result = num1 / num2\n",
    "    else:\n",
    "        result = \"Error, Divison by 0 not possible\"\n",
    "else:\n",
    "    print(\"Invalid Operator\")\n",
    "\n",
    "print(\"Result is => \", result)"
   ]
  },
  {
   "cell_type": "code",
   "execution_count": 19,
   "id": "afc2d238",
   "metadata": {},
   "outputs": [
    {
     "name": "stdout",
     "output_type": "stream",
     "text": [
      "$18\n"
     ]
    }
   ],
   "source": [
    "# Ticket Price\n",
    "age = int(input(\"Enter the age: \"))\n",
    "isStudent = input(\"Are U a student? (Yes/No):\")\n",
    "\n",
    "if (age < 5):\n",
    "    print(\"Free\")\n",
    "elif (age <= 12):\n",
    "    print(\"$10\")\n",
    "elif (age <= 17):\n",
    "    if (isStudent == 'yes'):\n",
    "        print(\"$12\")\n",
    "    else: \n",
    "        print(\"$15\")\n",
    "elif (age <= 65):\n",
    "    if (isStudent == 'yes'):\n",
    "        print(\"$18\")\n",
    "    else:\n",
    "        print(\"$25\")\n",
    "else:\n",
    "    print(\"$20\")"
   ]
  },
  {
   "cell_type": "code",
   "execution_count": null,
   "id": "b6e4dbc4",
   "metadata": {},
   "outputs": [],
   "source": []
  }
 ],
 "metadata": {
  "kernelspec": {
   "display_name": "Python 3",
   "language": "python",
   "name": "python3"
  },
  "language_info": {
   "codemirror_mode": {
    "name": "ipython",
    "version": 3
   },
   "file_extension": ".py",
   "mimetype": "text/x-python",
   "name": "python",
   "nbconvert_exporter": "python",
   "pygments_lexer": "ipython3",
   "version": "3.12.0"
  }
 },
 "nbformat": 4,
 "nbformat_minor": 5
}
