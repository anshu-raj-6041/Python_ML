{
 "cells": [
  {
   "cell_type": "markdown",
   "id": "bf5e82b0",
   "metadata": {},
   "source": [
    "Decorators are a powerful and flexible feature in Python that allows u to modify the behaviour of a fn or class method\n",
    "They are commonly used to add functionality to fn or methods without modifying their actual code."
   ]
  },
  {
   "cell_type": "code",
   "execution_count": null,
   "id": "11c6364b",
   "metadata": {},
   "outputs": [],
   "source": [
    "# function copy\n",
    "# closures\n",
    "# decorators"
   ]
  },
  {
   "cell_type": "code",
   "execution_count": 7,
   "id": "949bf6b5",
   "metadata": {},
   "outputs": [
    {
     "data": {
      "text/plain": [
       "'Welcome to the advanced Python course'"
      ]
     },
     "execution_count": 7,
     "metadata": {},
     "output_type": "execute_result"
    }
   ],
   "source": [
    "# fn copy\n",
    "def welcome():\n",
    "    return \"Welcome to the advanced Python course\"\n",
    "\n",
    "welcome()"
   ]
  },
  {
   "cell_type": "code",
   "execution_count": 8,
   "id": "d207179e",
   "metadata": {},
   "outputs": [
    {
     "name": "stdout",
     "output_type": "stream",
     "text": [
      "Welcome to the advanced Python course\n",
      "Welcome to the advanced Python course\n"
     ]
    }
   ],
   "source": [
    "wel = welcome\n",
    "print(wel())\n",
    "del welcome\n",
    "print(wel())"
   ]
  },
  {
   "cell_type": "code",
   "execution_count": 13,
   "id": "672e816a",
   "metadata": {},
   "outputs": [],
   "source": [
    "# closures fn :: fn inside fn\n",
    "def mainWelcome():\n",
    "    msg = \"Welcome\"\n",
    "    def subWelcomeMethod():\n",
    "        print(\"Welcome to the advance Python course\")\n",
    "        print(msg)\n",
    "        print(\"Learn the concept properly\")\n",
    "    return subWelcomeMethod()"
   ]
  },
  {
   "cell_type": "code",
   "execution_count": 14,
   "id": "4de7efb6",
   "metadata": {},
   "outputs": [
    {
     "name": "stdout",
     "output_type": "stream",
     "text": [
      "Welcome to the advance Python course\n",
      "Welcome\n",
      "Learn the concept properly\n"
     ]
    }
   ],
   "source": [
    "mainWelcome()"
   ]
  },
  {
   "cell_type": "code",
   "execution_count": null,
   "id": "6e8293e2",
   "metadata": {},
   "outputs": [],
   "source": [
    "\n",
    "def mainWelcome(func):\n",
    "\n",
    "    def subWelcomeMethod():\n",
    "        print(\"Welcome to the advance Python course\")\n",
    "        func(\"Hello\")\n",
    "        print(\"Learn the concept properly\")\n",
    "    return subWelcomeMethod()"
   ]
  },
  {
   "cell_type": "code",
   "execution_count": 18,
   "id": "62292f7d",
   "metadata": {},
   "outputs": [
    {
     "name": "stdout",
     "output_type": "stream",
     "text": [
      "Welcome to the advance Python course\n",
      "Hello\n",
      "Learn the concept properly\n"
     ]
    }
   ],
   "source": [
    "mainWelcome(print)"
   ]
  },
  {
   "cell_type": "code",
   "execution_count": 19,
   "id": "e6e2de4d",
   "metadata": {},
   "outputs": [],
   "source": [
    "\n",
    "def mainWelcome(func, lst):\n",
    "\n",
    "    def subWelcomeMethod():\n",
    "        print(\"Welcome to the advance Python course\")\n",
    "        print(func(lst))\n",
    "        print(\"Learn the concept properly\")\n",
    "    return subWelcomeMethod()"
   ]
  },
  {
   "cell_type": "code",
   "execution_count": 20,
   "id": "162488e3",
   "metadata": {},
   "outputs": [
    {
     "name": "stdout",
     "output_type": "stream",
     "text": [
      "Welcome to the advance Python course\n",
      "5\n",
      "Learn the concept properly\n"
     ]
    }
   ],
   "source": [
    "mainWelcome(len, [1, 2, 3, 4, 5])"
   ]
  },
  {
   "cell_type": "code",
   "execution_count": 21,
   "id": "676dab28",
   "metadata": {},
   "outputs": [],
   "source": [
    "# Decorators\n",
    "\n",
    "def mainWelcome(func):\n",
    "\n",
    "    def subWelcomeMethod():\n",
    "        print(\"Welcome to the advance Python course\")\n",
    "        func()\n",
    "        print(\"Learn the concept properly\")\n",
    "    return subWelcomeMethod()"
   ]
  },
  {
   "cell_type": "code",
   "execution_count": 22,
   "id": "e33dba48",
   "metadata": {},
   "outputs": [
    {
     "name": "stdout",
     "output_type": "stream",
     "text": [
      "This is an advanced Python course\n"
     ]
    }
   ],
   "source": [
    "def courseIntro():\n",
    "    print(\"This is an advanced Python course\")\n",
    "\n",
    "courseIntro()"
   ]
  },
  {
   "cell_type": "code",
   "execution_count": 25,
   "id": "4efce160",
   "metadata": {},
   "outputs": [
    {
     "name": "stdout",
     "output_type": "stream",
     "text": [
      "Welcome to the advance Python course\n",
      "This is an advanced Python course\n",
      "Learn the concept properly\n"
     ]
    }
   ],
   "source": [
    "mainWelcome(courseIntro)"
   ]
  },
  {
   "cell_type": "code",
   "execution_count": 26,
   "id": "e9541cc7",
   "metadata": {},
   "outputs": [
    {
     "name": "stdout",
     "output_type": "stream",
     "text": [
      "Welcome to the advance Python course\n",
      "This is an advanced Python course\n",
      "Learn the concept properly\n"
     ]
    }
   ],
   "source": [
    "# use of decorators\n",
    "@mainWelcome\n",
    "def courseIntro():\n",
    "    print(\"This is an advanced Python course\")"
   ]
  },
  {
   "cell_type": "code",
   "execution_count": 27,
   "id": "9cf7b059",
   "metadata": {},
   "outputs": [],
   "source": [
    "# Ex 2:\n",
    "def myDecorator(func):\n",
    "    def wrapper():\n",
    "        print(\"Something is happening before the fn is called.\")\n",
    "        func()\n",
    "        print(\"Something is happening after the fn is called.\")\n",
    "    return wrapper"
   ]
  },
  {
   "cell_type": "code",
   "execution_count": 28,
   "id": "9f970139",
   "metadata": {},
   "outputs": [],
   "source": [
    "@myDecorator\n",
    "def sayHello():\n",
    "    print(\"Hello\")"
   ]
  },
  {
   "cell_type": "code",
   "execution_count": 29,
   "id": "406133f3",
   "metadata": {},
   "outputs": [
    {
     "name": "stdout",
     "output_type": "stream",
     "text": [
      "Something is happening before the fn is called.\n",
      "Hello\n",
      "Something is happening after the fn is called.\n"
     ]
    }
   ],
   "source": [
    "sayHello()"
   ]
  },
  {
   "cell_type": "code",
   "execution_count": 30,
   "id": "a1daa622",
   "metadata": {},
   "outputs": [],
   "source": [
    "# Decorator with argument\n",
    "def repeat(n):\n",
    "    def decorator(func):\n",
    "        def wrapper(*args, **kwargs):\n",
    "            for _ in range(n):\n",
    "                func(*args, **kwargs)\n",
    "        return wrapper\n",
    "    return decorator\n",
    "            "
   ]
  },
  {
   "cell_type": "code",
   "execution_count": 31,
   "id": "81ab1052",
   "metadata": {},
   "outputs": [],
   "source": [
    "@repeat(3)\n",
    "def sayHello():\n",
    "    print(\"Hello\")"
   ]
  },
  {
   "cell_type": "code",
   "execution_count": 32,
   "id": "826690a2",
   "metadata": {},
   "outputs": [
    {
     "name": "stdout",
     "output_type": "stream",
     "text": [
      "Hello\n",
      "Hello\n",
      "Hello\n"
     ]
    }
   ],
   "source": [
    "sayHello()"
   ]
  },
  {
   "cell_type": "code",
   "execution_count": null,
   "id": "618712b1",
   "metadata": {},
   "outputs": [],
   "source": []
  }
 ],
 "metadata": {
  "kernelspec": {
   "display_name": "Python 3",
   "language": "python",
   "name": "python3"
  },
  "language_info": {
   "codemirror_mode": {
    "name": "ipython",
    "version": 3
   },
   "file_extension": ".py",
   "mimetype": "text/x-python",
   "name": "python",
   "nbconvert_exporter": "python",
   "pygments_lexer": "ipython3",
   "version": "3.12.0"
  }
 },
 "nbformat": 4,
 "nbformat_minor": 5
}
