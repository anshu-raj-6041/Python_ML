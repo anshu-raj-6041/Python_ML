{
 "cells": [
  {
   "cell_type": "markdown",
   "id": "9618442e",
   "metadata": {},
   "source": [
    "Iterators are advance topic in Python that allow efficient looping and memory management."
   ]
  },
  {
   "cell_type": "code",
   "execution_count": 16,
   "id": "64b9639e",
   "metadata": {},
   "outputs": [
    {
     "name": "stdout",
     "output_type": "stream",
     "text": [
      "1\n",
      "2\n",
      "3\n",
      "4\n",
      "5\n"
     ]
    }
   ],
   "source": [
    "myList = [1, 2, 3, 4, 5]\n",
    "for i in myList:\n",
    "    print(i)"
   ]
  },
  {
   "cell_type": "code",
   "execution_count": 17,
   "id": "234b9a23",
   "metadata": {},
   "outputs": [
    {
     "name": "stdout",
     "output_type": "stream",
     "text": [
      "<class 'list_iterator'>\n"
     ]
    }
   ],
   "source": [
    "# Iterator\n",
    "iterator = iter(myList)\n",
    "print(type(iterator))"
   ]
  },
  {
   "cell_type": "code",
   "execution_count": 3,
   "id": "4a90da92",
   "metadata": {},
   "outputs": [
    {
     "data": {
      "text/plain": [
       "<list_iterator at 0x27b4d0e4c10>"
      ]
     },
     "execution_count": 3,
     "metadata": {},
     "output_type": "execute_result"
    }
   ],
   "source": [
    "iterator"
   ]
  },
  {
   "cell_type": "code",
   "execution_count": 3,
   "id": "48d82e30",
   "metadata": {},
   "outputs": [
    {
     "ename": "NameError",
     "evalue": "name 'iterator' is not defined",
     "output_type": "error",
     "traceback": [
      "\u001b[31m---------------------------------------------------------------------------\u001b[39m",
      "\u001b[31mNameError\u001b[39m                                 Traceback (most recent call last)",
      "\u001b[36mCell\u001b[39m\u001b[36m \u001b[39m\u001b[32mIn[3]\u001b[39m\u001b[32m, line 2\u001b[39m\n\u001b[32m      1\u001b[39m \u001b[38;5;66;03m# Iterate through all the element \u001b[39;00m\n\u001b[32m----> \u001b[39m\u001b[32m2\u001b[39m \u001b[38;5;28mnext\u001b[39m(\u001b[43miterator\u001b[49m)\n",
      "\u001b[31mNameError\u001b[39m: name 'iterator' is not defined"
     ]
    }
   ],
   "source": [
    "# Iterate through all the element \n",
    "next(iterator)"
   ]
  },
  {
   "cell_type": "code",
   "execution_count": 7,
   "id": "4e9802df",
   "metadata": {},
   "outputs": [
    {
     "ename": "NameError",
     "evalue": "name 'myList' is not defined",
     "output_type": "error",
     "traceback": [
      "\u001b[31m---------------------------------------------------------------------------\u001b[39m",
      "\u001b[31mNameError\u001b[39m                                 Traceback (most recent call last)",
      "\u001b[36mCell\u001b[39m\u001b[36m \u001b[39m\u001b[32mIn[7]\u001b[39m\u001b[32m, line 1\u001b[39m\n\u001b[32m----> \u001b[39m\u001b[32m1\u001b[39m iterator = \u001b[38;5;28miter\u001b[39m(\u001b[43mmyList\u001b[49m)\n",
      "\u001b[31mNameError\u001b[39m: name 'myList' is not defined"
     ]
    }
   ],
   "source": [
    "iterator = iter(myList)\n"
   ]
  },
  {
   "cell_type": "code",
   "execution_count": 8,
   "id": "862ce414",
   "metadata": {},
   "outputs": [
    {
     "ename": "NameError",
     "evalue": "name 'iterator' is not defined",
     "output_type": "error",
     "traceback": [
      "\u001b[31m---------------------------------------------------------------------------\u001b[39m",
      "\u001b[31mNameError\u001b[39m                                 Traceback (most recent call last)",
      "\u001b[36mCell\u001b[39m\u001b[36m \u001b[39m\u001b[32mIn[8]\u001b[39m\u001b[32m, line 4\u001b[39m\n\u001b[32m      1\u001b[39m \u001b[38;5;66;03m# iterator = iter(myList)\u001b[39;00m\n\u001b[32m      3\u001b[39m \u001b[38;5;28;01mtry\u001b[39;00m:\n\u001b[32m----> \u001b[39m\u001b[32m4\u001b[39m     \u001b[38;5;28mprint\u001b[39m(\u001b[38;5;28mnext\u001b[39m(\u001b[43miterator\u001b[49m))\n\u001b[32m      5\u001b[39m \u001b[38;5;28;01mexcept\u001b[39;00m \u001b[38;5;167;01mStopIteration\u001b[39;00m:\n\u001b[32m      6\u001b[39m     \u001b[38;5;28mprint\u001b[39m(\u001b[33m\"\u001b[39m\u001b[33mThere are no elements in the iterator\u001b[39m\u001b[33m\"\u001b[39m)\n",
      "\u001b[31mNameError\u001b[39m: name 'iterator' is not defined"
     ]
    }
   ],
   "source": [
    "# iterator = iter(myList)\n",
    "\n",
    "try:\n",
    "    print(next(iterator))\n",
    "except StopIteration:\n",
    "    print(\"There are no elements in the iterator\")\n"
   ]
  },
  {
   "cell_type": "code",
   "execution_count": 25,
   "id": "c3c9a155",
   "metadata": {},
   "outputs": [
    {
     "name": "stdout",
     "output_type": "stream",
     "text": [
      "H\n",
      "e\n"
     ]
    }
   ],
   "source": [
    "# String Iterator\n",
    "myString = \"Hello\"\n",
    "stringIterator = iter(myString)\n",
    "\n",
    "print(next(stringIterator))\n",
    "print(next(stringIterator))"
   ]
  },
  {
   "cell_type": "code",
   "execution_count": null,
   "id": "889abf25",
   "metadata": {},
   "outputs": [],
   "source": []
  }
 ],
 "metadata": {
  "kernelspec": {
   "display_name": "Python 3",
   "language": "python",
   "name": "python3"
  },
  "language_info": {
   "codemirror_mode": {
    "name": "ipython",
    "version": 3
   },
   "file_extension": ".py",
   "mimetype": "text/x-python",
   "name": "python",
   "nbconvert_exporter": "python",
   "pygments_lexer": "ipython3",
   "version": "3.12.0"
  }
 },
 "nbformat": 4,
 "nbformat_minor": 5
}
