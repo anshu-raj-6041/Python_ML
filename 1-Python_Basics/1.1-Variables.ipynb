{
 "cells": [
  {
   "cell_type": "code",
   "execution_count": 1,
   "id": "f2f5bf2e",
   "metadata": {},
   "outputs": [],
   "source": [
    "a = 100"
   ]
  },
  {
   "cell_type": "code",
   "execution_count": 6,
   "id": "f39e9e89",
   "metadata": {},
   "outputs": [
    {
     "name": "stdout",
     "output_type": "stream",
     "text": [
      "Age =>  32\n",
      "Name =>  Modi\n",
      "Height =>  6.1\n"
     ]
    }
   ],
   "source": [
    "# Declaring and Assigning var\n",
    "age = 32\n",
    "height = 6.1\n",
    "name = \"Modi\"\n",
    "is_student = True\n",
    "\n",
    "print(\"Age => \", age)\n",
    "print(\"Name => \", name)\n",
    "print(\"Height => \", height)"
   ]
  },
  {
   "cell_type": "code",
   "execution_count": 7,
   "id": "27ab472e",
   "metadata": {},
   "outputs": [],
   "source": [
    "# Naming Convention\n",
    "# variable name should be descriptive\n",
    "# must start with letters or '_' and contain letters, numbers and underscore\n",
    "# var names are case sensitive\n",
    "\n",
    "# valid var names \n",
    "first_name = \"Anshu\"\n",
    "last_name = \"Raj\""
   ]
  },
  {
   "cell_type": "code",
   "execution_count": null,
   "id": "cdad1dba",
   "metadata": {},
   "outputs": [
    {
     "ename": "SyntaxError",
     "evalue": "cannot assign to expression here. Maybe you meant '==' instead of '='? (445596001.py, line 3)",
     "output_type": "error",
     "traceback": [
      "  \u001b[36mCell\u001b[39m\u001b[36m \u001b[39m\u001b[32mIn[8]\u001b[39m\u001b[32m, line 3\u001b[39m\n\u001b[31m    \u001b[39m\u001b[31mfirst-name = \"Modi\"\u001b[39m\n    ^\n\u001b[31mSyntaxError\u001b[39m\u001b[31m:\u001b[39m cannot assign to expression here. Maybe you meant '==' instead of '='?\n"
     ]
    }
   ],
   "source": [
    "# Invalid var names \n",
    "# 2age = 30\n",
    "# first-name = \"Modi\"\n",
    "# @name = \"Anshu\""
   ]
  },
  {
   "cell_type": "code",
   "execution_count": 10,
   "id": "3c795b96",
   "metadata": {},
   "outputs": [
    {
     "data": {
      "text/plain": [
       "False"
      ]
     },
     "execution_count": 10,
     "metadata": {},
     "output_type": "execute_result"
    }
   ],
   "source": [
    "# Case Sensitivity\n",
    "name = \"Anshu\"\n",
    "Name = \"Raj\"\n",
    "\n",
    "name == Name"
   ]
  },
  {
   "cell_type": "code",
   "execution_count": 14,
   "id": "4a996c3e",
   "metadata": {},
   "outputs": [
    {
     "name": "stdout",
     "output_type": "stream",
     "text": [
      "<class 'str'>\n"
     ]
    }
   ],
   "source": [
    "# Understanding var types\n",
    "# Python is dynamically typed, type of var is determined at run-time\n",
    "age = 25    #int \n",
    "height = 6.1    #float\n",
    "name = \"Anshu\"  #String\n",
    "is_student = True   #boolean\n",
    "\n",
    "print(type(name))"
   ]
  },
  {
   "cell_type": "code",
   "execution_count": 15,
   "id": "cada96b4",
   "metadata": {},
   "outputs": [
    {
     "data": {
      "text/plain": [
       "float"
      ]
     },
     "execution_count": 15,
     "metadata": {},
     "output_type": "execute_result"
    }
   ],
   "source": [
    "# Type checking\n",
    "type(height)"
   ]
  },
  {
   "cell_type": "code",
   "execution_count": 16,
   "id": "0a97a37d",
   "metadata": {},
   "outputs": [
    {
     "name": "stdout",
     "output_type": "stream",
     "text": [
      "<class 'int'>\n",
      "25\n",
      "<class 'str'>\n"
     ]
    }
   ],
   "source": [
    "# Type Conversion\n",
    "age = 25\n",
    "print(type(age))\n",
    "\n",
    "age_str = str(age)\n",
    "print(age_str)\n",
    "print(type(age_str))"
   ]
  },
  {
   "cell_type": "code",
   "execution_count": 17,
   "id": "01da23ba",
   "metadata": {},
   "outputs": [
    {
     "name": "stdout",
     "output_type": "stream",
     "text": [
      "<class 'str'>\n",
      "25\n",
      "<class 'int'>\n"
     ]
    }
   ],
   "source": [
    "age = \"25\"\n",
    "print(type(age))\n",
    "\n",
    "age_int = int(age)\n",
    "print(age_int)\n",
    "print(type(age_int))"
   ]
  },
  {
   "cell_type": "code",
   "execution_count": null,
   "id": "a62a8a45",
   "metadata": {},
   "outputs": [],
   "source": [
    "name = \"anshu\""
   ]
  },
  {
   "cell_type": "code",
   "execution_count": 19,
   "id": "5ca9eaa9",
   "metadata": {},
   "outputs": [
    {
     "name": "stdout",
     "output_type": "stream",
     "text": [
      "10 <class 'int'>\n",
      "Hello <class 'str'>\n"
     ]
    }
   ],
   "source": [
    "# Dynamic Typing\n",
    "# Python allows the type of a var to change as the program executes\n",
    "var = 10\n",
    "print(var, type(var))\n",
    "\n",
    "var = \"Hello\"\n",
    "print(var, type(var))"
   ]
  },
  {
   "cell_type": "code",
   "execution_count": 21,
   "id": "eaa8a49a",
   "metadata": {},
   "outputs": [
    {
     "name": "stdout",
     "output_type": "stream",
     "text": [
      "20 <class 'int'>\n"
     ]
    }
   ],
   "source": [
    "# input\n",
    "age = int(input(\"Age\"))\n",
    "print(age, type(age))"
   ]
  },
  {
   "cell_type": "code",
   "execution_count": 22,
   "id": "3f21fb0d",
   "metadata": {},
   "outputs": [
    {
     "name": "stdout",
     "output_type": "stream",
     "text": [
      "Sum =>  30.0\n",
      "Difference =>  10.0\n",
      "Product =>  200.0\n",
      "Divide =>  2.0\n"
     ]
    }
   ],
   "source": [
    "# Simple Calculator\n",
    "num1 = float(input(\"Enter the First no: \"))\n",
    "num2 = float(input(\"Enter the Second no: \"))\n",
    "\n",
    "sum = num1 + num2\n",
    "diff = num1 - num2\n",
    "product = num1 * num2\n",
    "divide = num1 / num2\n",
    "\n",
    "print(\"Sum => \", sum)\n",
    "print(\"Difference => \", diff)\n",
    "print(\"Product => \", product)\n",
    "print(\"Divide => \", divide)"
   ]
  },
  {
   "cell_type": "code",
   "execution_count": null,
   "id": "72312a48",
   "metadata": {},
   "outputs": [],
   "source": []
  }
 ],
 "metadata": {
  "kernelspec": {
   "display_name": "Python 3",
   "language": "python",
   "name": "python3"
  },
  "language_info": {
   "codemirror_mode": {
    "name": "ipython",
    "version": 3
   },
   "file_extension": ".py",
   "mimetype": "text/x-python",
   "name": "python",
   "nbconvert_exporter": "python",
   "pygments_lexer": "ipython3",
   "version": "3.12.0"
  }
 },
 "nbformat": 4,
 "nbformat_minor": 5
}
