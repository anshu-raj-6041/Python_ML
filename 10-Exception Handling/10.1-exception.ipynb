{
 "cells": [
  {
   "cell_type": "markdown",
   "id": "fbf08e8a",
   "metadata": {},
   "source": [
    "Exception are events that disrupts the normal flow of a program.\n",
    "They occur when an error is encountered during program execution.\n",
    "Common exceptions include:\n",
    "1> Divide by 0\n",
    "2> File not found \n",
    "3> Invalid value \n",
    "4> Invalid type"
   ]
  },
  {
   "cell_type": "code",
   "execution_count": 1,
   "id": "3af43a3a",
   "metadata": {},
   "outputs": [
    {
     "name": "stdout",
     "output_type": "stream",
     "text": [
      "The variable has not been assigned\n"
     ]
    }
   ],
   "source": [
    "# Exception try, except block\n",
    "\n",
    "try:\n",
    "    a=b\n",
    "except:\n",
    "    print(\"The variable has not been assigned\")"
   ]
  },
  {
   "cell_type": "code",
   "execution_count": 2,
   "id": "39e4141d",
   "metadata": {},
   "outputs": [
    {
     "name": "stdout",
     "output_type": "stream",
     "text": [
      "name 'b' is not defined\n"
     ]
    }
   ],
   "source": [
    "# Exception try, except block\n",
    "\n",
    "try:\n",
    "    a=b\n",
    "except NameError as ex:\n",
    "    print(ex)"
   ]
  },
  {
   "cell_type": "code",
   "execution_count": 5,
   "id": "629513a2",
   "metadata": {},
   "outputs": [
    {
     "name": "stdout",
     "output_type": "stream",
     "text": [
      "division by zero\n",
      "Please enter denominator other than 0\n"
     ]
    }
   ],
   "source": [
    "try:\n",
    "    result = 1/0\n",
    "except ZeroDivisionError as ex:\n",
    "    print(ex)\n",
    "    print(\"Please enter denominator other than 0\")"
   ]
  },
  {
   "cell_type": "code",
   "execution_count": 9,
   "id": "a3862f56",
   "metadata": {},
   "outputs": [
    {
     "name": "stdout",
     "output_type": "stream",
     "text": [
      "name 'b' is not defined\n",
      "Main exception got caught here\n"
     ]
    }
   ],
   "source": [
    "try:\n",
    "    result = 1/2\n",
    "    a=b\n",
    "except ZeroDivisionError as ex:\n",
    "    print(ex)\n",
    "    print(\"Please enter denominator other than 0\")\n",
    "except Exception as ex1:\n",
    "    print(ex1)\n",
    "    print(\"Main exception got caught here\")"
   ]
  },
  {
   "cell_type": "code",
   "execution_count": null,
   "id": "06139e34",
   "metadata": {},
   "outputs": [
    {
     "name": "stdout",
     "output_type": "stream",
     "text": [
      "0.2222222222222222\n"
     ]
    }
   ],
   "source": [
    "try:\n",
    "    n = int(input(\"Enter a number\"))\n",
    "    result = 10/n\n",
    "except ValueError:\n",
    "    print(\"Not a valid no\") \n",
    "except ZeroDivisionError:\n",
    "    print(\"Enter denominator > 0\")\n",
    "except Exception as ex:\n",
    "    print(ex)"
   ]
  },
  {
   "cell_type": "code",
   "execution_count": 15,
   "id": "f9ac79b1",
   "metadata": {},
   "outputs": [
    {
     "name": "stdout",
     "output_type": "stream",
     "text": [
      "Enter denominator > 0\n"
     ]
    }
   ],
   "source": [
    "try:\n",
    "    n = int(input(\"Enter a number\"))\n",
    "    result = 10/n\n",
    "except ValueError:\n",
    "    print(\"Not a valid no\") \n",
    "except ZeroDivisionError:\n",
    "    print(\"Enter denominator > 0\")\n",
    "except Exception as ex:\n",
    "    print(ex)\n",
    "else:\n",
    "    print(f\"The result is {result}\")"
   ]
  },
  {
   "cell_type": "code",
   "execution_count": 17,
   "id": "9f00590c",
   "metadata": {},
   "outputs": [
    {
     "name": "stdout",
     "output_type": "stream",
     "text": [
      "Enter denominator > 0\n",
      "Execution completed\n"
     ]
    }
   ],
   "source": [
    "# try, except, else, finally\n",
    "try:\n",
    "    n = int(input(\"Enter a number\"))\n",
    "    result = 10/n\n",
    "except ValueError:\n",
    "    print(\"Not a valid no\") \n",
    "except ZeroDivisionError:\n",
    "    print(\"Enter denominator > 0\")\n",
    "except Exception as ex:\n",
    "    print(ex)\n",
    "else:\n",
    "    print(f\"The result is {result}\")\n",
    "finally:\n",
    "    print(\"Execution completed\")"
   ]
  },
  {
   "cell_type": "code",
   "execution_count": null,
   "id": "fa2a2f15",
   "metadata": {},
   "outputs": [
    {
     "name": "stdout",
     "output_type": "stream",
     "text": [
      "Hello World\n",
      "File closed\n"
     ]
    }
   ],
   "source": [
    "# File handling and Exception handling\n",
    "try:\n",
    "    file = open(\"example1.txt\", \"r\")\n",
    "    content = file.read()\n",
    "    a = b\n",
    "    print(content)\n",
    "\n",
    "except FileNotFoundError:\n",
    "    print(\"The file does not exist\")\n",
    "except Exception as ex:\n",
    "    print(ex)\n",
    "\n",
    "finally:\n",
    "    if 'file' in locals() or not file.closed():\n",
    "        file.close()\n",
    "        print(\"File closed\")"
   ]
  },
  {
   "cell_type": "code",
   "execution_count": null,
   "id": "0d31f337",
   "metadata": {},
   "outputs": [],
   "source": []
  },
  {
   "cell_type": "code",
   "execution_count": null,
   "id": "1b4ba335",
   "metadata": {},
   "outputs": [],
   "source": []
  }
 ],
 "metadata": {
  "kernelspec": {
   "display_name": "Python 3",
   "language": "python",
   "name": "python3"
  },
  "language_info": {
   "codemirror_mode": {
    "name": "ipython",
    "version": 3
   },
   "file_extension": ".py",
   "mimetype": "text/x-python",
   "name": "python",
   "nbconvert_exporter": "python",
   "pygments_lexer": "ipython3",
   "version": "3.12.0"
  }
 },
 "nbformat": 4,
 "nbformat_minor": 5
}
