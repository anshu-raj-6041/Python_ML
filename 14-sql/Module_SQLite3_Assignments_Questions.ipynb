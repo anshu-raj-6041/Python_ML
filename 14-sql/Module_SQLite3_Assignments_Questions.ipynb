{
 "cells": [
  {
   "cell_type": "markdown",
   "id": "964cf61d",
   "metadata": {},
   "source": [
    "# Module: SQLite3 Assignments\n",
    "## Lesson: SQLite3\n",
    "### Assignment 1: Creating and Connecting to a Database\n",
    "\n",
    "1. Write a Python function to create a new SQLite3 database named `test.db`.\n",
    "2. Write a Python function to create a table named `employees` with columns `id` (integer), `name` (text), `age` (integer), and `department` (text) in the `test.db` database.\n",
    "\n",
    "### Assignment 2: Inserting Data\n",
    "\n",
    "1. Write a Python function to insert a new employee into the `employees` table.\n",
    "2. Insert at least 5 different employees into the `employees` table.\n",
    "\n",
    "### Assignment 3: Querying Data\n",
    "\n",
    "1. Write a Python function to fetch and display all records from the `employees` table.\n",
    "2. Write a Python function to fetch and display all employees from a specific department.\n",
    "\n",
    "### Assignment 4: Updating Data\n",
    "\n",
    "1. Write a Python function to update the department of an employee based on their `id`.\n",
    "2. Update the department of at least 2 employees and display the updated records.\n",
    "\n",
    "### Assignment 5: Deleting Data\n",
    "\n",
    "1. Write a Python function to delete an employee from the `employees` table based on their `id`.\n",
    "2. Delete at least 1 employee and display the remaining records.\n",
    "\n",
    "### Assignment 6: Advanced Queries\n",
    "\n",
    "1. Write a Python function to fetch and display employees older than a certain age.\n",
    "2. Write a Python function to fetch and display employees whose names start with a specific letter.\n",
    "\n",
    "### Assignment 7: Handling Transactions\n",
    "\n",
    "1. Write a Python function to insert multiple employees into the `employees` table in a single transaction. Ensure that if any insertion fails, none of the insertions are committed.\n",
    "2. Write a Python function to update the age of multiple employees in a single transaction. Ensure that if any update fails, none of the updates are committed.\n",
    "\n",
    "### Assignment 8: Creating Relationships\n",
    "\n",
    "1. Create a new table named `departments` with columns `id` (integer) and `name` (text).\n",
    "2. Modify the `employees` table to include a foreign key referencing the `id` column in the `departments` table.\n",
    "3. Write a Python function to insert data into both the `departments` and `employees` tables, ensuring referential integrity.\n",
    "\n",
    "### Assignment 9: Indexing and Optimization\n",
    "\n",
    "1. Create an index on the `name` column of the `employees` table.\n",
    "2. Write a Python function to fetch and display all employees whose names start with a specific letter. Compare the performance with and without the index.\n",
    "\n",
    "### Assignment 10: Backing Up and Restoring Data\n",
    "\n",
    "1. Write a Python function to back up the `test.db` database to a file named `backup.db`.\n",
    "2. Write a Python function to restore the `test.db` database from the `backup.db` file."
   ]
  },
  {
   "cell_type": "code",
   "execution_count": 27,
   "metadata": {},
   "outputs": [
    {
     "name": "stdout",
     "output_type": "stream",
     "text": [
      "DB created and successfully connected\n"
     ]
    }
   ],
   "source": [
    "# Assignment 1: Creating and Connecting to a Database\n",
    "# 1. Write a Python function to create a new SQLite3 database named `test.db`.\n",
    "import sqlite3\n",
    "\n",
    "def create_db():\n",
    "    connection = sqlite3.connect(\"test.db\")\n",
    "    connection.close()\n",
    "    print(\"DB created and successfully connected\")\n",
    "\n",
    "# To test the fn\n",
    "create_db()"
   ]
  },
  {
   "cell_type": "code",
   "execution_count": 28,
   "id": "addab59a",
   "metadata": {},
   "outputs": [],
   "source": [
    "# 2. Write a Python function to create a table named `employees` with columns `id` (integer), `name` (text), `age` (integer), and `department` (text) in the `test.db` database."
   ]
  },
  {
   "cell_type": "code",
   "execution_count": 29,
   "id": "bb42b66a",
   "metadata": {},
   "outputs": [
    {
     "name": "stdout",
     "output_type": "stream",
     "text": [
      "Table employees created successfully\n"
     ]
    }
   ],
   "source": [
    "def create_table():\n",
    "    connection = sqlite3.connect(\"test.db\")\n",
    "    cursor = connection.cursor()\n",
    "    cursor.execute('''\n",
    "    Create Table IF NOT EXISTS Employees(\n",
    "            id INTEGER PRIMARY KEY,\n",
    "            name TEXT NOT NULL,\n",
    "            age INTEGER,\n",
    "            department TEXT\n",
    ")\n",
    "''')\n",
    "\n",
    "\n",
    "    connection.commit()\n",
    "    connection.close()\n",
    "    print(\"Table employees created successfully\")\n",
    "\n",
    "# Test the fn \n",
    "create_table()\n",
    "\n"
   ]
  },
  {
   "cell_type": "code",
   "execution_count": 31,
   "id": "2c8bac3b",
   "metadata": {},
   "outputs": [
    {
     "name": "stdout",
     "output_type": "stream",
     "text": [
      "Employee 'Elon' added successfully.\n"
     ]
    }
   ],
   "source": [
    "# Assignment 2: Inserting Data\n",
    "# 1. Write a Python function to insert a new employee into the `employees` table.\n",
    "import sqlite3\n",
    "\n",
    "def insert_data(name, age, department):\n",
    "    connection = sqlite3.connect(\"test.db\")\n",
    "    cursor = connection.cursor()\n",
    "    cursor.execute('''\n",
    "        INSERT INTO employees(name, age, department)\n",
    "        VALUES(?, ?, ?)\n",
    "''',(name, age, department))\n",
    "    \n",
    "    connection.commit()\n",
    "    connection.close()\n",
    "    print(f\"Employee '{name}' added successfully.\")\n",
    "\n",
    "# Test the fn\n",
    "insert_data(\"Elon\", 45, \"Scientist\")"
   ]
  },
  {
   "cell_type": "code",
   "execution_count": null,
   "id": "7688c4ec",
   "metadata": {},
   "outputs": [],
   "source": [
    "# 1. Write a Python function to fetch and display all records from the `employees` table.\n"
   ]
  }
 ],
 "metadata": {
  "kernelspec": {
   "display_name": "venv",
   "language": "python",
   "name": "python3"
  },
  "language_info": {
   "codemirror_mode": {
    "name": "ipython",
    "version": 3
   },
   "file_extension": ".py",
   "mimetype": "text/x-python",
   "name": "python",
   "nbconvert_exporter": "python",
   "pygments_lexer": "ipython3",
   "version": "3.12.0"
  }
 },
 "nbformat": 4,
 "nbformat_minor": 5
}
