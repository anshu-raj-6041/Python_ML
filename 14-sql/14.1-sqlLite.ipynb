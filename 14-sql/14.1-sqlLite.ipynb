{
 "cells": [
  {
   "cell_type": "markdown",
   "id": "e7aeb23b",
   "metadata": {},
   "source": [
    "SQL and SQLite\n",
    "SQL(Structured Query Language) is a standard language for managing and manipulating relational DB.\n",
    "SQLite is a self-contained and zero-configuration DB engine that is widely used for embedded database system."
   ]
  },
  {
   "cell_type": "code",
   "execution_count": 51,
   "id": "f115d2fa",
   "metadata": {},
   "outputs": [],
   "source": [
    "import sqlite3"
   ]
  },
  {
   "cell_type": "code",
   "execution_count": 52,
   "id": "251b9f34",
   "metadata": {},
   "outputs": [
    {
     "data": {
      "text/plain": [
       "<sqlite3.Connection at 0x26a086114e0>"
      ]
     },
     "execution_count": 52,
     "metadata": {},
     "output_type": "execute_result"
    }
   ],
   "source": [
    "# Connect to an SQLite DB\n",
    "connection = sqlite3.connect(\"example.db\")\n",
    "connection"
   ]
  },
  {
   "cell_type": "code",
   "execution_count": 53,
   "id": "004dde45",
   "metadata": {},
   "outputs": [],
   "source": [
    "cursor = connection.cursor()"
   ]
  },
  {
   "cell_type": "code",
   "execution_count": 54,
   "id": "724b76af",
   "metadata": {},
   "outputs": [],
   "source": [
    "# create a Table\n",
    "cursor.execute('''\n",
    "Create Table if not Exists employees(\n",
    "                id Integer Primary Key,\n",
    "                name Text Not Null,\n",
    "                age Integer,\n",
    "                department text\n",
    "                )\n",
    "''')\n",
    "\n",
    "# Commit the changes\n",
    "connection.commit()"
   ]
  },
  {
   "cell_type": "code",
   "execution_count": 55,
   "id": "285493fc",
   "metadata": {},
   "outputs": [],
   "source": [
    "# create a Table\n",
    "cursor.execute('''\n",
    "Select * from employees\n",
    "''')\n",
    "\n",
    "# Commit the changes\n",
    "connection.commit()"
   ]
  },
  {
   "cell_type": "code",
   "execution_count": 56,
   "id": "940a13ed",
   "metadata": {},
   "outputs": [],
   "source": [
    "# Insert the data from sqlite table\n",
    "cursor.execute('''\n",
    "Insert Into employees(name, age, department)\n",
    "               values(\"Anshu\", 22, \"Data Scientist\")\n",
    "''')\n",
    "\n",
    "cursor.execute('''\n",
    "Insert Into employees(name, age, department)\n",
    "               values(\"Modi\", 65, \"Politics\")\n",
    "''')\n",
    "\n",
    "\n",
    "cursor.execute('''\n",
    "Insert Into employees(name, age, department)\n",
    "               values(\"Elon\", 45, \"Scientist\")\n",
    "''')\n",
    "\n",
    "connection.commit()"
   ]
  },
  {
   "cell_type": "code",
   "execution_count": 57,
   "id": "b5f7bcf2",
   "metadata": {},
   "outputs": [
    {
     "name": "stdout",
     "output_type": "stream",
     "text": [
      "(1, 'Anshu', 20, 'Data Scientist')\n",
      "(3, 'Elon', 45, 'Scientist')\n",
      "(4, 'Anshu', 20, 'Data Scientist')\n",
      "(6, 'Elon', 45, 'Scientist')\n",
      "(7, 'Anshu', 20, 'Data Scientist')\n",
      "(9, 'Elon', 45, 'Scientist')\n",
      "(10, 'Anshu', 22, 'Data Scientist')\n",
      "(11, 'Modi', 65, 'Politics')\n",
      "(12, 'Elon', 45, 'Scientist')\n",
      "(13, 'Anshu', 22, 'Data Scientist')\n",
      "(14, 'Modi', 65, 'Politics')\n",
      "(15, 'Elon', 45, 'Scientist')\n",
      "(16, 'Anshu', 22, 'Data Scientist')\n",
      "(17, 'Modi', 65, 'Politics')\n",
      "(18, 'Elon', 45, 'Scientist')\n",
      "(19, 'Anshu', 22, 'Data Scientist')\n",
      "(20, 'Modi', 65, 'Politics')\n",
      "(21, 'Elon', 45, 'Scientist')\n"
     ]
    }
   ],
   "source": [
    "# Query the data form the table \n",
    "cursor.execute(\"Select * from employees\")\n",
    "rows = cursor.fetchall()\n",
    "\n",
    "# print the queried data\n",
    "for row in rows:\n",
    "    print(row)"
   ]
  },
  {
   "cell_type": "code",
   "execution_count": 58,
   "id": "52b294d5",
   "metadata": {},
   "outputs": [],
   "source": [
    "# Update the data in table\n",
    "cursor.execute('''\n",
    "UPDATE employees\n",
    "Set age = 20\n",
    "where name = \"Anshu\"\n",
    "''')\n",
    "\n",
    "connection.commit()"
   ]
  },
  {
   "cell_type": "code",
   "execution_count": 59,
   "id": "d50f3b25",
   "metadata": {},
   "outputs": [
    {
     "name": "stdout",
     "output_type": "stream",
     "text": [
      "(1, 'Anshu', 20, 'Data Scientist')\n",
      "(3, 'Elon', 45, 'Scientist')\n",
      "(4, 'Anshu', 20, 'Data Scientist')\n",
      "(6, 'Elon', 45, 'Scientist')\n",
      "(7, 'Anshu', 20, 'Data Scientist')\n",
      "(9, 'Elon', 45, 'Scientist')\n",
      "(10, 'Anshu', 20, 'Data Scientist')\n",
      "(11, 'Modi', 65, 'Politics')\n",
      "(12, 'Elon', 45, 'Scientist')\n",
      "(13, 'Anshu', 20, 'Data Scientist')\n",
      "(14, 'Modi', 65, 'Politics')\n",
      "(15, 'Elon', 45, 'Scientist')\n",
      "(16, 'Anshu', 20, 'Data Scientist')\n",
      "(17, 'Modi', 65, 'Politics')\n",
      "(18, 'Elon', 45, 'Scientist')\n",
      "(19, 'Anshu', 20, 'Data Scientist')\n",
      "(20, 'Modi', 65, 'Politics')\n",
      "(21, 'Elon', 45, 'Scientist')\n"
     ]
    }
   ],
   "source": [
    "# Query the data form the table \n",
    "cursor.execute(\"Select * from employees\")\n",
    "rows = cursor.fetchall()\n",
    "\n",
    "# print the queried data\n",
    "for row in rows:\n",
    "    print(row)"
   ]
  },
  {
   "cell_type": "code",
   "execution_count": 60,
   "id": "f5207d03",
   "metadata": {},
   "outputs": [],
   "source": [
    "# Delete the data from Table\n",
    "cursor.execute('''\n",
    "Delete from employees\n",
    "               where name = \"Modi\"\n",
    "''')\n",
    "\n",
    "connection.commit()\n"
   ]
  },
  {
   "cell_type": "code",
   "execution_count": 61,
   "id": "81ab27e3",
   "metadata": {},
   "outputs": [
    {
     "name": "stdout",
     "output_type": "stream",
     "text": [
      "(1, 'Anshu', 20, 'Data Scientist')\n",
      "(3, 'Elon', 45, 'Scientist')\n",
      "(4, 'Anshu', 20, 'Data Scientist')\n",
      "(6, 'Elon', 45, 'Scientist')\n",
      "(7, 'Anshu', 20, 'Data Scientist')\n",
      "(9, 'Elon', 45, 'Scientist')\n",
      "(10, 'Anshu', 20, 'Data Scientist')\n",
      "(12, 'Elon', 45, 'Scientist')\n",
      "(13, 'Anshu', 20, 'Data Scientist')\n",
      "(15, 'Elon', 45, 'Scientist')\n",
      "(16, 'Anshu', 20, 'Data Scientist')\n",
      "(18, 'Elon', 45, 'Scientist')\n",
      "(19, 'Anshu', 20, 'Data Scientist')\n",
      "(21, 'Elon', 45, 'Scientist')\n"
     ]
    }
   ],
   "source": [
    "# Query the data form the table \n",
    "cursor.execute(\"Select * from employees\")\n",
    "rows = cursor.fetchall()\n",
    "\n",
    "# print the queried data\n",
    "for row in rows:\n",
    "    print(row)"
   ]
  },
  {
   "cell_type": "code",
   "execution_count": 62,
   "id": "8166c898",
   "metadata": {},
   "outputs": [],
   "source": [
    "# Working with Sales Data\n",
    "connection = sqlite3.connect(\"sales_data.db\")\n",
    "cursor = connection.cursor()\n",
    "\n",
    "# create a table for sales data\n",
    "cursor.execute('''\n",
    "CREATE TABLE IF NOT EXISTS sales(\n",
    "               id INTEGER PRIMARY KEY,\n",
    "               date TEXT NOT NULL,\n",
    "               product TEXT NOT NULL,\n",
    "               sales INTEGER,\n",
    "               region TEXT\n",
    ")\n",
    "''')\n",
    "\n",
    "# Insert data into the sales table\n",
    "sales_data = [\n",
    "    ('2023-01-01', 'Product1', 100, 'North'),\n",
    "    ('2023-01-02', 'Product2', 200, 'South'),\n",
    "    ('2023-01-03', 'Product1', 150, 'East'),\n",
    "    ('2023-01-04', 'Product3', 250, 'West'),\n",
    "    ('2023-01-05', 'Product2', 300, 'North')\n",
    "]\n",
    "\n",
    "cursor.executemany('''\n",
    "INSERT into sales(date, product, sales, region)\n",
    "                   values(?,?,?,?)\n",
    "''', sales_data)\n",
    "\n",
    "connection.commit()"
   ]
  },
  {
   "cell_type": "code",
   "execution_count": 63,
   "id": "d05e06f4",
   "metadata": {},
   "outputs": [
    {
     "ename": "OperationalError",
     "evalue": "no such table: employees",
     "output_type": "error",
     "traceback": [
      "\u001b[31m---------------------------------------------------------------------------\u001b[39m",
      "\u001b[31mOperationalError\u001b[39m                          Traceback (most recent call last)",
      "\u001b[36mCell\u001b[39m\u001b[36m \u001b[39m\u001b[32mIn[63]\u001b[39m\u001b[32m, line 2\u001b[39m\n\u001b[32m      1\u001b[39m \u001b[38;5;66;03m# Query the data form the table \u001b[39;00m\n\u001b[32m----> \u001b[39m\u001b[32m2\u001b[39m \u001b[43mcursor\u001b[49m\u001b[43m.\u001b[49m\u001b[43mexecute\u001b[49m\u001b[43m(\u001b[49m\u001b[33;43m\"\u001b[39;49m\u001b[33;43mSelect * from employees\u001b[39;49m\u001b[33;43m\"\u001b[39;49m\u001b[43m)\u001b[49m\n\u001b[32m      3\u001b[39m rows = cursor.fetchall()\n\u001b[32m      5\u001b[39m \u001b[38;5;66;03m# print the queried data\u001b[39;00m\n",
      "\u001b[31mOperationalError\u001b[39m: no such table: employees"
     ]
    }
   ],
   "source": [
    "# Query the data form the table \n",
    "cursor.execute(\"Select * from employees\")\n",
    "rows = cursor.fetchall()\n",
    "\n",
    "# print the queried data\n",
    "for row in rows:\n",
    "    print(row)"
   ]
  },
  {
   "cell_type": "code",
   "execution_count": null,
   "id": "dd460283",
   "metadata": {},
   "outputs": [],
   "source": [
    "connection.close()"
   ]
  },
  {
   "cell_type": "code",
   "execution_count": null,
   "id": "03982692",
   "metadata": {},
   "outputs": [],
   "source": []
  }
 ],
 "metadata": {
  "kernelspec": {
   "display_name": "venv",
   "language": "python",
   "name": "python3"
  },
  "language_info": {
   "codemirror_mode": {
    "name": "ipython",
    "version": 3
   },
   "file_extension": ".py",
   "mimetype": "text/x-python",
   "name": "python",
   "nbconvert_exporter": "python",
   "pygments_lexer": "ipython3",
   "version": "3.12.0"
  }
 },
 "nbformat": 4,
 "nbformat_minor": 5
}
