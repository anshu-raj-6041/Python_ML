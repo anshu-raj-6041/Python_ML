{
 "cells": [
  {
   "cell_type": "markdown",
   "id": "df88e572",
   "metadata": {},
   "source": [
    "Program => A program is a seq of instructions written in programming language. Eg :: Google Chrome, Word, Excel\n",
    "Process => A Process is an instance of a program that is being executed.\n",
    "> Separate Memory Space\n",
    "> I/O Requirements\n",
    "Thread => A Thread is a unit of execution within a process.\n",
    "> Single Threaded Process\n",
    "> Multi Threaded Process"
   ]
  }
 ],
 "metadata": {
  "language_info": {
   "name": "python"
  }
 },
 "nbformat": 4,
 "nbformat_minor": 5
}
