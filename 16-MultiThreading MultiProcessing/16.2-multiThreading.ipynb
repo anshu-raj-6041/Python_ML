{
 "cells": [
  {
   "cell_type": "code",
   "execution_count": null,
   "id": "0a66afa8",
   "metadata": {},
   "outputs": [],
   "source": [
    "# MultiThreading\n",
    "# When to use Multi Threading ? \n",
    "# I/O bound tasks: Tasks that spend more time waiting for I/O operations. (eg. file operation)\n",
    "# Concurrent execution: When u wnt to improve the throughput of ur application by performing mul op concurrently."
   ]
  },
  {
   "cell_type": "code",
   "execution_count": null,
   "id": "ce971d77",
   "metadata": {},
   "outputs": [],
   "source": [
    "import threading\n",
    "import time\n",
    "\n",
    "def print_no():\n",
    "    for i in range(5):\n",
    "        print(f\"Number: {i}\")\n",
    "\n",
    "def print_letter():\n",
    "    for letter in range(5):\n",
    "        print(f\"Letter: {letter}\")"
   ]
  },
  {
   "cell_type": "code",
   "execution_count": null,
   "id": "7dba3c2a",
   "metadata": {},
   "outputs": [],
   "source": []
  }
 ],
 "metadata": {
  "kernelspec": {
   "display_name": "Python 3",
   "language": "python",
   "name": "python3"
  },
  "language_info": {
   "codemirror_mode": {
    "name": "ipython",
    "version": 3
   },
   "file_extension": ".py",
   "mimetype": "text/x-python",
   "name": "python",
   "nbconvert_exporter": "python",
   "pygments_lexer": "ipython3",
   "version": "3.12.0"
  }
 },
 "nbformat": 4,
 "nbformat_minor": 5
}
