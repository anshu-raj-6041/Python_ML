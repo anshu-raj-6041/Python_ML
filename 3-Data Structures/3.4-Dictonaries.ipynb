{
 "cells": [
  {
   "cell_type": "code",
   "execution_count": null,
   "id": "ad5decaf",
   "metadata": {},
   "outputs": [],
   "source": [
    "# Dictionaries are unordered collection of items.\n",
    "# They store data in key-value pair. \n",
    "# Keys must be unique and immutable (eg. strings, numbers) while values can be of any type.\n",
    "# items = keys + values"
   ]
  },
  {
   "cell_type": "code",
   "execution_count": 1,
   "id": "cc2b5314",
   "metadata": {},
   "outputs": [
    {
     "name": "stdout",
     "output_type": "stream",
     "text": [
      "{}\n",
      "<class 'dict'>\n"
     ]
    }
   ],
   "source": [
    "# creating dictionaries\n",
    "empty_dict = {}\n",
    "print(empty_dict)\n",
    "print(type(empty_dict))"
   ]
  },
  {
   "cell_type": "code",
   "execution_count": null,
   "id": "a8888396",
   "metadata": {},
   "outputs": [
    {
     "name": "stdout",
     "output_type": "stream",
     "text": [
      "{}\n",
      "<class 'dict'>\n"
     ]
    }
   ],
   "source": [
    "# another way to create empty dict\n",
    "empty_dict = dict()\n",
    "print(empty_dict)\n",
    "print(type(empty_dict))"
   ]
  },
  {
   "cell_type": "code",
   "execution_count": 6,
   "id": "978557d9",
   "metadata": {},
   "outputs": [
    {
     "name": "stdout",
     "output_type": "stream",
     "text": [
      "{'name': 'Anshu', 'age': 22, 'grade': 'A+'}\n"
     ]
    }
   ],
   "source": [
    "student = {\"name\":\"Anshu\", \"age\":22, \"grade\":\"A+\"}\n",
    "print(student)"
   ]
  },
  {
   "cell_type": "code",
   "execution_count": 15,
   "id": "d26248e1",
   "metadata": {},
   "outputs": [
    {
     "name": "stdout",
     "output_type": "stream",
     "text": [
      "{'name': 'Anshu', 'age': 22, 'grade': 'A+'}\n"
     ]
    }
   ],
   "source": [
    "# accessing Dictionary elements\n",
    "student = {\"name\":\"Anshu\", \"age\":22, \"grade\":\"A+\"}\n",
    "print(student)\n"
   ]
  },
  {
   "cell_type": "code",
   "execution_count": 19,
   "id": "1b18a658",
   "metadata": {},
   "outputs": [
    {
     "name": "stdout",
     "output_type": "stream",
     "text": [
      "A+\n",
      "22\n",
      "A+\n",
      "None\n",
      "Not available\n"
     ]
    }
   ],
   "source": [
    "print(student[\"grade\"])\n",
    "print(student[\"age\"])\n",
    "# print(student[\"lastName\"])\n",
    "\n",
    "\n",
    "# Accessing using get() method\n",
    "print(student.get(\"grade\"))\n",
    "print(student.get(\"lastName\"))\n",
    "print(student.get(\"lastName\", \"Not available\"))"
   ]
  },
  {
   "cell_type": "code",
   "execution_count": 26,
   "id": "22351793",
   "metadata": {},
   "outputs": [
    {
     "name": "stdout",
     "output_type": "stream",
     "text": [
      "{'name': 'Anshu', 'age': 33, 'grade': 'A+', 'address': 'India'}\n"
     ]
    }
   ],
   "source": [
    "# Modifying Dictionary elements\n",
    "# Dictionaries are mutable, so u can add, update or delete elements\n",
    "print(student)"
   ]
  },
  {
   "cell_type": "code",
   "execution_count": null,
   "id": "80603866",
   "metadata": {},
   "outputs": [
    {
     "name": "stdout",
     "output_type": "stream",
     "text": [
      "{'name': 'Anshu', 'age': 33, 'grade': 'A+'}\n",
      "{'name': 'Anshu', 'age': 33, 'grade': 'A+', 'address': 'India'}\n"
     ]
    }
   ],
   "source": [
    "student[\"age\"] = 33     # updated value for the key\n",
    "print(student)\n",
    "\n",
    "student[\"address\"] = \"India\"    # added a new key and value\n",
    "print(student)"
   ]
  },
  {
   "cell_type": "code",
   "execution_count": 34,
   "id": "22203b92",
   "metadata": {},
   "outputs": [
    {
     "name": "stdout",
     "output_type": "stream",
     "text": [
      "{'name': 'Anshu', 'age': 22}\n"
     ]
    }
   ],
   "source": [
    "del student[\"grade\"]    # delete key and value pair\n",
    "print(student)"
   ]
  },
  {
   "cell_type": "code",
   "execution_count": null,
   "id": "8a35ce70",
   "metadata": {},
   "outputs": [
    {
     "name": "stdout",
     "output_type": "stream",
     "text": [
      "dict_keys(['name', 'age'])\n",
      "dict_values(['Anshu', 22])\n",
      "dict_items([('name', 'Anshu'), ('age', 22)])\n"
     ]
    }
   ],
   "source": [
    "# Dictionay methods\n",
    "keys = student.keys()\n",
    "print(keys)\n",
    "\n",
    "values = student.values()\n",
    "print(values)\n",
    "\n",
    "items = student.items()     # get all key-value pair\n",
    "print(items)"
   ]
  },
  {
   "cell_type": "code",
   "execution_count": 9,
   "id": "9e9f8b9c",
   "metadata": {},
   "outputs": [
    {
     "name": "stdout",
     "output_type": "stream",
     "text": [
      "{'name': 'Modi3', 'age': 22, 'grade': 'A+'}\n",
      "{'name': 'Modi3', 'age': 22, 'grade': 'A+'}\n"
     ]
    }
   ],
   "source": [
    "# shallow copy\n",
    "student_cpy = student\n",
    "print(student)\n",
    "print(student_cpy)"
   ]
  },
  {
   "cell_type": "code",
   "execution_count": 17,
   "id": "599d9e6f",
   "metadata": {},
   "outputs": [
    {
     "name": "stdout",
     "output_type": "stream",
     "text": [
      "{'name': 'Modi', 'age': 22, 'grade': 'A+'}\n",
      "{'name': 'Modi3', 'age': 22, 'grade': 'A+'}\n"
     ]
    }
   ],
   "source": [
    "\n",
    "student[\"name\"] = \"Modi\"\n",
    "print(student)\n",
    "print(student_cpy)"
   ]
  },
  {
   "cell_type": "code",
   "execution_count": 16,
   "id": "82e71517",
   "metadata": {},
   "outputs": [
    {
     "name": "stdout",
     "output_type": "stream",
     "text": [
      "{'name': 'Anshu', 'age': 22, 'grade': 'A+'}\n",
      "{'name': 'Anshu', 'age': 22, 'grade': 'A+'}\n"
     ]
    }
   ],
   "source": [
    "student_cpy1 = student.copy()   # shallow copy\n",
    "print(student_cpy1)\n",
    "print(student)"
   ]
  },
  {
   "cell_type": "code",
   "execution_count": 18,
   "id": "6b167588",
   "metadata": {},
   "outputs": [
    {
     "name": "stdout",
     "output_type": "stream",
     "text": [
      "{'name': 'Anshu', 'age': 22, 'grade': 'A+'}\n",
      "{'name': 'Modi3', 'age': 22, 'grade': 'A+'}\n"
     ]
    }
   ],
   "source": [
    "student[\"name\"] = \"Modi3\"\n",
    "print(student_cpy1)\n",
    "print(student)"
   ]
  },
  {
   "cell_type": "code",
   "execution_count": 25,
   "id": "0d0e5639",
   "metadata": {},
   "outputs": [
    {
     "name": "stdout",
     "output_type": "stream",
     "text": [
      "name\n",
      "age\n",
      "grade\n"
     ]
    }
   ],
   "source": [
    "# Iterating over Dictionaries\n",
    "# we can use loops to iterate over dictionaries, keys, values and items\n",
    "\n",
    "# Iterating over keys\n",
    "for key in student.keys():\n",
    "    print(key)\n",
    "\n"
   ]
  },
  {
   "cell_type": "code",
   "execution_count": 24,
   "id": "cbd59cd1",
   "metadata": {},
   "outputs": [
    {
     "name": "stdout",
     "output_type": "stream",
     "text": [
      "Modi3\n",
      "22\n",
      "A+\n"
     ]
    }
   ],
   "source": [
    "# Iterating over values\n",
    "for value in student.values():\n",
    "    print(value)"
   ]
  },
  {
   "cell_type": "code",
   "execution_count": 28,
   "id": "66f6c98b",
   "metadata": {},
   "outputs": [
    {
     "name": "stdout",
     "output_type": "stream",
     "text": [
      "name : Modi3\n",
      "age : 22\n",
      "grade : A+\n"
     ]
    }
   ],
   "source": [
    "# Iterating over key-value pair\n",
    "for key,value in student.items():\n",
    "    print(f\"{key} : {value}\")"
   ]
  },
  {
   "cell_type": "code",
   "execution_count": 31,
   "id": "98210ec9",
   "metadata": {},
   "outputs": [
    {
     "name": "stdout",
     "output_type": "stream",
     "text": [
      "{'student1': {'name': 'Anshu', 'age': 22}, 'student2': {'name': 'Modi', 'age': 65}}\n"
     ]
    }
   ],
   "source": [
    "# Nested Dictionaries\n",
    "students = {\n",
    "    \"student1\":{\"name\":\"Anshu\", \"age\":22},\n",
    "    \"student2\":{\"name\":\"Modi\", \"age\":65}\n",
    "}\n",
    "print(students)"
   ]
  },
  {
   "cell_type": "code",
   "execution_count": 33,
   "id": "d937cde7",
   "metadata": {},
   "outputs": [
    {
     "name": "stdout",
     "output_type": "stream",
     "text": [
      "Modi\n",
      "65\n"
     ]
    }
   ],
   "source": [
    "# Access nested Dictionaries elements\n",
    "print(students[\"student2\"][\"name\"])\n",
    "print(students[\"student2\"][\"age\"])"
   ]
  },
  {
   "cell_type": "code",
   "execution_count": 34,
   "id": "1349bc1e",
   "metadata": {},
   "outputs": [
    {
     "data": {
      "text/plain": [
       "dict_items([('student1', {'name': 'Anshu', 'age': 22}), ('student2', {'name': 'Modi', 'age': 65})])"
      ]
     },
     "execution_count": 34,
     "metadata": {},
     "output_type": "execute_result"
    }
   ],
   "source": [
    "students.items()"
   ]
  },
  {
   "cell_type": "code",
   "execution_count": 40,
   "id": "c40a5308",
   "metadata": {},
   "outputs": [
    {
     "name": "stdout",
     "output_type": "stream",
     "text": [
      "student1:{'name': 'Anshu', 'age': 22}\n",
      "name : Anshu\n",
      "age : 22\n",
      "student2:{'name': 'Modi', 'age': 65}\n",
      "name : Modi\n",
      "age : 65\n"
     ]
    }
   ],
   "source": [
    "# iterating over nested dictionaries\n",
    "for student_id, student_info in students.items():\n",
    "    print(f\"{student_id}:{student_info}\")\n",
    "    for key,value in student_info.items():\n",
    "        print(f\"{key} : {value}\")"
   ]
  },
  {
   "cell_type": "code",
   "execution_count": null,
   "id": "c05a3d5d",
   "metadata": {},
   "outputs": [
    {
     "name": "stdout",
     "output_type": "stream",
     "text": [
      "{0: 0, 1: 1, 2: 4, 3: 9, 4: 16}\n"
     ]
    }
   ],
   "source": [
    "# Dictionary comprehension\n",
    "squares = {x: x**2 for x in range(5)}\n",
    "print(squares)"
   ]
  },
  {
   "cell_type": "code",
   "execution_count": null,
   "id": "10235c17",
   "metadata": {},
   "outputs": [
    {
     "name": "stdout",
     "output_type": "stream",
     "text": [
      "{0: 0, 2: 4, 4: 16, 6: 36, 8: 64}\n"
     ]
    }
   ],
   "source": [
    "# Conditional Dictionary comprehension\n",
    "evens = {x:x**2 for x in range(10) if x%2==0}   # even hona chahiye\n",
    "print(evens)"
   ]
  },
  {
   "cell_type": "code",
   "execution_count": 43,
   "id": "c4dce4bf",
   "metadata": {},
   "outputs": [
    {
     "name": "stdout",
     "output_type": "stream",
     "text": [
      "{1: 1, 2: 2, 3: 2, 4: 4, 5: 2}\n"
     ]
    }
   ],
   "source": [
    "# Practical uses \n",
    "# use a Dictionay to count the frequency of elements is list\n",
    "numbers = [1, 2, 2, 3, 4, 3, 4, 5, 4, 4, 5]\n",
    "frequency = {}\n",
    "\n",
    "for number in numbers:\n",
    "    if number in frequency:\n",
    "        frequency[number] += 1\n",
    "    else:\n",
    "        frequency[number] = 1\n",
    "print(frequency)"
   ]
  },
  {
   "cell_type": "code",
   "execution_count": 45,
   "id": "6c997ac0",
   "metadata": {},
   "outputs": [
    {
     "name": "stdout",
     "output_type": "stream",
     "text": [
      "{'a': 1, 'b': 3, 'c': 4}\n"
     ]
    }
   ],
   "source": [
    "# Merge 2 Dictionaries into one\n",
    "dict1 = {\"a\" : 1, \"b\" : 2}\n",
    "dict2 = {\"b\" : 3, \"c\" : 4}\n",
    "\n",
    "merge_dict = {**dict1, **dict2}\n",
    "print(merge_dict)"
   ]
  },
  {
   "cell_type": "code",
   "execution_count": null,
   "id": "8b695dd8",
   "metadata": {},
   "outputs": [],
   "source": []
  }
 ],
 "metadata": {
  "kernelspec": {
   "display_name": "Python 3",
   "language": "python",
   "name": "python3"
  },
  "language_info": {
   "codemirror_mode": {
    "name": "ipython",
    "version": 3
   },
   "file_extension": ".py",
   "mimetype": "text/x-python",
   "name": "python",
   "nbconvert_exporter": "python",
   "pygments_lexer": "ipython3",
   "version": "3.12.0"
  }
 },
 "nbformat": 4,
 "nbformat_minor": 5
}
