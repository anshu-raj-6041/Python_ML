{
 "cells": [
  {
   "cell_type": "markdown",
   "id": "6cade624",
   "metadata": {},
   "source": [
    "# Module 3: Data Structures Assignments\n",
    "## Lesson 3.2: Tuples\n",
    "### Assignment 1: Creating and Accessing Tuples\n",
    "\n",
    "Create a tuple with the first 10 positive integers. Print the tuple.\n",
    "\n",
    "### Assignment 2: Accessing Tuple Elements\n",
    "\n",
    "Print the first, middle, and last elements of the tuple created in Assignment 1.\n",
    "\n",
    "### Assignment 3: Tuple Slicing\n",
    "\n",
    "Print the first three elements, the last three elements, and the elements from index 2 to 5 of the tuple created in Assignment 1.\n",
    "\n",
    "### Assignment 4: Nested Tuples\n",
    "\n",
    "Create a nested tuple representing a 3x3 matrix and print the matrix. Access and print the element at the second row and third column.\n",
    "\n",
    "### Assignment 5: Tuple Concatenation\n",
    "\n",
    "Concatenate two tuples: (1, 2, 3) and (4, 5, 6). Print the resulting tuple.\n",
    "\n",
    "### Assignment 6: Tuple Methods\n",
    "\n",
    "Create a tuple with duplicate elements and count the occurrences of an element. Find the index of the first occurrence of an element in the tuple.\n",
    "\n",
    "### Assignment 7: Unpacking Tuples\n",
    "\n",
    "Create a tuple with 5 elements and unpack it into 5 variables. Print the variables.\n",
    "\n",
    "### Assignment 8: Tuple Conversion\n",
    "\n",
    "Convert a list of the first 5 positive integers to a tuple. Print the tuple.\n",
    "\n",
    "### Assignment 9: Tuple of Tuples\n",
    "\n",
    "Create a tuple containing 3 tuples, each with 3 elements. Print the tuple of tuples.\n",
    "\n",
    "### Assignment 10: Tuple and List\n",
    "\n",
    "Create a tuple with the first 5 positive integers. Convert it to a list, append the number 6, and convert it back to a tuple. Print the resulting tuple.\n",
    "\n",
    "### Assignment 11: Tuple and String\n",
    "\n",
    "Create a tuple with the characters of a string. Join the tuple elements into a single string. Print the string.\n",
    "\n",
    "### Assignment 12: Tuple and Dictionary\n",
    "\n",
    "Create a dictionary with tuple keys and integer values. Print the dictionary.\n",
    "\n",
    "### Assignment 13: Nested Tuple Iteration\n",
    "\n",
    "Create a nested tuple and iterate over the elements, printing each element.\n",
    "\n",
    "### Assignment 14: Tuple and Set\n",
    "\n",
    "Create a tuple with duplicate elements. Convert it to a set to remove duplicates and print the resulting set.\n",
    "\n",
    "### Assignment 15: Tuple Functions\n",
    "\n",
    "Write functions that take a tuple and return the minimum, maximum, and sum of the elements. Print the results for a sample tuple."
   ]
  },
  {
   "cell_type": "code",
   "execution_count": 1,
   "metadata": {},
   "outputs": [
    {
     "name": "stdout",
     "output_type": "stream",
     "text": [
      "(1, 2, 3, 4, 5, 6, 7, 8, 9, 10)\n"
     ]
    }
   ],
   "source": [
    "# Assignment 1: Creating and Accessing Tuples\n",
    "# Create a tuple with the first 10 positive integers. Print the tuple.\n",
    "tpl = tuple(range(1, 11))\n",
    "print(tpl)"
   ]
  },
  {
   "cell_type": "code",
   "execution_count": 3,
   "id": "c7ba7e59",
   "metadata": {},
   "outputs": [
    {
     "name": "stdout",
     "output_type": "stream",
     "text": [
      "First element => 1\n",
      "First element => 6\n",
      "First element => 10\n"
     ]
    }
   ],
   "source": [
    "# Assignment 2: Accessing Tuple Elements\n",
    "# Print the first, middle, and last elements of the tuple created in Assignment 1.\n",
    "print(\"First element =>\", tpl[0])\n",
    "print(\"First element =>\", tpl[len(tpl)//2])\n",
    "print(\"First element =>\", tpl[-1])"
   ]
  },
  {
   "cell_type": "code",
   "execution_count": 11,
   "id": "1ebe7352",
   "metadata": {},
   "outputs": [
    {
     "name": "stdout",
     "output_type": "stream",
     "text": [
      "(1, 2, 3)\n",
      "(8, 9, 10)\n",
      "(3, 4, 5, 6)\n"
     ]
    }
   ],
   "source": [
    "# Assignment 3: Tuple Slicing\n",
    "# Print the first three elements, the last three elements, and the elements from index 2 to 5 of the tuple created in Assignment 1.\n",
    "print(tpl[:3])\n",
    "print(tpl[-3:])\n",
    "print(tpl[2:6])"
   ]
  },
  {
   "cell_type": "code",
   "execution_count": null,
   "id": "1577671b",
   "metadata": {},
   "outputs": [
    {
     "name": "stdout",
     "output_type": "stream",
     "text": [
      "((1, 2, 3), (4, 5, 6), (7, 8, 9))\n",
      "(1, 2, 3)\n",
      "(4, 5, 6)\n",
      "(7, 8, 9)\n",
      "Element at second row and third column: 6\n"
     ]
    }
   ],
   "source": [
    "# Assignment 4: Nested Tuples\n",
    "# Create a nested tuple representing a 3x3 matrix and print the matrix. Access and print the element at the second row and third column.\n",
    "matrix = (\n",
    "    (1, 2, 3),\n",
    "    (4, 5, 6),\n",
    "    (7, 8, 9)\n",
    ")\n",
    "print(matrix)\n",
    "\n",
    "for row in matrix:\n",
    "    print(row)\n",
    "\n",
    "print(\"Element at second row and third column:\", matrix[1][2])"
   ]
  },
  {
   "cell_type": "code",
   "execution_count": 16,
   "id": "0ce49cd1",
   "metadata": {},
   "outputs": [
    {
     "name": "stdout",
     "output_type": "stream",
     "text": [
      "(1, 2, 3, 10, 12, 34)\n"
     ]
    }
   ],
   "source": [
    "# Assignment 5: Tuple Concatenation\n",
    "# Concatenate two tuples: (1, 2, 3) and (4, 5, 6). Print the resulting tuple.\n",
    "tpl1 = (1, 2, 3)\n",
    "tpl2 = (10, 12, 34)\n",
    "concatenated = tpl1 + tpl2\n",
    "print(concatenated)"
   ]
  },
  {
   "cell_type": "code",
   "execution_count": 18,
   "id": "e7294459",
   "metadata": {},
   "outputs": [
    {
     "name": "stdout",
     "output_type": "stream",
     "text": [
      "Occurence of 4: 6\n",
      "Index of first occurence of 2: 1\n"
     ]
    }
   ],
   "source": [
    "# Assignment 6: Tuple Methods\n",
    "# Create a tuple with duplicate elements and count the occurrences of an element. Find the index of the first occurrence of an element in the tuple.\n",
    "tpl = (1, 2, 2, 3, 3, 4, 5, 4, 4, 5, 4, 4, 4)\n",
    "print(\"Occurence of 4:\", tpl.count(4))\n",
    "print(\"Index of first occurence of 2:\", tpl.index(2))"
   ]
  },
  {
   "cell_type": "code",
   "execution_count": 20,
   "id": "cf6df267",
   "metadata": {},
   "outputs": [
    {
     "name": "stdout",
     "output_type": "stream",
     "text": [
      "a => 1\n",
      "b => 2\n",
      "c => 3\n",
      "d => 4\n",
      "e => 5\n"
     ]
    }
   ],
   "source": [
    "# Assignment 7: Unpacking Tuples\n",
    "# Create a tuple with 5 elements and unpack it into 5 variables. Print the variables.\n",
    "tpl = (1, 2, 3, 4, 5)\n",
    "a, b, c, d, e = tpl\n",
    "\n",
    "print(\"a =>\", a)\n",
    "print(\"b =>\", b)\n",
    "print(\"c =>\", c)\n",
    "print(\"d =>\", d)\n",
    "print(\"e =>\", e)"
   ]
  },
  {
   "cell_type": "code",
   "execution_count": 21,
   "id": "f09540f9",
   "metadata": {},
   "outputs": [
    {
     "name": "stdout",
     "output_type": "stream",
     "text": [
      "(1, 2, 3, 4, 5)\n"
     ]
    }
   ],
   "source": [
    "# Assignment 8: Tuple Conversion\n",
    "# Convert a list of the first 5 positive integers to a tuple. Print the tuple.\n",
    "lst = [1, 2, 3, 4, 5]\n",
    "tpl = tuple(lst)\n",
    "print(tpl)"
   ]
  },
  {
   "cell_type": "code",
   "execution_count": 22,
   "id": "621f65a1",
   "metadata": {},
   "outputs": [
    {
     "name": "stdout",
     "output_type": "stream",
     "text": [
      "((1, 2, 3), (4, 5, 6), (7, 8, 9))\n"
     ]
    }
   ],
   "source": [
    "# Assignment 9: Tuple of Tuples\n",
    "# Create a tuple containing 3 tuples, each with 3 elements. Print the tuple of tuples.\n",
    "tpl = (\n",
    "    (1, 2, 3),\n",
    "    (4, 5, 6),\n",
    "    (7, 8, 9)\n",
    ")\n",
    "\n",
    "print(tpl)"
   ]
  },
  {
   "cell_type": "code",
   "execution_count": 28,
   "id": "db2467f0",
   "metadata": {},
   "outputs": [
    {
     "name": "stdout",
     "output_type": "stream",
     "text": [
      "[1, 2, 3, 4, 5]\n",
      "[1, 2, 3, 4, 5, 6]\n",
      "(1, 2, 3, 4, 5, 6)\n"
     ]
    }
   ],
   "source": [
    "# Assignment 10: Tuple and List\n",
    "# Create a tuple with the first 5 positive integers. Convert it to a list, append the number 6, and convert it back to a tuple. Print the resulting tuple.\n",
    "tpl = (1, 2, 3, 4, 5)\n",
    "lst = list(tpl)\n",
    "print(lst)\n",
    "\n",
    "lst.append(6)\n",
    "print(lst)\n",
    "\n",
    "tpl = tuple(lst)\n",
    "print(tpl)"
   ]
  },
  {
   "cell_type": "code",
   "execution_count": 30,
   "id": "9757efcb",
   "metadata": {},
   "outputs": [
    {
     "name": "stdout",
     "output_type": "stream",
     "text": [
      "Joined String: Hello\n"
     ]
    }
   ],
   "source": [
    "# Assignment 11: Tuple and String\n",
    "# Create a tuple with the characters of a string. Join the tuple elements into a single string. Print the string.\n",
    "original_str = \"Hello\"\n",
    "\n",
    "# create a tuple with the characters of string\n",
    "char_tpl = tuple(original_str)\n",
    "# print(char_tpl)\n",
    "\n",
    "# join the tuple elements into single string\n",
    "joined_str = ''.join(char_tpl)\n",
    "\n",
    "print(\"Joined String:\", joined_str)"
   ]
  },
  {
   "cell_type": "code",
   "execution_count": 32,
   "id": "9858c8b3",
   "metadata": {},
   "outputs": [
    {
     "name": "stdout",
     "output_type": "stream",
     "text": [
      "{(1, 2): 3, (3, 4): 35, (4, 5): 20}\n"
     ]
    }
   ],
   "source": [
    "# Assignment 12: Tuple and Dictionary\n",
    "# Create a dictionary with tuple keys and integer values. Print the dictionary.\n",
    "dict = {\n",
    "    (1, 2): 3,\n",
    "    (3, 4): 35,\n",
    "    (4, 5): 20,\n",
    "}\n",
    "print(dict)"
   ]
  },
  {
   "cell_type": "code",
   "execution_count": 33,
   "id": "6aa47253",
   "metadata": {},
   "outputs": [
    {
     "name": "stdout",
     "output_type": "stream",
     "text": [
      "1\n",
      "2\n",
      "3\n",
      "4\n",
      "5\n",
      "6\n"
     ]
    }
   ],
   "source": [
    "# Assignment 13: Nested Tuple Iteration\n",
    "# Create a nested tuple and iterate over the elements, printing each element.\n",
    "nested_tpl = ((1, 2), (3, 4), (5, 6))\n",
    "\n",
    "for inner_tpl in nested_tpl:\n",
    "    for element in inner_tpl:\n",
    "        print(element)"
   ]
  },
  {
   "cell_type": "code",
   "execution_count": null,
   "id": "f361490a",
   "metadata": {},
   "outputs": [
    {
     "name": "stdout",
     "output_type": "stream",
     "text": [
      "{1, 2, 4, 5, 6, 7, 8, 9}\n"
     ]
    }
   ],
   "source": [
    "# Assignment 14: Tuple and Set\n",
    "# Create a tuple with duplicate elements. Convert it to a set to remove duplicates and print the resulting set.\n",
    "tpl = (1, 2, 2, 2, 4, 4, 5, 6, 7, 8, 9)\n",
    "\n",
    "convert = set(tpl)\n",
    "print(convert)"
   ]
  },
  {
   "cell_type": "code",
   "execution_count": 38,
   "id": "899d21d2",
   "metadata": {},
   "outputs": [
    {
     "name": "stdout",
     "output_type": "stream",
     "text": [
      "Tuple: (2, 34, 50, 15, 60, 2)\n",
      "Minimum: 2\n",
      "Maximum: 60\n",
      "Sum: 163\n"
     ]
    }
   ],
   "source": [
    "# Assignment 15: Tuple Functions\n",
    "# Write functions that take a tuple and return the minimum, maximum, and sum of the elements. Print the results for a sample tuple.\n",
    "def find_min(t):\n",
    "    return min(t)\n",
    "\n",
    "def find_max(t):\n",
    "    return max(t)\n",
    "\n",
    "def find_sum(t):\n",
    "    return sum(t)\n",
    "\n",
    "tpl = (2, 34, 50, 15, 60, 2)\n",
    "\n",
    "print(\"Tuple:\", tpl)\n",
    "print(\"Minimum:\", find_min(tpl))\n",
    "print(\"Maximum:\", find_max(tpl))\n",
    "print(\"Sum:\", find_sum(tpl))"
   ]
  },
  {
   "cell_type": "code",
   "execution_count": null,
   "id": "9eee21a5",
   "metadata": {},
   "outputs": [],
   "source": []
  }
 ],
 "metadata": {
  "kernelspec": {
   "display_name": "Python 3",
   "language": "python",
   "name": "python3"
  },
  "language_info": {
   "codemirror_mode": {
    "name": "ipython",
    "version": 3
   },
   "file_extension": ".py",
   "mimetype": "text/x-python",
   "name": "python",
   "nbconvert_exporter": "python",
   "pygments_lexer": "ipython3",
   "version": "3.12.0"
  }
 },
 "nbformat": 4,
 "nbformat_minor": 5
}
