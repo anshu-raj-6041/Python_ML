{
 "cells": [
  {
   "cell_type": "markdown",
   "metadata": {},
   "source": [
    "# Module 3: Data Structures Assignments\n",
    "## Lesson 3.1: Lists\n",
    "### Assignment 1: Creating and Accessing Lists\n",
    "\n",
    "Create a list of the first 20 positive integers. Print the list.\n",
    "\n",
    "### Assignment 2: Accessing List Elements\n",
    "\n",
    "Print the first, middle, and last elements of the list created in Assignment 1.\n",
    "\n",
    "### Assignment 3: List Slicing\n",
    "\n",
    "Print the first five elements, the last five elements, and the elements from index 5 to 15 of the list created in Assignment 1.\n",
    "\n",
    "### Assignment 4: List Comprehensions\n",
    "\n",
    "Create a new list containing the squares of the first 10 positive integers using a list comprehension. Print the new list.\n",
    "\n",
    "### Assignment 5: Filtering Lists\n",
    "\n",
    "Create a new list containing only the even numbers from the list created in Assignment 1 using a list comprehension. Print the new list.\n",
    "\n",
    "### Assignment 6: List Methods\n",
    "\n",
    "Create a list of random numbers and sort it in ascending and descending order. Remove the duplicates from the list and print the modified list.\n",
    "\n",
    "### Assignment 7: Nested Lists\n",
    "\n",
    "Create a nested list representing a 3x3 matrix and print the matrix. Access and print the element at the second row and third column.\n",
    "\n",
    "### Assignment 8: List of Dictionaries\n",
    "\n",
    "Create a list of dictionaries where each dictionary represents a student with keys 'name' and 'score'. Sort the list of dictionaries by the 'score' in descending order and print the sorted list.\n",
    "\n",
    "### Assignment 9: Matrix Transposition\n",
    "\n",
    "Write a function that takes a 3x3 matrix (nested list) as input and returns its transpose. Print the original and transposed matrices.\n",
    "\n",
    "### Assignment 10: Flattening a Nested List\n",
    "\n",
    "Write a function that takes a nested list and flattens it into a single list. Print the original and flattened lists.\n",
    "\n",
    "### Assignment 11: List Manipulation\n",
    "\n",
    "Create a list of the first 10 positive integers. Remove the elements at indices 2, 4, and 6, and insert the element '99' at index 5. Print the modified list.\n",
    "\n",
    "### Assignment 12: List Zipping\n",
    "\n",
    "Create two lists of the same length. Use the `zip` function to combine these lists into a list of tuples and print the result.\n",
    "\n",
    "### Assignment 13: List Reversal\n",
    "\n",
    "Write a function that takes a list and returns a new list with the elements in reverse order. Print the original and reversed lists.\n",
    "\n",
    "### Assignment 14: List Rotation\n",
    "\n",
    "Write a function that rotates a list by n positions. Print the original and rotated lists.\n",
    "\n",
    "### Assignment 15: List Intersection\n",
    "\n",
    "Write a function that takes two lists and returns a new list containing only the elements that are present in both lists. Print the intersected list."
   ]
  },
  {
   "cell_type": "code",
   "execution_count": 30,
   "metadata": {},
   "outputs": [
    {
     "name": "stdout",
     "output_type": "stream",
     "text": [
      "[1, 2, 3, 4, 5, 6, 7, 8, 9, 10, 11, 12, 13, 14, 15, 16, 17, 18, 19, 20]\n"
     ]
    }
   ],
   "source": [
    "# Assignment 1: Creating and Accessing Lists\n",
    "# Create a list of the first 20 positive integers. Print the list.\n",
    "lst = list(range(1, 21))\n",
    "print(lst)"
   ]
  },
  {
   "cell_type": "code",
   "execution_count": 5,
   "id": "64966034",
   "metadata": {},
   "outputs": [
    {
     "name": "stdout",
     "output_type": "stream",
     "text": [
      "First element: 1\n",
      "Middle element: 11\n",
      "Last element: 20\n"
     ]
    }
   ],
   "source": [
    "# Assignment 2: Accessing List Elements\n",
    "# Print the first, middle, and last elements of the list created in Assignment 1.\n",
    "print(\"First element:\", lst[0])\n",
    "print(\"Middle element:\", lst[len(lst) // 2])\n",
    "print(\"Last element:\", lst[-1])"
   ]
  },
  {
   "cell_type": "code",
   "execution_count": 22,
   "id": "4bad3389",
   "metadata": {},
   "outputs": [
    {
     "name": "stdout",
     "output_type": "stream",
     "text": [
      "First Five elements: [1, 2, 3, 4, 5]\n",
      "Last Five elements: [16, 17, 18, 19, 20]\n",
      "5 to 15: [6, 7, 8, 9, 10, 11, 12, 13, 14, 15, 16]\n"
     ]
    }
   ],
   "source": [
    "# Assignment 3: List Slicing\n",
    "# Print the first five elements, the last five elements, and the elements from index 5 to 15 of the list created in Assignment 1.\n",
    "print(\"First Five elements:\", lst[:5])\n",
    "print(\"Last Five elements:\", lst[-5:])\n",
    "print(\"5 to 15:\", lst[5:16])"
   ]
  },
  {
   "cell_type": "code",
   "execution_count": 24,
   "id": "1e4bfdd7",
   "metadata": {},
   "outputs": [
    {
     "name": "stdout",
     "output_type": "stream",
     "text": [
      "[1, 4, 9, 16, 25, 36, 49, 64, 81, 100]\n"
     ]
    }
   ],
   "source": [
    "# Assignment 4: List Comprehensions\n",
    "# Create a new list containing the squares of the first 10 positive integers using a list comprehension. Print the new list.\n",
    "lst = []\n",
    "for x in range(1, 11):\n",
    "    lst.append(x**2)\n",
    "print(lst)"
   ]
  },
  {
   "cell_type": "code",
   "execution_count": 26,
   "id": "cbaf1c95",
   "metadata": {},
   "outputs": [
    {
     "name": "stdout",
     "output_type": "stream",
     "text": [
      "[1, 4, 9, 16, 25, 36, 49, 64, 81, 100]\n"
     ]
    }
   ],
   "source": [
    "square = [(x**2) for x in range(1, 11)]\n",
    "print(square)"
   ]
  },
  {
   "cell_type": "code",
   "execution_count": 31,
   "id": "788c831f",
   "metadata": {},
   "outputs": [
    {
     "name": "stdout",
     "output_type": "stream",
     "text": [
      "[2, 4, 6, 8, 10, 12, 14, 16, 18, 20]\n"
     ]
    }
   ],
   "source": [
    "# Assignment 5: Filtering Lists\n",
    "# Create a new list containing only the even numbers from the list created in Assignment 1 using a list comprehension. Print the new list.\n",
    "even = [x for x in lst if (x%2 == 0)]\n",
    "print(even)"
   ]
  },
  {
   "cell_type": "code",
   "execution_count": 37,
   "id": "0e4be8c4",
   "metadata": {},
   "outputs": [
    {
     "name": "stdout",
     "output_type": "stream",
     "text": [
      "Original list with duplicate\n",
      "[35, 25, 5, 34, 13, 44, 12, 2, 47, 28, 19, 4, 33, 24, 1, 39, 15, 22, 2, 22]\n",
      "Sorted in ascending order\n",
      "[1, 2, 2, 4, 5, 12, 13, 15, 19, 22, 22, 24, 25, 28, 33, 34, 35, 39, 44, 47]\n",
      "Sorted in descending order\n",
      "[47, 44, 39, 35, 34, 33, 28, 25, 24, 22, 22, 19, 15, 13, 12, 5, 4, 2, 2, 1]\n",
      "Print with no duplicate\n",
      "[33, 34, 35, 2, 5, 4, 1, 39, 44, 13, 12, 47, 15, 19, 22, 24, 25, 28]\n"
     ]
    }
   ],
   "source": [
    "# Assignment 6: List Methods\n",
    "# Create a list of random numbers and sort it in ascending and descending order. Remove the duplicates from the list and print the modified list.\n",
    "import random\n",
    "\n",
    "random_numbers = [random.randint(1, 50) for _ in range(20)]\n",
    "print(\"Original list with duplicate\")\n",
    "print(random_numbers)\n",
    "\n",
    "# Sort in ascending order\n",
    "ascending = sorted(random_numbers)\n",
    "print(\"Sorted in ascending order\")\n",
    "print(ascending)\n",
    "\n",
    "# Sort in descending order\n",
    "descending = sorted(random_numbers, reverse=True)\n",
    "print(\"Sorted in descending order\")\n",
    "print(descending)\n",
    "\n",
    "# Print with no duplicate \n",
    "unique_element = list(set(random_numbers))\n",
    "print(\"Print with no duplicate\")\n",
    "print(unique_element)"
   ]
  },
  {
   "cell_type": "code",
   "execution_count": null,
   "id": "faa0a975",
   "metadata": {},
   "outputs": [
    {
     "name": "stdout",
     "output_type": "stream",
     "text": [
      "3X3 matrix\n",
      "[1, 2, 3]\n",
      "[4, 5, 6]\n",
      "[8, 9, 4]\n",
      "Element in 2 row and 3 column: 6\n"
     ]
    }
   ],
   "source": [
    "# Assignment 7: Nested Lists\n",
    "# Create a nested list representing a 3x3 matrix and print the matrix. Access and print the element at the second row and third column.\n",
    "matrix = [\n",
    "    [1, 2, 3],\n",
    "    [4, 5, 6],\n",
    "    [8, 9, 4]\n",
    "]\n",
    "\n",
    "print(\"3X3 matrix\")\n",
    "for row in matrix:\n",
    "    print(row)\n",
    "\n",
    "print(\"Element in 2 row and 3 column:\", matrix[1][2])   # index starts with 0\n",
    "\n"
   ]
  },
  {
   "cell_type": "code",
   "execution_count": 45,
   "id": "34a881c9",
   "metadata": {},
   "outputs": [
    {
     "name": "stdout",
     "output_type": "stream",
     "text": [
      "{'name': 'Anshu', 'score': 500}\n",
      "{'name': 'R. Tata', 'score': 499}\n",
      "{'name': 'Modi', 'score': 420}\n",
      "{'name': 'Elon', 'score': 400}\n",
      "{'name': 'Rahul', 'score': 20}\n"
     ]
    }
   ],
   "source": [
    "# Assignment 8: List of Dictionaries\n",
    "# Create a list of dictionaries where each dictionary represents a student with keys 'name' and 'score'. Sort the list of dictionaries by the 'score' in descending order and print the sorted list.\n",
    "students = [\n",
    "    {\"name\":\"Anshu\", \"score\":500},\n",
    "    {\"name\":\"Modi\", \"score\":420},\n",
    "    {\"name\":\"Rahul\", \"score\":20},\n",
    "    {\"name\":\"Elon\", \"score\":400},\n",
    "    {\"name\":\"R. Tata\", \"score\":499}\n",
    "]\n",
    "\n",
    "# sort in descending order by score\n",
    "sorted_students = sorted(students, key=lambda x: x[\"score\"], reverse=True)\n",
    "\n",
    "# Print the sorted list\n",
    "for student in sorted_students:\n",
    "    print(student)"
   ]
  },
  {
   "cell_type": "code",
   "execution_count": 49,
   "id": "38dfcc51",
   "metadata": {},
   "outputs": [
    {
     "name": "stdout",
     "output_type": "stream",
     "text": [
      "Original Matrix\n",
      "[1, 2, 3]\n",
      "[4, 5, 6]\n",
      "[7, 8, 9]\n",
      "Transpose Matrix\n",
      "[1, 4, 7]\n",
      "[2, 5, 8]\n",
      "[3, 6, 9]\n"
     ]
    }
   ],
   "source": [
    "# Assignment 9: Matrix Transposition\n",
    "# Write a function that takes a 3x3 matrix (nested list) as input and returns its transpose. Print the original and transposed matrices.\n",
    "def transpose_matrix(matrix):\n",
    "    transposed = [[matrix[j][i] for j in range(3)] for i in range(3)]\n",
    "    return transposed\n",
    "\n",
    "matrix = [\n",
    "    [1, 2, 3],\n",
    "    [4, 5, 6],\n",
    "    [7, 8, 9]\n",
    "]\n",
    "\n",
    "transposed = transpose_matrix(matrix)\n",
    "print(\"Original Matrix\")\n",
    "for row in matrix:\n",
    "    print(row)\n",
    "\n",
    "print(\"Transpose Matrix\")\n",
    "for row in transposed:\n",
    "    print(row)"
   ]
  },
  {
   "cell_type": "code",
   "execution_count": null,
   "id": "453dc348",
   "metadata": {},
   "outputs": [
    {
     "name": "stdout",
     "output_type": "stream",
     "text": [
      "Original list\n",
      "[[1, 2, 3], [4, 5, 6], [7, 8, 9]]\n",
      "Flatten list\n",
      "[1, 2, 3, 4, 5, 6, 7, 8, 9]\n"
     ]
    }
   ],
   "source": [
    "# Assignment 10: Flattening a Nested List\n",
    "# Write a function that takes a nested list and flattens it into a single list. Print the original and flattened lists.\n",
    "def flatten_list(nested_list):\n",
    "    flat_list = [item for sublist in nested_list for item in sublist]\n",
    "    return flat_list\n",
    "\n",
    "nested_list = [\n",
    "    [1, 2, 3],\n",
    "    [4, 5, 6],\n",
    "    [7, 8, 9]\n",
    "]\n",
    "\n",
    "flat = flatten_list(nested_list)\n",
    "\n",
    "print(\"Original list\")\n",
    "print(nested_list)\n",
    "\n",
    "print(\"Flatten list\")\n",
    "print(flat)"
   ]
  },
  {
   "cell_type": "code",
   "execution_count": null,
   "id": "d38e9ed0",
   "metadata": {},
   "outputs": [],
   "source": [
    "# Assignment 11: List Manipulation"
   ]
  }
 ],
 "metadata": {
  "kernelspec": {
   "display_name": "Python 3",
   "language": "python",
   "name": "python3"
  },
  "language_info": {
   "codemirror_mode": {
    "name": "ipython",
    "version": 3
   },
   "file_extension": ".py",
   "mimetype": "text/x-python",
   "name": "python",
   "nbconvert_exporter": "python",
   "pygments_lexer": "ipython3",
   "version": "3.12.0"
  }
 },
 "nbformat": 4,
 "nbformat_minor": 5
}
