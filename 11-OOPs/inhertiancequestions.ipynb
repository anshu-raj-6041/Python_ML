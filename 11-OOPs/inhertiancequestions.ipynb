{
 "cells": [
  {
   "cell_type": "markdown",
   "metadata": {},
   "source": [
    "# Module: Inheritance Assignments\n",
    "## Lesson: Single and Multiple Inheritance\n",
    "### Assignment 1: Single Inheritance Basic\n",
    "\n",
    "Create a base class named `Animal` with attributes `name` and `species`. Create a derived class named `Dog` that inherits from `Animal` and adds an attribute `breed`. Create an object of the `Dog` class and print its attributes.\n",
    "\n",
    "### Assignment 2: Method Overriding in Single Inheritance\n",
    "\n",
    "In the `Dog` class, override the `__str__` method to return a string representation of the object. Create an object of the class and print it.\n",
    "\n",
    "### Assignment 3: Single Inheritance with Additional Methods\n",
    "\n",
    "In the `Dog` class, add a method named `bark` that prints a barking sound. Create an object of the class and call the method.\n",
    "\n",
    "### Assignment 4: Multiple Inheritance Basic\n",
    "\n",
    "Create a base class named `Walker` with a method `walk` that prints a walking message. Create another base class named `Runner` with a method `run` that prints a running message. Create a derived class named `Athlete` that inherits from both `Walker` and `Runner`. Create an object of the `Athlete` class and call both methods.\n",
    "\n",
    "### Assignment 5: Method Resolution Order (MRO) in Multiple Inheritance\n",
    "\n",
    "In the `Athlete` class, override the `walk` method to print a different message. Create an object of the class and call the `walk` method. Use the `super()` function to call the `walk` method of the `Walker` class.\n",
    "\n",
    "### Assignment 6: Multiple Inheritance with Additional Attributes\n",
    "\n",
    "In the `Athlete` class, add an attribute `training_hours` and a method `train` that prints the training hours. Create an object of the class and call the method.\n",
    "\n",
    "### Assignment 7: Diamond Problem in Multiple Inheritance\n",
    "\n",
    "Create a class named `A` with a method `show` that prints a message. Create two derived classes `B` and `C` that inherit from `A` and override the `show` method. Create a class `D` that inherits from both `B` and `C`. Create an object of the `D` class and call the `show` method. Observe the method resolution order.\n",
    "\n",
    "### Assignment 8: Using `super()` in Single Inheritance\n",
    "\n",
    "Create a base class named `Shape` with an attribute `color`. Create a derived class named `Circle` that inherits from `Shape` and adds an attribute `radius`. Use the `super()` function to initialize the attributes. Create an object of the `Circle` class and print its attributes.\n",
    "\n",
    "### Assignment 9: Using `super()` in Multiple Inheritance\n",
    "\n",
    "Create a class named `Person` with an attribute `name`. Create a class named `Employee` with an attribute `employee_id`. Create a derived class `Manager` that inherits from both `Person` and `Employee`. Use the `super()` function to initialize the attributes. Create an object of the `Manager` class and print its attributes.\n",
    "\n",
    "### Assignment 10: Method Overriding and `super()`\n",
    "\n",
    "Create a class named `Vehicle` with a method `start` that prints a starting message. Create a derived class `Car` that overrides the `start` method to print a different message. Use the `super()` function to call the `start` method of the `Vehicle` class. Create an object of the `Car` class and call the `start` method.\n",
    "\n",
    "### Assignment 11: Multiple Inheritance with Different Methods\n",
    "\n",
    "Create a class named `Flyer` with a method `fly` that prints a flying message. Create a class named `Swimmer` with a method `swim` that prints a swimming message. Create a derived class `Superhero` that inherits from both `Flyer` and `Swimmer`. Create an object of the `Superhero` class and call both methods.\n",
    "\n",
    "### Assignment 12: Complex Multiple Inheritance\n",
    "\n",
    "Create a class named `Base1` with an attribute `a`. Create a class named `Base2` with an attribute `b`. Create a class named `Derived` that inherits from both `Base1` and `Base2` and adds an attribute `c`. Initialize all attributes using the `super()` function. Create an object of the `Derived` class and print its attributes.\n",
    "\n",
    "### Assignment 13: Checking Instance Types with Inheritance\n",
    "\n",
    "Create a base class named `Animal` and a derived class named `Cat`. Create objects of both classes and use the `isinstance` function to check the instance types.\n",
    "\n",
    "### Assignment 14: Polymorphism with Inheritance\n",
    "\n",
    "Create a base class named `Bird` with a method `speak`. Create two derived classes `Parrot` and `Penguin` that override the `speak` method. Create a list of `Bird` objects and call the `speak` method on each object to demonstrate polymorphism.\n",
    "\n",
    "### Assignment 15: Combining Single and Multiple Inheritance\n",
    "\n",
    "Create a base class named `Device` with an attribute `brand`. Create a derived class `Phone` that inherits from `Device` and adds an attribute `model`. Create another base class `Camera` with an attribute `resolution`. Create a derived class `Smartphone` that inherits from both `Phone` and `Camera`. Create an object of the `Smartphone` class and print its attributes."
   ]
  },
  {
   "cell_type": "code",
   "execution_count": 6,
   "metadata": {},
   "outputs": [
    {
     "name": "stdout",
     "output_type": "stream",
     "text": [
      "Lucky\n",
      "Dog\n",
      "German Shephard\n",
      "Dog(Name: Lucky)\n",
      "Dog woof\n"
     ]
    }
   ],
   "source": [
    "# Assignment 1: Single Inheritance Basic\n",
    "# Create a base class named `Animal` with attributes `name` and `species`. Create a derived class named `Dog` that inherits from `Animal` and adds an attribute `breed`. Create an object of the `Dog` class and print its attributes.\n",
    "class Animal:\n",
    "    def __init__(self, name, species):\n",
    "        self.name = name\n",
    "        self.species = species\n",
    "    \n",
    "class Dog(Animal):\n",
    "    def __init__(self, name, species, breed):\n",
    "        super().__init__(name, species)\n",
    "        self.breed = breed\n",
    "    \n",
    "    def __str__(self):\n",
    "        return f\"Dog(Name: {self.name})\"\n",
    "\n",
    "    def bark(self):\n",
    "        print(\"Dog woof\")\n",
    "\n",
    "dog = Dog(\"Lucky\", \"Dog\", \"German Shephard\")\n",
    "\n",
    "print(dog.name)\n",
    "print(dog.species)\n",
    "print(dog.breed)\n",
    "\n",
    "print(dog)\n",
    "\n",
    "dog.bark()"
   ]
  },
  {
   "cell_type": "code",
   "execution_count": null,
   "id": "b85f8264",
   "metadata": {},
   "outputs": [],
   "source": [
    "# Assignment 2: Method Overriding in Single Inheritance\n",
    "# In the `Dog` class, override the `__str__` method to return a string representation of the object. Create an object of the class and print it."
   ]
  },
  {
   "cell_type": "code",
   "execution_count": null,
   "id": "0e4154aa",
   "metadata": {},
   "outputs": [],
   "source": [
    "# Assignment 3: Single Inheritance with Additional Methods\n",
    "# In the `Dog` class, add a method named `bark` that prints a barking sound. Create an object of the class and call the method."
   ]
  },
  {
   "cell_type": "code",
   "execution_count": 9,
   "id": "cf9b039d",
   "metadata": {},
   "outputs": [
    {
     "name": "stdout",
     "output_type": "stream",
     "text": [
      "Walking\n",
      "Running\n"
     ]
    }
   ],
   "source": [
    "# Assignment 4: Multiple Inheritance Basic\n",
    "# Create a base class named `Walker` with a method `walk` that prints a walking message. Create another base class named `Runner` with a method `run` that prints a running message. Create a derived class named `Athlete` that inherits from both `Walker` and `Runner`. Create an object of the `Athlete` class and call both methods.\n",
    "\n",
    "# base class 1\n",
    "class Walker:\n",
    "    def walk(self):\n",
    "        print(\"Walking\")\n",
    "\n",
    "# base class 2\n",
    "class Runner:\n",
    "    def run(self):\n",
    "        print(\"Running\")\n",
    "\n",
    "# derived class\n",
    "class Athlete(Walker, Runner):\n",
    "    pass\n",
    "\n",
    "athelete = Athlete()\n",
    "\n",
    "athelete.walk()\n",
    "athelete.run()"
   ]
  },
  {
   "cell_type": "code",
   "execution_count": 3,
   "id": "b4c3e2a9",
   "metadata": {},
   "outputs": [
    {
     "name": "stdout",
     "output_type": "stream",
     "text": [
      "Walking from Athlete class\n",
      "Walking from Walker class\n",
      "Running\n"
     ]
    }
   ],
   "source": [
    "# Assignment 5: Method Resolution Order (MRO) in Multiple Inheritance\n",
    "# In the `Athlete` class, override the `walk` method to print a different message. Create an object of the class and call the `walk` method. Use the `super()` function to call the `walk` method of the `Walker` class.\n",
    "\n",
    "# base class 1\n",
    "class Walker:\n",
    "    def walk(self):\n",
    "        print(\"Walking from Walker class\")\n",
    "\n",
    "# base class 2\n",
    "class Runner:\n",
    "    def run(self):\n",
    "        print(\"Running\")\n",
    "\n",
    "# derived class\n",
    "class Athlete(Walker, Runner):\n",
    "    def walk(self):\n",
    "        print(\"Walking from Athlete class\")\n",
    "        super().walk()\n",
    "\n",
    "athelete = Athlete()\n",
    "\n",
    "athelete.walk()\n",
    "athelete.run()"
   ]
  },
  {
   "cell_type": "code",
   "execution_count": 8,
   "id": "b57bd430",
   "metadata": {},
   "outputs": [
    {
     "name": "stdout",
     "output_type": "stream",
     "text": [
      "Training hours: 10\n"
     ]
    }
   ],
   "source": [
    "# Assignment 6: Multiple Inheritance with Additional Attributes\n",
    "# In the `Athlete` class, add an attribute `training_hours` and a method `train` that prints the training hours. Create an object of the class and call the method.\n",
    "\n",
    "# base class 1\n",
    "class Walker:\n",
    "    def walk(self):\n",
    "        print(\"Walking from Walker class\")\n",
    "\n",
    "# base class 2\n",
    "class Runner:\n",
    "    def run(self):\n",
    "        print(\"Running\")\n",
    "\n",
    "# derived class\n",
    "class Athlete(Walker, Runner):\n",
    "    def __init__(self, training_hr):\n",
    "        self.training_hr = training_hr\n",
    "\n",
    "    def walk(self):\n",
    "        print(\"Walking from Athlete class\")\n",
    "        super().walk()\n",
    "    def train(self):\n",
    "        print(f\"Training hours: {self.training_hr}\")\n",
    "\n",
    "athelete = Athlete(10)\n",
    "\n",
    "athelete.train()"
   ]
  },
  {
   "cell_type": "code",
   "execution_count": null,
   "id": "b6dc5f05",
   "metadata": {},
   "outputs": [
    {
     "name": "stdout",
     "output_type": "stream",
     "text": [
      "Hello from C\n"
     ]
    }
   ],
   "source": [
    "# Assignment 7: Diamond Problem in Multiple Inheritance\n",
    "# Create a class named `A` with a method `show` that prints a message. Create two derived classes `B` and `C` that inherit from `A` and override the `show` method. Create a class `D` that inherits from both `B` and `C`. Create an object of the `D` class and call the `show` method. Observe the method resolution order.\n",
    "class A:\n",
    "    def show(self):\n",
    "        print(\"Hello from A\")\n",
    "\n",
    "class B(A):\n",
    "    def show(self):\n",
    "        print(\"Hello from B\")\n",
    "\n",
    "class C(A):\n",
    "    def show(self):\n",
    "        print(\"Hello from C\")\n",
    "\n",
    "class D(C, B):\n",
    "    pass\n",
    "\n",
    "d = D()\n",
    "d.show()    # follow MRO(Method Resolution Order) order, D - C - B - A"
   ]
  },
  {
   "cell_type": "code",
   "execution_count": 16,
   "id": "ca0abda9",
   "metadata": {},
   "outputs": [
    {
     "name": "stdout",
     "output_type": "stream",
     "text": [
      "Color of Circle is: Red\n",
      "Radius of Circle is: 2\n"
     ]
    }
   ],
   "source": [
    "# Assignment 8: Using `super()` in Single Inheritance\n",
    "# Create a base class named `Shape` with an attribute `color`. Create a derived class named `Circle` that inherits from `Shape` and adds an attribute `radius`. Use the `super()` function to initialize the attributes. Create an object of the `Circle` class and print its attributes.\n",
    "# base class\n",
    "class Shape:\n",
    "    def __init__(self, color):\n",
    "        self.color = color\n",
    "\n",
    "# derived class\n",
    "class Circle(Shape):\n",
    "    def __init__(self, color, radius):\n",
    "        super().__init__(color)\n",
    "        self.radius = radius\n",
    "\n",
    "circle = Circle(\"Red\", 2)\n",
    "print(\"Color of Circle is:\", circle.color)\n",
    "print(\"Radius of Circle is:\", circle.radius)\n"
   ]
  },
  {
   "cell_type": "code",
   "execution_count": 21,
   "id": "8ca942ce",
   "metadata": {},
   "outputs": [
    {
     "name": "stdout",
     "output_type": "stream",
     "text": [
      "Anshu\n",
      "12345\n"
     ]
    }
   ],
   "source": [
    "# Assignment 9: Using `super()` in Multiple Inheritance\n",
    "# Create a class named `Person` with an attribute `name`. Create a class named `Employee` with an attribute `employee_id`. Create a derived class `Manager` that inherits from both `Person` and `Employee`. Use the `super()` function to initialize the attributes. Create an object of the `Manager` class and print its attributes.\n",
    "class Person:\n",
    "    def __init__(self, name, **kwargs):\n",
    "        super().__init__(**kwargs)\n",
    "        self.name = name\n",
    "\n",
    "class Employee:\n",
    "    def __init__(self, employee_id, **kwargs):\n",
    "        super().__init__(**kwargs)\n",
    "        self.employee_id = employee_id\n",
    "\n",
    "class Manager(Person, Employee):\n",
    "    def __init__(self, name, employee_id):\n",
    "        super().__init__(name=name, employee_id=employee_id)\n",
    "    \n",
    "manager = Manager(\"Anshu\", 12345)\n",
    "print(manager.name)\n",
    "print(manager.employee_id)"
   ]
  },
  {
   "cell_type": "code",
   "execution_count": 26,
   "id": "301a4420",
   "metadata": {},
   "outputs": [
    {
     "name": "stdout",
     "output_type": "stream",
     "text": [
      "start from Vehicle\n",
      "start from Car\n",
      "None\n"
     ]
    }
   ],
   "source": [
    "# Assignment 10: Method Overriding and `super()`\n",
    "# Create a class named `Vehicle` with a method `start` that prints a starting message. Create a derived class `Car` that overrides the `start` method to print a different message. Use the `super()` function to call the `start` method of the `Vehicle` class. Create an object of the `Car` class and call the `start` method.\n",
    "class Vehicle:\n",
    "    def start(self):\n",
    "        print(\"start from Vehicle\")\n",
    "\n",
    "class Car(Vehicle):\n",
    "    def start(self):\n",
    "        super().start()\n",
    "        print(\"start from Car\")\n",
    "\n",
    "# Object creation\n",
    "car = Car()\n",
    "print(car.start())\n"
   ]
  },
  {
   "cell_type": "code",
   "execution_count": 32,
   "id": "c17a615c",
   "metadata": {},
   "outputs": [
    {
     "name": "stdout",
     "output_type": "stream",
     "text": [
      "Flying\n",
      "None\n",
      "Swimming\n",
      "None\n"
     ]
    }
   ],
   "source": [
    "# Assignment 11: Multiple Inheritance with Different Methods\n",
    "# Create a class named `Flyer` with a method `fly` that prints a flying message. Create a class named `Swimmer` with a method `swim` that prints a swimming message. Create a derived class `Superhero` that inherits from both `Flyer` and `Swimmer`. Create an object of the `Superhero` class and call both methods.\n",
    "class Flyer:\n",
    "    def fly(self):\n",
    "        print(\"Flying\")\n",
    "\n",
    "class Swimmer:\n",
    "    def swim(self):\n",
    "        print(\"Swimming\")\n",
    "\n",
    "class Superhero(Flyer, Swimmer):\n",
    "    pass\n",
    "\n",
    "super = Superhero()\n",
    "print(super.fly())\n",
    "print(super.swim())"
   ]
  },
  {
   "cell_type": "code",
   "execution_count": 33,
   "id": "48c4eb9e",
   "metadata": {},
   "outputs": [
    {
     "ename": "TypeError",
     "evalue": "'Superhero' object is not callable",
     "output_type": "error",
     "traceback": [
      "\u001b[31m---------------------------------------------------------------------------\u001b[39m",
      "\u001b[31mTypeError\u001b[39m                                 Traceback (most recent call last)",
      "\u001b[36mCell\u001b[39m\u001b[36m \u001b[39m\u001b[32mIn[33]\u001b[39m\u001b[32m, line 18\u001b[39m\n\u001b[32m     15\u001b[39m         \u001b[38;5;28msuper\u001b[39m().\u001b[34m__init__\u001b[39m(a=a, b=b)\n\u001b[32m     16\u001b[39m         \u001b[38;5;28mself\u001b[39m.c = c\n\u001b[32m---> \u001b[39m\u001b[32m18\u001b[39m d = \u001b[43mDerived\u001b[49m\u001b[43m(\u001b[49m\u001b[32;43m10\u001b[39;49m\u001b[43m,\u001b[49m\u001b[43m \u001b[49m\u001b[32;43m20\u001b[39;49m\u001b[43m,\u001b[49m\u001b[43m \u001b[49m\u001b[32;43m30\u001b[39;49m\u001b[43m)\u001b[49m\n\u001b[32m     20\u001b[39m \u001b[38;5;28mprint\u001b[39m(d.a)\n\u001b[32m     21\u001b[39m \u001b[38;5;28mprint\u001b[39m(d.b)\n",
      "\u001b[36mCell\u001b[39m\u001b[36m \u001b[39m\u001b[32mIn[33]\u001b[39m\u001b[32m, line 15\u001b[39m, in \u001b[36mDerived.__init__\u001b[39m\u001b[34m(self, a, b, c)\u001b[39m\n\u001b[32m     14\u001b[39m \u001b[38;5;28;01mdef\u001b[39;00m\u001b[38;5;250m \u001b[39m\u001b[34m__init__\u001b[39m(\u001b[38;5;28mself\u001b[39m, a, b, c):\n\u001b[32m---> \u001b[39m\u001b[32m15\u001b[39m     \u001b[38;5;28;43msuper\u001b[39;49m\u001b[43m(\u001b[49m\u001b[43m)\u001b[49m\u001b[43m.\u001b[49m\u001b[34;43m__init__\u001b[39;49m(a=a, b=b)\n\u001b[32m     16\u001b[39m     \u001b[38;5;28mself\u001b[39m.c = c\n",
      "\u001b[31mTypeError\u001b[39m: 'Superhero' object is not callable"
     ]
    }
   ],
   "source": [
    "# Assignment 12: Complex Multiple Inheritance\n",
    "# Create a class named `Base1` with an attribute `a`. Create a class named `Base2` with an attribute `b`. Create a class named `Derived` that inherits from both `Base1` and `Base2` and adds an attribute `c`. Initialize all attributes using the `super()` function. Create an object of the `Derived` class and print its attributes.\n",
    "class Base1:\n",
    "    def __init__(self, a, **kwargs):\n",
    "        super().__init__(**kwargs)\n",
    "        self.a = a\n",
    "\n",
    "class Base2:\n",
    "    def __init__(self, b, **kwargs):\n",
    "        super().__init__(**kwargs)\n",
    "        self.b = b\n",
    "\n",
    "class Derived(Base1, Base2):\n",
    "    def __init__(self, a, b, c):\n",
    "        super().__init__(a=a, b=b)\n",
    "        self.c = c\n",
    "\n",
    "d = Derived(10, 20, 30)\n",
    "\n",
    "print(d.a)\n",
    "print(d.b)\n",
    "print(d.c)\n",
    "\n"
   ]
  },
  {
   "cell_type": "code",
   "execution_count": null,
   "id": "9871f0bf",
   "metadata": {},
   "outputs": [],
   "source": []
  }
 ],
 "metadata": {
  "kernelspec": {
   "display_name": "Python 3",
   "language": "python",
   "name": "python3"
  },
  "language_info": {
   "codemirror_mode": {
    "name": "ipython",
    "version": 3
   },
   "file_extension": ".py",
   "mimetype": "text/x-python",
   "name": "python",
   "nbconvert_exporter": "python",
   "pygments_lexer": "ipython3",
   "version": "3.12.0"
  }
 },
 "nbformat": 4,
 "nbformat_minor": 5
}
