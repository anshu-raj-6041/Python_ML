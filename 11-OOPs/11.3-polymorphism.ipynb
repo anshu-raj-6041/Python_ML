{
 "cells": [
  {
   "cell_type": "markdown",
   "id": "8130c8d0",
   "metadata": {},
   "source": [
    "Polymorphism\n",
    "> concept in OOPs\n",
    "> it allows object of different classes to be treated as object of a common superclass.\n",
    "> achieved through method overriding and interfaces."
   ]
  },
  {
   "cell_type": "code",
   "execution_count": null,
   "id": "9bf569be",
   "metadata": {},
   "outputs": [],
   "source": [
    "# Method Overriding\n",
    "# MO allows a child class to provide a specific implementation of a method that is already defined in parent class."
   ]
  },
  {
   "cell_type": "code",
   "execution_count": 3,
   "id": "52dbbccf",
   "metadata": {},
   "outputs": [
    {
     "name": "stdout",
     "output_type": "stream",
     "text": [
      "Woof\n",
      "Meow\n",
      "Woof\n",
      "Meow\n"
     ]
    }
   ],
   "source": [
    "# Base class\n",
    "class Animal:\n",
    "    def speak(self):\n",
    "        return \"Sound of the animal\"\n",
    "\n",
    "# Derived class 1\n",
    "class Dog(Animal):\n",
    "    def speak(self):\n",
    "        return \"Woof\"\n",
    "    \n",
    "# Derived class 2\n",
    "class Cat(Animal):\n",
    "    def speak(self):\n",
    "        return \"Meow\"\n",
    "    \n",
    "# Fn that demonstrates polymorphism\n",
    "def animal_speak(animal):\n",
    "    print(animal.speak())\n",
    "    \n",
    "dog = Dog()\n",
    "cat = Cat()\n",
    "\n",
    "print(dog.speak())\n",
    "print(cat.speak())\n",
    "\n",
    "animal_speak(dog)\n",
    "animal_speak(cat)"
   ]
  },
  {
   "cell_type": "code",
   "execution_count": 5,
   "id": "fae36439",
   "metadata": {},
   "outputs": [
    {
     "name": "stdout",
     "output_type": "stream",
     "text": [
      "The area is 20\n",
      "The area is 12.56\n"
     ]
    }
   ],
   "source": [
    "# Polymorphism with fn and methods\n",
    "# Base class\n",
    "class Shape:\n",
    "    def area(self):\n",
    "        return \"The area of the figure\"\n",
    "\n",
    "# Derived class 1\n",
    "class Rectangle(Shape):\n",
    "    # constructor\n",
    "    def __init__(self, length, breadth):\n",
    "        self.length = length\n",
    "        self.breadth = breadth\n",
    "    \n",
    "    def area(self):\n",
    "        return self.length * self.breadth\n",
    "    \n",
    "# Derived class 2\n",
    "class Circle(Shape):\n",
    "    # constructor\n",
    "    def __init__(self, radius):\n",
    "        self.radius = radius\n",
    "    \n",
    "    def area(self):\n",
    "        return 3.14 * self.radius * self.radius\n",
    "    \n",
    "# Fn that demonstrates polymorphism\n",
    "def print_area(shape):\n",
    "    print(f\"The area is {shape.area()}\")\n",
    "\n",
    "rectangle = Rectangle(4, 5)\n",
    "circle = Circle(2)\n",
    "\n",
    "print_area(rectangle)\n",
    "print_area(circle)"
   ]
  },
  {
   "cell_type": "code",
   "execution_count": 7,
   "id": "e431ed32",
   "metadata": {},
   "outputs": [
    {
     "name": "stdout",
     "output_type": "stream",
     "text": [
      "Car engine started\n",
      "Cycle engine started\n"
     ]
    }
   ],
   "source": [
    "# Polymorphism with Abstract base class\n",
    "from abc import ABC, abstractmethod\n",
    "\n",
    "# Define an abstract class\n",
    "class Vehicle(ABC):\n",
    "    @abstractmethod\n",
    "    def startEngine(self):\n",
    "        pass\n",
    "\n",
    "# Derived class 1\n",
    "class Car(Vehicle):\n",
    "    def startEngine(self):\n",
    "        return \"Car engine started\"\n",
    "    \n",
    "# Derived class 2\n",
    "class Cycle(Vehicle):\n",
    "    def startEngine(self):\n",
    "        return \"Cycle engine started\"\n",
    "    \n",
    "# fn that demonstrates polymorphism\n",
    "def startVehicle(vehicle):\n",
    "    print(vehicle.startEngine())\n",
    "    \n",
    "# create object \n",
    "car = Car()\n",
    "cycle = Cycle()\n",
    "\n",
    "startVehicle(car)\n",
    "startVehicle(cycle)"
   ]
  },
  {
   "cell_type": "code",
   "execution_count": null,
   "id": "3b91bb62",
   "metadata": {},
   "outputs": [],
   "source": []
  }
 ],
 "metadata": {
  "kernelspec": {
   "display_name": "Python 3",
   "language": "python",
   "name": "python3"
  },
  "language_info": {
   "codemirror_mode": {
    "name": "ipython",
    "version": 3
   },
   "file_extension": ".py",
   "mimetype": "text/x-python",
   "name": "python",
   "nbconvert_exporter": "python",
   "pygments_lexer": "ipython3",
   "version": "3.12.0"
  }
 },
 "nbformat": 4,
 "nbformat_minor": 5
}
