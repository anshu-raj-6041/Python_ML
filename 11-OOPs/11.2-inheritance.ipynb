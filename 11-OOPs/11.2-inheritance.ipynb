{
 "cells": [
  {
   "cell_type": "markdown",
   "id": "2c4105a6",
   "metadata": {},
   "source": [
    "Inheritance"
   ]
  },
  {
   "cell_type": "code",
   "execution_count": null,
   "id": "bfeaab1d",
   "metadata": {},
   "outputs": [],
   "source": [
    "# Inheritance (Single Inheritance)\n",
    "# Parent class\n",
    "class Car:\n",
    "    # constructor\n",
    "    def __init__(self, windows, doors, engineType):\n",
    "        self.windows = windows\n",
    "        self.doors = doors\n",
    "        self.engineType = engineType\n",
    "    \n",
    "    # methods\n",
    "    def drive(self):\n",
    "        print(f\"The person will drive the {self.engineType} car\")"
   ]
  },
  {
   "cell_type": "code",
   "execution_count": 4,
   "id": "c409f4f9",
   "metadata": {},
   "outputs": [
    {
     "name": "stdout",
     "output_type": "stream",
     "text": [
      "The person will drive the petrol car\n"
     ]
    }
   ],
   "source": [
    "car1 = Car(4, 5, \"petrol\")\n",
    "car1.drive()"
   ]
  },
  {
   "cell_type": "code",
   "execution_count": 6,
   "id": "a1f22794",
   "metadata": {},
   "outputs": [],
   "source": [
    "# child class\n",
    "class Tesla(Car):\n",
    "    def __init__(self, windows, doors, engineType, is_selfDriving):\n",
    "        super().__init__(windows, doors, engineType)\n",
    "        self.is_selfDriving = is_selfDriving\n",
    "\n",
    "    def selfDriving(self):\n",
    "        print(f\"Tesla supports self driving : {self.is_selfDriving}\")"
   ]
  },
  {
   "cell_type": "code",
   "execution_count": 9,
   "id": "f55c5033",
   "metadata": {},
   "outputs": [
    {
     "name": "stdout",
     "output_type": "stream",
     "text": [
      "Tesla supports self driving : True\n"
     ]
    }
   ],
   "source": [
    "tesla1 = Tesla(4, 5, \"electric\", True)\n",
    "tesla1.selfDriving()"
   ]
  },
  {
   "cell_type": "code",
   "execution_count": 10,
   "id": "589aad4b",
   "metadata": {},
   "outputs": [
    {
     "name": "stdout",
     "output_type": "stream",
     "text": [
      "The person will drive the electric car\n"
     ]
    }
   ],
   "source": [
    "tesla1.drive()"
   ]
  },
  {
   "cell_type": "code",
   "execution_count": 14,
   "id": "21240b4e",
   "metadata": {},
   "outputs": [
    {
     "name": "stdout",
     "output_type": "stream",
     "text": [
      "Buddy say woof\n",
      "Owner: Anshu\n"
     ]
    }
   ],
   "source": [
    "# Multiple Inheritance\n",
    "# when a class inherits from more than one base class \n",
    "# Base class 1\n",
    "class Animal:\n",
    "    def __init__(self, name):\n",
    "        self.name = name \n",
    "\n",
    "    def speak(self):\n",
    "        print(\"Subclasses must implement this method\")\n",
    "\n",
    "# Base class 2\n",
    "class Pet:\n",
    "    def __init__(self, owner):\n",
    "        self.owner = owner \n",
    "\n",
    "    \n",
    "# Derived class\n",
    "class Dog(Animal, Pet):\n",
    "    def __init__(self, name, owner):\n",
    "        Animal.__init__(self, name)     # not use super() as two base class\n",
    "        Pet.__init__(self, owner)\n",
    "\n",
    "    def speak(self):\n",
    "        return f\"{self.name} say woof\"\n",
    "    \n",
    "# create an object\n",
    "dog = Dog(\"Buddy\", \"Anshu\")\n",
    "print(dog.speak())\n",
    "print(f\"Owner: {dog.owner}\")\n",
    "        "
   ]
  },
  {
   "cell_type": "code",
   "execution_count": null,
   "id": "16e0edee",
   "metadata": {},
   "outputs": [],
   "source": []
  }
 ],
 "metadata": {
  "kernelspec": {
   "display_name": "Python 3",
   "language": "python",
   "name": "python3"
  },
  "language_info": {
   "codemirror_mode": {
    "name": "ipython",
    "version": 3
   },
   "file_extension": ".py",
   "mimetype": "text/x-python",
   "name": "python",
   "nbconvert_exporter": "python",
   "pygments_lexer": "ipython3",
   "version": "3.12.0"
  }
 },
 "nbformat": 4,
 "nbformat_minor": 5
}
