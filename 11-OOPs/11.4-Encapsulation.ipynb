{
 "cells": [
  {
   "cell_type": "markdown",
   "id": "e68bfac2",
   "metadata": {},
   "source": [
    "Encapsulation and Abstraction"
   ]
  },
  {
   "cell_type": "markdown",
   "id": "12fb3101",
   "metadata": {},
   "source": [
    "Encapsulation is concept of wrapping data(variables) and methods(fn) together as a single unit.\n",
    "It restricts direct access of object components, which is a means of preventing accidental interface and misuse of data."
   ]
  },
  {
   "cell_type": "code",
   "execution_count": 4,
   "id": "bd87add0",
   "metadata": {},
   "outputs": [
    {
     "data": {
      "text/plain": [
       "'anshu'"
      ]
     },
     "execution_count": 4,
     "metadata": {},
     "output_type": "execute_result"
    }
   ],
   "source": [
    "# Encapsulation with getter and setter\n",
    "# public, private, protected variables\n",
    "\n",
    "class Person:\n",
    "    # constructor\n",
    "    def __init__(self, name, age):\n",
    "        self.name = name    # public var\n",
    "        self.age = age    # public var\n",
    "    \n",
    "\n",
    "def getName(person):\n",
    "    return person.name\n",
    "\n",
    "person = Person(\"anshu\", 22)\n",
    "# print(person.name)\n",
    "getName(person)\n",
    "        "
   ]
  },
  {
   "cell_type": "code",
   "execution_count": 2,
   "id": "bebcc412",
   "metadata": {},
   "outputs": [
    {
     "data": {
      "text/plain": [
       "['__class__',\n",
       " '__delattr__',\n",
       " '__dict__',\n",
       " '__dir__',\n",
       " '__doc__',\n",
       " '__eq__',\n",
       " '__format__',\n",
       " '__ge__',\n",
       " '__getattribute__',\n",
       " '__getstate__',\n",
       " '__gt__',\n",
       " '__hash__',\n",
       " '__init__',\n",
       " '__init_subclass__',\n",
       " '__le__',\n",
       " '__lt__',\n",
       " '__module__',\n",
       " '__ne__',\n",
       " '__new__',\n",
       " '__reduce__',\n",
       " '__reduce_ex__',\n",
       " '__repr__',\n",
       " '__setattr__',\n",
       " '__sizeof__',\n",
       " '__str__',\n",
       " '__subclasshook__',\n",
       " '__weakref__',\n",
       " 'age',\n",
       " 'name']"
      ]
     },
     "execution_count": 2,
     "metadata": {},
     "output_type": "execute_result"
    }
   ],
   "source": [
    "dir(person)"
   ]
  },
  {
   "cell_type": "code",
   "execution_count": null,
   "id": "75c23914",
   "metadata": {},
   "outputs": [],
   "source": [
    "# Encapsulation with getter and setter\n",
    "# public, private, protected variables\n",
    "\n",
    "# private var can't be accessed from outside class\n",
    "# to use private var, we have to use getter and setter\n",
    "\n",
    "class Person:\n",
    "    # constructor\n",
    "    def __init__(self, name, age, gender):\n",
    "        self.__name = name    # private var\n",
    "        self.__age = age    # private var\n",
    "        self.gender = gender    # public var\n",
    "\n",
    "def getName(person):\n",
    "    return person.__name\n",
    "    \n",
    "\n",
    "        "
   ]
  },
  {
   "cell_type": "code",
   "execution_count": 13,
   "id": "89d2f31d",
   "metadata": {},
   "outputs": [
    {
     "ename": "AttributeError",
     "evalue": "'Person' object has no attribute '__name'",
     "output_type": "error",
     "traceback": [
      "\u001b[31m---------------------------------------------------------------------------\u001b[39m",
      "\u001b[31mAttributeError\u001b[39m                            Traceback (most recent call last)",
      "\u001b[36mCell\u001b[39m\u001b[36m \u001b[39m\u001b[32mIn[13]\u001b[39m\u001b[32m, line 3\u001b[39m\n\u001b[32m      1\u001b[39m person = Person(\u001b[33m\"\u001b[39m\u001b[33mAnshu\u001b[39m\u001b[33m\"\u001b[39m, \u001b[32m22\u001b[39m, \u001b[33m\"\u001b[39m\u001b[33mMale\u001b[39m\u001b[33m\"\u001b[39m)\n\u001b[32m      2\u001b[39m \u001b[38;5;66;03m# dir(person)\u001b[39;00m\n\u001b[32m----> \u001b[39m\u001b[32m3\u001b[39m \u001b[43mgetName\u001b[49m\u001b[43m(\u001b[49m\u001b[43mperson\u001b[49m\u001b[43m)\u001b[49m\n",
      "\u001b[36mCell\u001b[39m\u001b[36m \u001b[39m\u001b[32mIn[12]\u001b[39m\u001b[32m, line 12\u001b[39m, in \u001b[36mgetName\u001b[39m\u001b[34m(person)\u001b[39m\n\u001b[32m     11\u001b[39m \u001b[38;5;28;01mdef\u001b[39;00m\u001b[38;5;250m \u001b[39m\u001b[34mgetName\u001b[39m(person):\n\u001b[32m---> \u001b[39m\u001b[32m12\u001b[39m     \u001b[38;5;28;01mreturn\u001b[39;00m \u001b[43mperson\u001b[49m\u001b[43m.\u001b[49m\u001b[43m__name\u001b[49m\n",
      "\u001b[31mAttributeError\u001b[39m: 'Person' object has no attribute '__name'"
     ]
    }
   ],
   "source": [
    "person = Person(\"Anshu\", 22, \"Male\")\n",
    "# dir(person)\n",
    "getName(person)"
   ]
  },
  {
   "cell_type": "code",
   "execution_count": null,
   "id": "043433fd",
   "metadata": {},
   "outputs": [
    {
     "name": "stdout",
     "output_type": "stream",
     "text": [
      "Modi\n"
     ]
    }
   ],
   "source": [
    "# Protected var (_)\n",
    "# Derived class can access it \n",
    "class Person:\n",
    "    # constructor\n",
    "    def __init__(self, name, age, gender):\n",
    "        self._name = name    # protected var\n",
    "        self._age = age    # protected var\n",
    "        self.gender = gender    # public var\n",
    "\n",
    "class Employee(Person):\n",
    "    def __init__(self, name, age, gender):\n",
    "        super().__init__(name, age, gender)\n",
    "\n",
    "e = Employee(\"Modi\", 65, \"Male\")\n",
    "print(e._name)"
   ]
  },
  {
   "cell_type": "code",
   "execution_count": null,
   "id": "da179d4f",
   "metadata": {},
   "outputs": [
    {
     "name": "stdout",
     "output_type": "stream",
     "text": [
      "Anshu\n",
      "22\n",
      "-4\n"
     ]
    }
   ],
   "source": [
    "# Encapsulation with getter and setter\n",
    "class Person:\n",
    "    # constructor\n",
    "    def __init__(self, name, age):\n",
    "        self.__name = name    # private attributes\n",
    "        self.__age = age    # private attributes\n",
    "\n",
    "    # getter method for name \n",
    "    def getName(self):\n",
    "        return self.__name\n",
    "    # setter method for name \n",
    "    def setName(self, name):\n",
    "        self.__name = name \n",
    "\n",
    "    # getter method for age \n",
    "    def getAge(self):\n",
    "        return self.__age\n",
    "    # setter method for age \n",
    "    def setAge(self, age):\n",
    "        self.__age = age\n",
    "\n",
    "person = Person(\"Anshu\", 22)\n",
    "\n",
    "\n",
    "# Access and modify private var using getter and setter\n",
    "print(person.getName())\n",
    "print(person.getAge())\n",
    "\n",
    "person.setAge(-4)\n",
    "print(person.getAge())\n"
   ]
  },
  {
   "cell_type": "code",
   "execution_count": null,
   "id": "55816c51",
   "metadata": {},
   "outputs": [],
   "source": []
  }
 ],
 "metadata": {
  "kernelspec": {
   "display_name": "Python 3",
   "language": "python",
   "name": "python3"
  },
  "language_info": {
   "codemirror_mode": {
    "name": "ipython",
    "version": 3
   },
   "file_extension": ".py",
   "mimetype": "text/x-python",
   "name": "python",
   "nbconvert_exporter": "python",
   "pygments_lexer": "ipython3",
   "version": "3.12.0"
  }
 },
 "nbformat": 4,
 "nbformat_minor": 5
}
