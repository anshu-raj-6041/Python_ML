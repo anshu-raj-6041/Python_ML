{
 "cells": [
  {
   "cell_type": "markdown",
   "id": "e66418e3",
   "metadata": {},
   "source": [
    "Operator OverLoading\n",
    "Common Operator Overloading Magic Methods\n",
    "__add__(self, other): Adds two objects using + opeartor\n",
    "__sub__(self, other): Subtracts two objects using - operator\n",
    "__mul__(self, other): Multiplies two objects using * operator \n",
    "__truediv__(self, other): Divides two objects using / operator \n",
    "__eq__(self, other): Checks if two objects are equal using the == operator\n",
    "__lt__(self, other): Checks if one object is less than another using the < operator\n",
    "__gt__(self, other): Checks if one object is less than another using the > operator"
   ]
  },
  {
   "cell_type": "code",
   "execution_count": 2,
   "id": "8fe597e7",
   "metadata": {},
   "outputs": [
    {
     "name": "stdout",
     "output_type": "stream",
     "text": [
      "Vector(9, 4)\n",
      "Vector(-5, 2)\n",
      "Vector(14, 3)\n"
     ]
    }
   ],
   "source": [
    "class Vector:\n",
    "    def __init__(self, x, y):\n",
    "        self.x = x\n",
    "        self.y = y\n",
    "\n",
    "    def __add__(self, other):\n",
    "        return Vector(self.x+other.x, self.y+other.y)\n",
    "\n",
    "    def __sub__(self, other):\n",
    "        return Vector(self.x-other.x, self.y-other.y)\n",
    "\n",
    "    def __mul__(self, other):\n",
    "        return Vector(self.x*other.x, self.y*other.y)\n",
    "\n",
    "    def __eq__(self, other):\n",
    "        return Vector(self.x == other.x, self.y == other.y)\n",
    "\n",
    "    def __repr__(self):\n",
    "        return f\"Vector({self.x}, {self.y})\"\n",
    "\n",
    "# Create Objects of the Vector class\n",
    "v1 = Vector(2, 3)\n",
    "v2 = Vector(7, 1)\n",
    "\n",
    "print(v1 + v2)\n",
    "print(v1 - v2)\n",
    "print(v1 * v2)"
   ]
  },
  {
   "cell_type": "code",
   "execution_count": null,
   "id": "9c044b3e",
   "metadata": {},
   "outputs": [],
   "source": [
    "# Overloading operator for complex number"
   ]
  }
 ],
 "metadata": {
  "kernelspec": {
   "display_name": "Python 3",
   "language": "python",
   "name": "python3"
  },
  "language_info": {
   "codemirror_mode": {
    "name": "ipython",
    "version": 3
   },
   "file_extension": ".py",
   "mimetype": "text/x-python",
   "name": "python",
   "nbconvert_exporter": "python",
   "pygments_lexer": "ipython3",
   "version": "3.12.0"
  }
 },
 "nbformat": 4,
 "nbformat_minor": 5
}
