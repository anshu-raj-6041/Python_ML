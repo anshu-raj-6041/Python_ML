{
 "cells": [
  {
   "cell_type": "markdown",
   "metadata": {},
   "source": [
    "# Module: Classes and Objects Assignments\n",
    "## Lesson: Creating and Working with Classes and Objects\n",
    "### Assignment 1: Basic Class and Object Creation\n",
    "\n",
    "Create a class named `Car` with attributes `make`, `model`, and `year`. Create an object of the class and print its attributes.\n",
    "\n",
    "### Assignment 2: Methods in Class\n",
    "\n",
    "Add a method named `start_engine` to the `Car` class that prints a message when the engine starts. Create an object of the class and call the method.\n",
    "\n",
    "### Assignment 3: Class with Constructor\n",
    "\n",
    "Create a class named `Student` with attributes `name` and `age`. Use a constructor to initialize these attributes. Create an object of the class and print its attributes.\n",
    "\n",
    "### Assignment 4: Class with Private Attributes\n",
    "\n",
    "Create a class named `BankAccount` with private attributes `account_number` and `balance`. Add methods to deposit and withdraw money, and to check the balance. Create an object of the class and perform some operations.\n",
    "\n",
    "### Assignment 5: Class Inheritance\n",
    "\n",
    "Create a base class named `Person` with attributes `name` and `age`. Create a derived class named `Employee` that inherits from `Person` and adds an attribute `employee_id`. Create an object of the derived class and print its attributes.\n",
    "\n",
    "### Assignment 6: Method Overriding\n",
    "\n",
    "In the `Employee` class, override the `__str__` method to return a string representation of the object. Create an object of the class and print it.\n",
    "\n",
    "### Assignment 7: Class Composition\n",
    "\n",
    "Create a class named `Address` with attributes `street`, `city`, and `zipcode`. Create a class named `Person` that has an `Address` object as an attribute. Create an object of the `Person` class and print its address.\n",
    "\n",
    "### Assignment 8: Class with Class Variables\n",
    "\n",
    "Create a class named `Counter` with a class variable `count`. Each time an object is created, increment the count. Add a method to get the current count. Create multiple objects and print the count.\n",
    "\n",
    "### Assignment 9: Static Methods\n",
    "\n",
    "Create a class named `MathOperations` with a static method to calculate the square root of a number. Call the static method without creating an object.\n",
    "\n",
    "### Assignment 10: Class with Properties\n",
    "\n",
    "Create a class named `Rectangle` with private attributes `length` and `width`. Use properties to get and set these attributes. Create an object of the class and test the properties.\n",
    "\n",
    "### Assignment 11: Abstract Base Class\n",
    "\n",
    "Create an abstract base class named `Shape` with an abstract method `area`. Create derived classes `Circle` and `Square` that implement the `area` method. Create objects of the derived classes and call the `area` method.\n",
    "\n",
    "### Assignment 12: Operator Overloading\n",
    "\n",
    "Create a class named `Vector` with attributes `x` and `y`. Overload the `+` operator to add two `Vector` objects. Create objects of the class and test the operator overloading.\n",
    "\n",
    "### Assignment 13: Class with Custom Exception\n",
    "\n",
    "Create a custom exception named `InsufficientBalanceError`. In the `BankAccount` class, raise this exception when a withdrawal amount is greater than the balance. Handle the exception and print an appropriate message.\n",
    "\n",
    "### Assignment 14: Class with Context Manager\n",
    "\n",
    "Create a class named `FileManager` that implements the context manager protocol to open and close a file. Use this class to read the contents of a file.\n",
    "\n",
    "### Assignment 15: Chaining Methods\n",
    "\n",
    "Create a class named `Calculator` with methods to add, subtract, multiply, and divide. Each method should return the object itself to allow method chaining. Create an object and chain multiple method calls."
   ]
  },
  {
   "cell_type": "code",
   "execution_count": 1,
   "metadata": {},
   "outputs": [
    {
     "name": "stdout",
     "output_type": "stream",
     "text": [
      "Make:  Tata\n",
      "Model:  Nano\n",
      "Year:  2010\n",
      "Engine start\n"
     ]
    }
   ],
   "source": [
    "# Assignment 1: Basic Class and Object Creation\n",
    "# Create a class named `Car` with attributes `make`, `model`, and `year`. Create an object of the class and print its attributes.\n",
    "class Car:\n",
    "    # constructor\n",
    "    def __init__(self, make, model, year):\n",
    "        self.make = make\n",
    "        self.model = model\n",
    "        self.year = year\n",
    "    \n",
    "    # methods\n",
    "    def start_engine(self):\n",
    "        print(\"Engine start\")\n",
    "\n",
    "# create object\n",
    "myCar = Car(\"Tata\", \"Nano\", 2010)\n",
    "\n",
    "# Print the attributes\n",
    "print(\"Make: \", myCar.make)\n",
    "print(\"Model: \", myCar.model)\n",
    "print(\"Year: \", myCar.year)\n",
    "\n",
    "# call the method\n",
    "myCar.start_engine()"
   ]
  },
  {
   "cell_type": "code",
   "execution_count": null,
   "id": "e57e5e13",
   "metadata": {},
   "outputs": [],
   "source": [
    "# Assignment 2: Methods in Class\n",
    "# Add a method named `start_engine` to the `Car` class that prints a message when the engine starts. Create an object of the class and call the method.\n"
   ]
  },
  {
   "cell_type": "code",
   "execution_count": null,
   "id": "10d6b028",
   "metadata": {},
   "outputs": [
    {
     "name": "stdout",
     "output_type": "stream",
     "text": [
      "Name:  Modi\n",
      "Age:  65\n"
     ]
    }
   ],
   "source": [
    "# Assignment 3: Class with Constructor\n",
    "# Create a class named `Student` with attributes `name` and `age`. Use a constructor to initialize these attributes. Create an object of the class and print its attributes.\n",
    "class Student:\n",
    "    def __init__(self, name, age):\n",
    "        self.name = name\n",
    "        self.age = age\n",
    "    \n",
    "myStudent = Student(\"Modi\", 65)\n",
    "\n",
    "print(\"Name: \", myStudent.name)\n",
    "print(\"Age: \", myStudent.age)"
   ]
  },
  {
   "cell_type": "code",
   "execution_count": null,
   "id": "a2783084",
   "metadata": {},
   "outputs": [
    {
     "name": "stdout",
     "output_type": "stream",
     "text": [
      "100 is deposited. New balance is 1300\n",
      "50 is withdrawn. New Balance is 1250\n",
      "Final Balance:  1250\n"
     ]
    }
   ],
   "source": [
    "# Assignment 4: Class with Private Attributes\n",
    "# Create a class named `BankAccount` with private attributes `account_number` and `balance`. Add methods to deposit and withdraw money, and to check the balance. Create an object of the class and perform some operations.\n",
    "class BankAccount:\n",
    "    def __init__(self, account_number, balance=0):\n",
    "        self.__account_number = account_number  # private var\n",
    "        self.__balance = balance    # private var\n",
    "\n",
    "    # instance methods\n",
    "    def deposit(self, amount):\n",
    "        self.__balance += amount\n",
    "        print(f\"{amount} is deposited. New balance is {self.__balance}\")\n",
    "\n",
    "    def withdraw(self, amount):\n",
    "        if amount > self.__balance:\n",
    "            print(\"Insufficent Fund\")\n",
    "        else:\n",
    "            self.__balance -= amount\n",
    "            print(f\"{amount} is withdrawn. New Balance is {self.__balance}\")\n",
    "        \n",
    "    def get_balance(self):\n",
    "        return self.__balance\n",
    "\n",
    "# Object creation\n",
    "account = BankAccount(\"123456789\", 1200)\n",
    "\n",
    "account.deposit(100)\n",
    "account.withdraw(50)\n",
    "print(\"Final Balance: \", account.get_balance())"
   ]
  },
  {
   "cell_type": "code",
   "execution_count": null,
   "id": "0e140fe1",
   "metadata": {},
   "outputs": [
    {
     "name": "stdout",
     "output_type": "stream",
     "text": [
      "Name:  Anshu\n",
      "Age:  22\n",
      "Employee_Id:  123456789\n"
     ]
    }
   ],
   "source": [
    "# Assignment 5: Class Inheritance\n",
    "# Create a base class named `Person` with attributes `name` and `age`. Create a derived class named `Employee` that inherits from `Person` and adds an attribute `employee_id`. Create an object of the derived class and print its attributes.\n",
    "class Person:\n",
    "    def __init__(self, name, age):\n",
    "        self.name = name\n",
    "        self.age = age\n",
    "\n",
    "class Employee(Person):\n",
    "    def __init__(self, name, age, employee_id):\n",
    "        super().__init__(name, age)\n",
    "        self.employee_id = employee_id\n",
    "\n",
    "emp = Employee(\"Anshu\", 22, 123456789)\n",
    "\n",
    "print(\"Name: \", emp.name)\n",
    "print(\"Age: \", emp.age)\n",
    "print(\"Employee_Id: \", emp.employee_id)\n"
   ]
  },
  {
   "cell_type": "code",
   "execution_count": null,
   "id": "f7b38408",
   "metadata": {},
   "outputs": [
    {
     "name": "stdout",
     "output_type": "stream",
     "text": [
      "Name: Anshu, Age: 22, employeeId: 123456789\n"
     ]
    }
   ],
   "source": [
    "# Assignment 6: Method Overriding\n",
    "# In the `Employee` class, override the `__str__` method to return a string representation of the object. Create an object of the class and print it.\n",
    "class Person:\n",
    "    def __init__(self, name, age):\n",
    "        self.name = name\n",
    "        self.age = age\n",
    "\n",
    "class Employee(Person):\n",
    "    def __init__(self, name, age, employee_id):\n",
    "        super().__init__(name, age)\n",
    "        self.employee_id = employee_id\n",
    "\n",
    "    def __str__(self):\n",
    "        return \"Name: \" + self.name + \", Age: \" + str(self.age) + \", employeeId: \" + str(self.employee_id)\n",
    "\n",
    "emp = Employee(\"Anshu\", 22, 123456789)\n",
    "print(emp)\n",
    "\n"
   ]
  },
  {
   "cell_type": "code",
   "execution_count": 22,
   "id": "e67df51e",
   "metadata": {},
   "outputs": [
    {
     "name": "stdout",
     "output_type": "stream",
     "text": [
      "Address:  Durga Charan Lane, Patna City - 800007\n"
     ]
    }
   ],
   "source": [
    "# Assignment 7: Class Composition\n",
    "# Create a class named `Address` with attributes `street`, `city`, and `zipcode`. Create a class named `Person` that has an `Address` object as an attribute. Create an object of the `Person` class and print its address.\n",
    "class Address:\n",
    "    def __init__(self, street, city, zipcode):\n",
    "        self.street = street\n",
    "        self.city = city\n",
    "        self.zipcode = zipcode\n",
    "\n",
    "    def __str__(self):\n",
    "        return self.street + \", \" + self.city + \" - \" + str(self.zipcode)\n",
    "\n",
    "class Person:\n",
    "    def __init__(self, name, age, address):\n",
    "        self.name = name\n",
    "        self.age = age\n",
    "        self.address = address\n",
    "\n",
    "    def print_address(self):\n",
    "        print(\"Address: \", self.address)\n",
    "    \n",
    "\n",
    "address = Address(\"Durga Charan Lane\", \"Patna City\", 800007)\n",
    "\n",
    "person = Person(\"Anshu\", 22, address)\n",
    "person.print_address()\n",
    "        "
   ]
  },
  {
   "cell_type": "code",
   "execution_count": null,
   "id": "f7352d93",
   "metadata": {},
   "outputs": [
    {
     "name": "stdout",
     "output_type": "stream",
     "text": [
      "Total Objects created:  4\n"
     ]
    }
   ],
   "source": [
    "# Assignment 8: Class with Class Variables\n",
    "# Create a class named `Counter` with a class variable `count`. Each time an object is created, increment the count. Add a method to get the current count. Create multiple objects and print the count.\n",
    "class Counter:\n",
    "    count = 0   # class variable\n",
    "\n",
    "    def __init__(self):\n",
    "        Counter.count += 1\n",
    "    \n",
    "    @classmethod\n",
    "    def getCount(self):\n",
    "        return self.count\n",
    "    \n",
    "# creating multiple objects\n",
    "obj1 = Counter()\n",
    "obj2 = Counter()\n",
    "obj3 = Counter()\n",
    "obj4 = Counter()\n",
    "\n",
    "print(\"Total Objects created: \", Counter.getCount())"
   ]
  },
  {
   "cell_type": "code",
   "execution_count": null,
   "id": "a90af5c9",
   "metadata": {},
   "outputs": [
    {
     "name": "stdout",
     "output_type": "stream",
     "text": [
      "5.0\n"
     ]
    }
   ],
   "source": [
    "import math\n",
    "# Assignment 9: Static Methods\n",
    "# 1> does not take self, cls as the first argument\n",
    "# 2> can be called without creating an object\n",
    "\n",
    "# Create a class named `MathOperations` with a static method to calculate the square root of a number. Call the static method without creating an object.\n",
    "class MathOperations:\n",
    "    # static methods\n",
    "    def squareRoot(number):\n",
    "        return math.sqrt(number)\n",
    "    \n",
    "result = MathOperations.squareRoot(25)\n",
    "print(result)"
   ]
  },
  {
   "cell_type": "code",
   "execution_count": 13,
   "id": "7c52e28a",
   "metadata": {},
   "outputs": [
    {
     "name": "stdout",
     "output_type": "stream",
     "text": [
      "Before\n",
      "Length: 25\n",
      "Width: 5\n",
      "After\n",
      "Length: 10\n",
      "Width: 2\n"
     ]
    }
   ],
   "source": [
    "# Assignment 10: Class with Properties\n",
    "# Create a class named `Rectangle` with private attributes `length` and `width`. Use properties to get and set these attributes. Create an object of the class and test the properties.\n",
    "class Rectangle:\n",
    "    # constructor\n",
    "    def __init__(self, length, width):\n",
    "        self.__length = length\n",
    "        self.__width = width\n",
    "\n",
    "    # getter method for length\n",
    "    def getLength(self):\n",
    "        return self.__length\n",
    "    # setter method for length\n",
    "    def setLength(self, length):\n",
    "        self.__length = length\n",
    "\n",
    "    # getter method for width\n",
    "    def getWidth(self):\n",
    "        return self.__width\n",
    "    # setter method for width\n",
    "    def setWidth(self, width):\n",
    "        self.__width = width\n",
    "\n",
    "rec = Rectangle(25, 5)\n",
    "\n",
    "print(\"Before\")\n",
    "print(\"Length:\", rec.getLength())\n",
    "print(\"Width:\", rec.getWidth())\n",
    "\n",
    "rec.setLength(10)\n",
    "rec.setWidth(2)\n",
    "\n",
    "print(\"After\")\n",
    "print(\"Length:\", rec.getLength())\n",
    "print(\"Width:\", rec.getWidth())"
   ]
  },
  {
   "cell_type": "code",
   "execution_count": 17,
   "id": "dad58284",
   "metadata": {},
   "outputs": [
    {
     "name": "stdout",
     "output_type": "stream",
     "text": [
      "Area of Circle:  78.5\n",
      "Area of Square:  4\n"
     ]
    }
   ],
   "source": [
    "# Assignment 11: Abstract Base Class\n",
    "# Create an abstract base class named `Shape` with an abstract method `area`. Create derived classes `Circle` and `Square` that implement the `area` method. Create objects of the derived classes and call the `area` method.\n",
    "from abc import ABC, abstractmethod\n",
    "import math\n",
    "\n",
    "class Shape(ABC):\n",
    "    @abstractmethod\n",
    "    def area(self):\n",
    "        pass\n",
    "\n",
    "# Derived class Circle\n",
    "class Circle(Shape):\n",
    "    # constructor\n",
    "    def __init__(self, radius):\n",
    "        self.radius = radius\n",
    "    \n",
    "    def area(self):\n",
    "        return 3.14 * self.radius * self.radius\n",
    "    \n",
    "# Derived class Square\n",
    "class Square(Shape):\n",
    "    # constructor\n",
    "    def __init__(self, side):\n",
    "        self.side = side\n",
    "    \n",
    "    def area(self):\n",
    "        return self.side * self.side\n",
    "    \n",
    "# create object\n",
    "circle = Circle(5)\n",
    "square = Square(2)\n",
    "\n",
    "# call the area method\n",
    "print(\"Area of Circle: \", circle.area())\n",
    "print(\"Area of Square: \", square.area())"
   ]
  },
  {
   "cell_type": "code",
   "execution_count": 18,
   "id": "f4b23203",
   "metadata": {},
   "outputs": [
    {
     "name": "stdout",
     "output_type": "stream",
     "text": [
      "V1 => (1, 2)\n",
      "V2 => (5, 7)\n",
      "V3 => (6, 9)\n"
     ]
    }
   ],
   "source": [
    "# Assignment 12: Operator Overloading\n",
    "# Create a class named `Vector` with attributes `x` and `y`. Overload the `+` operator to add two `Vector` objects. Create objects of the class and test the operator overloading.\n",
    "class Vector:\n",
    "    def __init__(self, x, y):\n",
    "        self.x = x\n",
    "        self.y = y\n",
    "\n",
    "    # overload + operator\n",
    "    def __add__(self, other):\n",
    "        return Vector(self.x+other.x, self.y+other.y)\n",
    "    \n",
    "    # Print the vector\n",
    "    def __str__(self):\n",
    "        return f\"({self.x}, {self.y})\"\n",
    "\n",
    "v1 = Vector(1, 2)\n",
    "v2 = Vector(5, 7)\n",
    "\n",
    "v3 = v1 + v2\n",
    "\n",
    "print(\"V1 =>\", v1)\n",
    "print(\"V2 =>\", v2)\n",
    "print(\"V3 =>\", v3)"
   ]
  },
  {
   "cell_type": "code",
   "execution_count": 19,
   "id": "69ff5b55",
   "metadata": {},
   "outputs": [
    {
     "name": "stdout",
     "output_type": "stream",
     "text": [
      "500 deposited. New balance is 1700\n",
      "100 is withdrawn. New balance is 1600\n",
      "Withdrawal failed\n"
     ]
    }
   ],
   "source": [
    "# Assignment 13: Class with Custom Exception\n",
    "# Create a custom exception named `InsufficientBalanceError`. In the `BankAccount` class, raise this exception when a withdrawal amount is greater than the balance. Handle the exception and print an appropriate message.\n",
    "class InsufficientBalanceError(Exception):\n",
    "    pass\n",
    "\n",
    "class BankAccount:\n",
    "    def __init__(self, owner, balance=0):\n",
    "        self.owner = owner\n",
    "        self.balance = balance\n",
    "\n",
    "    def deposit(self, amount):\n",
    "        self.balance += amount\n",
    "        print(f\"{amount} deposited. New balance is {self.balance}\")\n",
    "    \n",
    "    def withdraw(self, amount):\n",
    "        if (amount > self.balance):\n",
    "            raise InsufficientBalanceError(\"Withdrawal failed\")\n",
    "        else:\n",
    "            self.balance -= amount\n",
    "            print(f\"{amount} is withdrawn. New balance is {self.balance}\")\n",
    "        \n",
    "account = BankAccount(\"Anshu\", 1200)\n",
    "\n",
    "# test\n",
    "try:\n",
    "    account.deposit(500)\n",
    "    account.withdraw(100)\n",
    "    account.withdraw(10000)\n",
    "except InsufficientBalanceError as ex:\n",
    "    print(ex)"
   ]
  },
  {
   "cell_type": "code",
   "execution_count": null,
   "id": "314c7941",
   "metadata": {},
   "outputs": [],
   "source": [
    "# Assignment 14: Class with Context Manager\n",
    "# Create a class named `FileManager` that implements the context manager protocol to open and close a file. Use this class to read the contents of a file."
   ]
  }
 ],
 "metadata": {
  "kernelspec": {
   "display_name": "Python 3",
   "language": "python",
   "name": "python3"
  },
  "language_info": {
   "codemirror_mode": {
    "name": "ipython",
    "version": 3
   },
   "file_extension": ".py",
   "mimetype": "text/x-python",
   "name": "python",
   "nbconvert_exporter": "python",
   "pygments_lexer": "ipython3",
   "version": "3.12.0"
  }
 },
 "nbformat": 4,
 "nbformat_minor": 5
}
