{
 "cells": [
  {
   "cell_type": "markdown",
   "id": "d3a03a2f",
   "metadata": {},
   "source": [
    "Abstraction is concept of hiding the complex implementation details and showing only the necessary features of object."
   ]
  },
  {
   "cell_type": "code",
   "execution_count": 1,
   "id": "dec9878b",
   "metadata": {},
   "outputs": [
    {
     "name": "stdout",
     "output_type": "stream",
     "text": [
      "Car engine started\n"
     ]
    }
   ],
   "source": [
    "from abc import ABC, abstractmethod\n",
    "\n",
    "# Abstract base class\n",
    "class Vehicle(ABC):\n",
    "    def drive(self):\n",
    "        print(\"The vehicle is used for driving\")\n",
    "\n",
    "    @abstractmethod\n",
    "    def startEngine(self):\n",
    "        pass\n",
    "\n",
    "class Car(Vehicle):\n",
    "    def startEngine(self):\n",
    "        print(\"Car engine started\")\n",
    "\n",
    "def operateVehicle(vehicle):\n",
    "    vehicle.startEngine()\n",
    "\n",
    "car = Car()\n",
    "operateVehicle(car)"
   ]
  },
  {
   "cell_type": "code",
   "execution_count": null,
   "id": "ccd7ba34",
   "metadata": {},
   "outputs": [],
   "source": []
  }
 ],
 "metadata": {
  "kernelspec": {
   "display_name": "Python 3",
   "language": "python",
   "name": "python3"
  },
  "language_info": {
   "codemirror_mode": {
    "name": "ipython",
    "version": 3
   },
   "file_extension": ".py",
   "mimetype": "text/x-python",
   "name": "python",
   "nbconvert_exporter": "python",
   "pygments_lexer": "ipython3",
   "version": "3.12.0"
  }
 },
 "nbformat": 4,
 "nbformat_minor": 5
}
