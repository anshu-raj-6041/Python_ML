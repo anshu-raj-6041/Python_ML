{
 "cells": [
  {
   "cell_type": "markdown",
   "id": "515dc6cd",
   "metadata": {},
   "source": [
    "Classes and Objects"
   ]
  },
  {
   "cell_type": "code",
   "execution_count": 1,
   "id": "6fc13ff2",
   "metadata": {},
   "outputs": [
    {
     "name": "stdout",
     "output_type": "stream",
     "text": [
      "<class '__main__.Car'>\n"
     ]
    }
   ],
   "source": [
    "# A class is a blue print for creating objects. Attributes, methods\n",
    "class Car:\n",
    "    pass\n",
    "\n",
    "audi = Car()\n",
    "bmw = Car()\n",
    "\n",
    "print(type(audi))"
   ]
  },
  {
   "cell_type": "code",
   "execution_count": 4,
   "id": "5d14acf8",
   "metadata": {},
   "outputs": [
    {
     "name": "stdout",
     "output_type": "stream",
     "text": [
      "<__main__.Car object at 0x000002CEC84D0BC0>\n",
      "<__main__.Car object at 0x000002CEC84D2B70>\n"
     ]
    }
   ],
   "source": [
    "print(audi)\n",
    "print(bmw)"
   ]
  },
  {
   "cell_type": "code",
   "execution_count": 7,
   "id": "46371c28",
   "metadata": {},
   "outputs": [
    {
     "name": "stdout",
     "output_type": "stream",
     "text": [
      "4\n"
     ]
    }
   ],
   "source": [
    "audi.windows = 4\n",
    "print(audi.windows)"
   ]
  },
  {
   "cell_type": "code",
   "execution_count": 2,
   "id": "a2a50352",
   "metadata": {},
   "outputs": [
    {
     "data": {
      "text/plain": [
       "['__class__',\n",
       " '__delattr__',\n",
       " '__dict__',\n",
       " '__dir__',\n",
       " '__doc__',\n",
       " '__eq__',\n",
       " '__format__',\n",
       " '__ge__',\n",
       " '__getattribute__',\n",
       " '__getstate__',\n",
       " '__gt__',\n",
       " '__hash__',\n",
       " '__init__',\n",
       " '__init_subclass__',\n",
       " '__le__',\n",
       " '__lt__',\n",
       " '__module__',\n",
       " '__ne__',\n",
       " '__new__',\n",
       " '__reduce__',\n",
       " '__reduce_ex__',\n",
       " '__repr__',\n",
       " '__setattr__',\n",
       " '__sizeof__',\n",
       " '__str__',\n",
       " '__subclasshook__',\n",
       " '__weakref__']"
      ]
     },
     "execution_count": 2,
     "metadata": {},
     "output_type": "execute_result"
    }
   ],
   "source": [
    "dir(audi)"
   ]
  },
  {
   "cell_type": "code",
   "execution_count": 3,
   "id": "04bcdfb9",
   "metadata": {},
   "outputs": [
    {
     "name": "stdout",
     "output_type": "stream",
     "text": [
      "<__main__.Dog object at 0x000001EAAFC6A5A0>\n",
      "Buddy\n",
      "3\n"
     ]
    }
   ],
   "source": [
    "# instance variable(properties) and methods\n",
    "class Dog:\n",
    "    # constructor\n",
    "    def __init__(self, name, age):\n",
    "        self.name = name\n",
    "        self.age = age\n",
    "\n",
    "# create object\n",
    "dog1 = Dog(\"Buddy\", 3)\n",
    "print(dog1)\n",
    "print(dog1.name)\n",
    "print(dog1.age)"
   ]
  },
  {
   "cell_type": "code",
   "execution_count": 16,
   "id": "7450fc90",
   "metadata": {},
   "outputs": [
    {
     "name": "stdout",
     "output_type": "stream",
     "text": [
      "Lucky\n",
      "4\n"
     ]
    }
   ],
   "source": [
    "dog2 = Dog(\"Lucky\", 4)\n",
    "print(dog2.name)\n",
    "print(dog2.age)"
   ]
  },
  {
   "cell_type": "code",
   "execution_count": null,
   "id": "1f9e95a6",
   "metadata": {},
   "outputs": [
    {
     "name": "stdout",
     "output_type": "stream",
     "text": [
      "Buddy says whoof\n",
      "Lucky says whoof\n"
     ]
    }
   ],
   "source": [
    "# Define a class with instance methods \n",
    "class Dog:\n",
    "    # constructor\n",
    "    def __init__(self, name, age):\n",
    "        self.name = name\n",
    "        self.age = age\n",
    "\n",
    "    # instance methods\n",
    "    def bark(self):\n",
    "        print(f\"{self.name} says whoof\")\n",
    "\n",
    "    \n",
    "dog1 = Dog(\"Buddy\", 3)\n",
    "dog1.bark()\n",
    "\n",
    "dog2 = Dog(\"Lucky\", 4)\n",
    "dog2.bark()"
   ]
  },
  {
   "cell_type": "code",
   "execution_count": 6,
   "id": "a8ede09f",
   "metadata": {},
   "outputs": [
    {
     "name": "stdout",
     "output_type": "stream",
     "text": [
      "4000\n"
     ]
    }
   ],
   "source": [
    "# Modeling a bank account\n",
    "class BankAccount:\n",
    "    # constructor\n",
    "    def __init__(self, owner, balance=0):\n",
    "        self.owner = owner\n",
    "        self.balance = balance\n",
    "    \n",
    "    # instance methods\n",
    "    def deposit(self, amount):\n",
    "        self.balance += amount\n",
    "        print(f\"{amount} is deposited. New balance is {self.balance}\")\n",
    "\n",
    "    def withdraw(self, amount):\n",
    "        if amount > self.balance:\n",
    "            print(\"Insufficent Fund\")\n",
    "        else:\n",
    "            self.balance -= amount\n",
    "            print(f\"{amount} is withdrawn. New Balance is {self.balance}\")\n",
    "\n",
    "    def get_balance(self):\n",
    "        return self.balance\n",
    "\n",
    "    # create an object \n",
    "account = BankAccount(\"Anshu\", 4000)\n",
    "print(account.balance)\n"
   ]
  },
  {
   "cell_type": "code",
   "execution_count": 7,
   "id": "69535495",
   "metadata": {},
   "outputs": [
    {
     "name": "stdout",
     "output_type": "stream",
     "text": [
      "1000 is deposited. New balance is 5000\n"
     ]
    }
   ],
   "source": [
    "# call instance methods \n",
    "account.deposit(1000)"
   ]
  },
  {
   "cell_type": "code",
   "execution_count": 9,
   "id": "437d5b12",
   "metadata": {},
   "outputs": [
    {
     "name": "stdout",
     "output_type": "stream",
     "text": [
      "100 is withdrawn. New Balance is 4890\n"
     ]
    }
   ],
   "source": [
    "account.withdraw(100)\n"
   ]
  },
  {
   "cell_type": "code",
   "execution_count": null,
   "id": "0608ae4c",
   "metadata": {},
   "outputs": [],
   "source": []
  }
 ],
 "metadata": {
  "kernelspec": {
   "display_name": "Python 3",
   "language": "python",
   "name": "python3"
  },
  "language_info": {
   "codemirror_mode": {
    "name": "ipython",
    "version": 3
   },
   "file_extension": ".py",
   "mimetype": "text/x-python",
   "name": "python",
   "nbconvert_exporter": "python",
   "pygments_lexer": "ipython3",
   "version": "3.12.0"
  }
 },
 "nbformat": 4,
 "nbformat_minor": 5
}
