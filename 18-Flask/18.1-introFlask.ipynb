{
 "cells": [
  {
   "cell_type": "markdown",
   "id": "be7127fb",
   "metadata": {},
   "source": [
    "FLASK Framework\n",
    "1> WSGI => Web Server Gateway Interface (communicate with web server with web application)\n",
    "2> Jinja 2 Template Engine\n",
    "Jinja 2 :: Web Template Engine => combines web template(pages in website) with a data source(SQL DB, ML model, MONGO DB, CSV Sheet)\n",
    "\n",
    "FLASK => Web Framework which is created with the help of Python Programming language."
   ]
  }
 ],
 "metadata": {
  "language_info": {
   "name": "python"
  }
 },
 "nbformat": 4,
 "nbformat_minor": 5
}
