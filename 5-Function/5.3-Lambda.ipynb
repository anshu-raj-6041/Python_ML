{
 "cells": [
  {
   "cell_type": "markdown",
   "id": "b48f07cc",
   "metadata": {},
   "source": [
    "Lambda fn are small anonymous fn defined using the lambda keyword. They can have any no of argument but only one expression. They are commonly used for short operation or argument to higher-order fn."
   ]
  },
  {
   "cell_type": "code",
   "execution_count": null,
   "id": "6f9ec352",
   "metadata": {},
   "outputs": [],
   "source": [
    "# Syntax\n",
    "# jha single expression rhega\n",
    "lambda arguments: expression"
   ]
  },
  {
   "cell_type": "code",
   "execution_count": 1,
   "id": "94e051ca",
   "metadata": {},
   "outputs": [],
   "source": [
    "def addition(a, b):\n",
    "    return (a+b)"
   ]
  },
  {
   "cell_type": "code",
   "execution_count": 3,
   "id": "174a1a91",
   "metadata": {},
   "outputs": [
    {
     "name": "stdout",
     "output_type": "stream",
     "text": [
      "7\n"
     ]
    }
   ],
   "source": [
    "print(addition(2, 5))"
   ]
  },
  {
   "cell_type": "code",
   "execution_count": 7,
   "id": "918b81f0",
   "metadata": {},
   "outputs": [
    {
     "name": "stdout",
     "output_type": "stream",
     "text": [
      "<class 'function'>\n",
      "15\n"
     ]
    }
   ],
   "source": [
    "# to convert upper code to lambda fn\n",
    "addition = lambda a, b: a+b\n",
    "print(type(addition))\n",
    "print(addition(5, 10))"
   ]
  },
  {
   "cell_type": "code",
   "execution_count": 8,
   "id": "0148b8f6",
   "metadata": {},
   "outputs": [
    {
     "data": {
      "text/plain": [
       "True"
      ]
     },
     "execution_count": 8,
     "metadata": {},
     "output_type": "execute_result"
    }
   ],
   "source": [
    "def even(num):\n",
    "    if (num%2 == 0):\n",
    "        return True\n",
    "\n",
    "even(24)"
   ]
  },
  {
   "cell_type": "code",
   "execution_count": 10,
   "id": "86b8b491",
   "metadata": {},
   "outputs": [
    {
     "name": "stdout",
     "output_type": "stream",
     "text": [
      "True\n"
     ]
    }
   ],
   "source": [
    "even1 = lambda num: num%2==0\n",
    "print(even(20))"
   ]
  },
  {
   "cell_type": "code",
   "execution_count": 11,
   "id": "c51ac2ee",
   "metadata": {},
   "outputs": [
    {
     "name": "stdout",
     "output_type": "stream",
     "text": [
      "60\n"
     ]
    }
   ],
   "source": [
    "def addition(x, y, z):\n",
    "    return (x+y+z)\n",
    "\n",
    "print(addition(10, 20, 30))"
   ]
  },
  {
   "cell_type": "code",
   "execution_count": 12,
   "id": "678035f6",
   "metadata": {},
   "outputs": [
    {
     "name": "stdout",
     "output_type": "stream",
     "text": [
      "60\n"
     ]
    }
   ],
   "source": [
    "addition1 = lambda x, y, z: x+y+z\n",
    "print(addition1(10, 20, 30))"
   ]
  },
  {
   "cell_type": "code",
   "execution_count": null,
   "id": "f5fb9f51",
   "metadata": {},
   "outputs": [
    {
     "name": "stdout",
     "output_type": "stream",
     "text": [
      "25\n"
     ]
    }
   ],
   "source": [
    "# map() => applies a fn to all items in a list\n",
    "numbers = [1, 2, 3, 4, 5]\n",
    "def square(number):\n",
    "    return number**2\n",
    "\n",
    "print(square(5))"
   ]
  },
  {
   "cell_type": "code",
   "execution_count": 16,
   "id": "1b0898e5",
   "metadata": {},
   "outputs": [
    {
     "data": {
      "text/plain": [
       "[1, 4, 9, 16, 25]"
      ]
     },
     "execution_count": 16,
     "metadata": {},
     "output_type": "execute_result"
    }
   ],
   "source": [
    "list(map(lambda x: x**2, numbers))"
   ]
  },
  {
   "cell_type": "code",
   "execution_count": null,
   "id": "8d824541",
   "metadata": {},
   "outputs": [],
   "source": []
  }
 ],
 "metadata": {
  "kernelspec": {
   "display_name": "Python 3",
   "language": "python",
   "name": "python3"
  },
  "language_info": {
   "codemirror_mode": {
    "name": "ipython",
    "version": 3
   },
   "file_extension": ".py",
   "mimetype": "text/x-python",
   "name": "python",
   "nbconvert_exporter": "python",
   "pygments_lexer": "ipython3",
   "version": "3.12.0"
  }
 },
 "nbformat": 4,
 "nbformat_minor": 5
}
