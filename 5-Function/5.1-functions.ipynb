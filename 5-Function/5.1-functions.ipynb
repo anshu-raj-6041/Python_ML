{
 "cells": [
  {
   "cell_type": "markdown",
   "id": "31bc2b53",
   "metadata": {},
   "source": [
    "# Function\n",
    "A fn is a block of code that performs a specific task.\n",
    "Fn help in organizing code, reusing code and improving readability\n"
   ]
  },
  {
   "cell_type": "code",
   "execution_count": null,
   "id": "1a5d0fac",
   "metadata": {},
   "outputs": [],
   "source": [
    "# syntax\n",
    "def function_name(parameters):\n",
    "    \"\"\"Docstring\"\"\"\n",
    "    # Fn body\n",
    "    return expression"
   ]
  },
  {
   "cell_type": "code",
   "execution_count": null,
   "id": "55e3176f",
   "metadata": {},
   "outputs": [],
   "source": [
    "# why fn\n",
    "number = 25\n",
    "if(number%2 == 0):\n",
    "    print(\"Even\")\n",
    "else:\n",
    "    print(\"Odd\")"
   ]
  },
  {
   "cell_type": "code",
   "execution_count": 1,
   "id": "97e599ff",
   "metadata": {},
   "outputs": [],
   "source": [
    "def even_or_odd(number):\n",
    "    if(number%2 == 0):\n",
    "        print(\"Even\")\n",
    "    else:\n",
    "        print(\"Odd\")"
   ]
  },
  {
   "cell_type": "code",
   "execution_count": 3,
   "id": "906b14eb",
   "metadata": {},
   "outputs": [
    {
     "name": "stdout",
     "output_type": "stream",
     "text": [
      "Even\n"
     ]
    }
   ],
   "source": [
    "# call the fn\n",
    "even_or_odd(24)"
   ]
  },
  {
   "cell_type": "code",
   "execution_count": 4,
   "id": "8519c0d8",
   "metadata": {},
   "outputs": [
    {
     "name": "stdout",
     "output_type": "stream",
     "text": [
      "30\n"
     ]
    }
   ],
   "source": [
    "# fn with multiple parameters\n",
    "def add(a, b):\n",
    "    return (a+b)\n",
    "\n",
    "result = add(10, 20)\n",
    "print(result)"
   ]
  },
  {
   "cell_type": "code",
   "execution_count": 7,
   "id": "7cfb8dec",
   "metadata": {},
   "outputs": [
    {
     "name": "stdout",
     "output_type": "stream",
     "text": [
      "Hello Modi Welcome to India\n"
     ]
    }
   ],
   "source": [
    "# Default Parameter\n",
    "def greet(name):\n",
    "    print(f\"Hello {name} Welcome to India\")\n",
    "\n",
    "greet(\"Modi\")"
   ]
  },
  {
   "cell_type": "code",
   "execution_count": 1,
   "id": "f9c848b8",
   "metadata": {},
   "outputs": [
    {
     "name": "stdout",
     "output_type": "stream",
     "text": [
      "Hello Guest Welcome to India\n"
     ]
    }
   ],
   "source": [
    "# Default Parameter\n",
    "def greet(name = \"Guest\"):\n",
    "    print(f\"Hello {name} Welcome to India\")\n",
    "\n",
    "# greet(\"Modi\")\n",
    "greet()"
   ]
  },
  {
   "cell_type": "code",
   "execution_count": 2,
   "id": "96406452",
   "metadata": {},
   "outputs": [],
   "source": [
    "# variable length arguments\n",
    "# Positional and Keywords arguments\n",
    "def print_numbers(*anshu):\n",
    "    for number in anshu:\n",
    "        print(number)"
   ]
  },
  {
   "cell_type": "code",
   "execution_count": 12,
   "id": "883f71e0",
   "metadata": {},
   "outputs": [
    {
     "name": "stdout",
     "output_type": "stream",
     "text": [
      "1\n",
      "2\n",
      "3\n",
      "4\n",
      "5\n",
      "anshu\n"
     ]
    }
   ],
   "source": [
    "print_numbers(1, 2, 3, 4, 5, \"anshu\")"
   ]
  },
  {
   "cell_type": "code",
   "execution_count": 14,
   "id": "f7507a9a",
   "metadata": {},
   "outputs": [],
   "source": [
    "\n",
    "# Positional arguments\n",
    "def print_numbers(*args):\n",
    "    for number in args:\n",
    "        print(number)"
   ]
  },
  {
   "cell_type": "code",
   "execution_count": null,
   "id": "069cd6e8",
   "metadata": {},
   "outputs": [],
   "source": [
    "# Keyword arguments\n",
    "# all argument is in the form of key-value pair\n",
    "def print_details(**kwargs):\n",
    "    for key, value in kwargs.items():\n",
    "        print(f\"{key} : {value}\")"
   ]
  },
  {
   "cell_type": "code",
   "execution_count": 16,
   "id": "9171626d",
   "metadata": {},
   "outputs": [
    {
     "name": "stdout",
     "output_type": "stream",
     "text": [
      "name: Anshu\n",
      "age: 22\n",
      "country: India\n"
     ]
    }
   ],
   "source": [
    "print_details(name = \"Anshu\", age = 22, country = \"India\")"
   ]
  },
  {
   "cell_type": "code",
   "execution_count": null,
   "id": "eed81423",
   "metadata": {},
   "outputs": [],
   "source": [
    "# Keyword arguments\n",
    "# all parameter is in the form of key-value pair\n",
    "def print_details(*args, **kwargs):\n",
    "    for val in args:\n",
    "        print(f\"Positional Arguments:{val}\")\n",
    "\n",
    "    for key, value in kwargs.items():\n",
    "        print(f\"{key} : {value}\")"
   ]
  },
  {
   "cell_type": "code",
   "execution_count": 19,
   "id": "762122bf",
   "metadata": {},
   "outputs": [
    {
     "name": "stdout",
     "output_type": "stream",
     "text": [
      "Positional Arguments:1\n",
      "Positional Arguments:2\n",
      "Positional Arguments:3\n",
      "Positional Arguments:4\n",
      "Positional Arguments:5\n",
      "Positional Arguments:anshu\n",
      "name : Modi\n",
      "age : 65\n"
     ]
    }
   ],
   "source": [
    "print_details(1, 2, 3, 4, 5, \"anshu\", name=\"Modi\", age=65)"
   ]
  },
  {
   "cell_type": "code",
   "execution_count": 22,
   "id": "dc4a2df2",
   "metadata": {},
   "outputs": [
    {
     "data": {
      "text/plain": [
       "6"
      ]
     },
     "execution_count": 22,
     "metadata": {},
     "output_type": "execute_result"
    }
   ],
   "source": [
    "# return statement\n",
    "def multiply(a, b):\n",
    "    return (a*b)\n",
    "\n",
    "multiply(2, 3)"
   ]
  },
  {
   "cell_type": "code",
   "execution_count": null,
   "id": "34c3a3fd",
   "metadata": {},
   "outputs": [],
   "source": []
  }
 ],
 "metadata": {
  "kernelspec": {
   "display_name": "Python 3",
   "language": "python",
   "name": "python3"
  },
  "language_info": {
   "codemirror_mode": {
    "name": "ipython",
    "version": 3
   },
   "file_extension": ".py",
   "mimetype": "text/x-python",
   "name": "python",
   "nbconvert_exporter": "python",
   "pygments_lexer": "ipython3",
   "version": "3.12.0"
  }
 },
 "nbformat": 4,
 "nbformat_minor": 5
}
