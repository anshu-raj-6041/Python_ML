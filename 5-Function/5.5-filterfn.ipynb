{
 "cells": [
  {
   "cell_type": "markdown",
   "id": "8fd5c47f",
   "metadata": {},
   "source": [
    "The filter() fn in Python\n",
    "The filter() fn constructs an iterator from elements of an iterable for which a fn returns true. It is used to filter out items from a list besed on a condition."
   ]
  },
  {
   "cell_type": "code",
   "execution_count": 1,
   "id": "ff37ae80",
   "metadata": {},
   "outputs": [],
   "source": [
    "def even(num):\n",
    "    if(num%2 == 0):\n",
    "        return True"
   ]
  },
  {
   "cell_type": "code",
   "execution_count": 3,
   "id": "54e63e67",
   "metadata": {},
   "outputs": [
    {
     "name": "stdout",
     "output_type": "stream",
     "text": [
      "True\n"
     ]
    }
   ],
   "source": [
    "print(even(20))"
   ]
  },
  {
   "cell_type": "code",
   "execution_count": 4,
   "id": "3a997678",
   "metadata": {},
   "outputs": [
    {
     "data": {
      "text/plain": [
       "[2, 4, 6, 8, 10]"
      ]
     },
     "execution_count": 4,
     "metadata": {},
     "output_type": "execute_result"
    }
   ],
   "source": [
    "lst = [1, 2, 3, 4, 5, 6, 7, 8, 9, 10]\n",
    "\n",
    "list(filter(even, lst))"
   ]
  },
  {
   "cell_type": "code",
   "execution_count": 5,
   "id": "2fb1674e",
   "metadata": {},
   "outputs": [
    {
     "name": "stdout",
     "output_type": "stream",
     "text": [
      "[6, 7, 8, 9, 10]\n"
     ]
    }
   ],
   "source": [
    "# filter with a lambda fn\n",
    "numbers = [1, 2, 3, 4, 5, 6, 7, 8, 9, 10]\n",
    "\n",
    "greater_than_five = list(filter(lambda x: x>5, numbers))\n",
    "print(greater_than_five)"
   ]
  },
  {
   "cell_type": "code",
   "execution_count": 6,
   "id": "99e7000f",
   "metadata": {},
   "outputs": [
    {
     "name": "stdout",
     "output_type": "stream",
     "text": [
      "[6, 8, 10]\n"
     ]
    }
   ],
   "source": [
    "# filter() with lambda fn and multiple condition\n",
    "even_and_greater_than_five = list(filter(lambda x: x>5 and x%2==0, numbers))\n",
    "print(even_and_greater_than_five)"
   ]
  },
  {
   "cell_type": "code",
   "execution_count": 10,
   "id": "99850804",
   "metadata": {},
   "outputs": [
    {
     "name": "stdout",
     "output_type": "stream",
     "text": [
      "[{'name': 'Modi', 'age': 62}]\n"
     ]
    }
   ],
   "source": [
    "# filter() to check if the age is > 25 in dictionary\n",
    "people = [\n",
    "    {\"name\": \"Anshu\", \"age\": 22},\n",
    "    {\"name\": \"Modi\", \"age\": 62},\n",
    "]\n",
    "\n",
    "def age_greater_than_25(person):\n",
    "    return person[\"age\"]>25\n",
    "\n",
    "print(list(filter(age_greater_than_25, people)))"
   ]
  },
  {
   "cell_type": "code",
   "execution_count": null,
   "id": "61ab8be3",
   "metadata": {},
   "outputs": [],
   "source": []
  }
 ],
 "metadata": {
  "kernelspec": {
   "display_name": "Python 3",
   "language": "python",
   "name": "python3"
  },
  "language_info": {
   "codemirror_mode": {
    "name": "ipython",
    "version": 3
   },
   "file_extension": ".py",
   "mimetype": "text/x-python",
   "name": "python",
   "nbconvert_exporter": "python",
   "pygments_lexer": "ipython3",
   "version": "3.12.0"
  }
 },
 "nbformat": 4,
 "nbformat_minor": 5
}
