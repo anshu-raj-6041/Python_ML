{
 "cells": [
  {
   "cell_type": "code",
   "execution_count": 5,
   "id": "6f3df060",
   "metadata": {},
   "outputs": [
    {
     "name": "stdout",
     "output_type": "stream",
     "text": [
      "77.0\n",
      "25.0\n"
     ]
    }
   ],
   "source": [
    "# Ex 1: Temperature Conversion\n",
    "def convert_temperature(temp, unit):\n",
    "    if (unit == 'C'):\n",
    "        return temp * 9/5 + 32  # C to F\n",
    "    elif (unit == 'F'):\n",
    "        return (temp - 32) * 5/9\n",
    "    else:\n",
    "        return None\n",
    "    \n",
    "print(convert_temperature(25, 'C'))\n",
    "print(convert_temperature(77, 'F'))"
   ]
  },
  {
   "cell_type": "code",
   "execution_count": 15,
   "id": "7d029300",
   "metadata": {},
   "outputs": [
    {
     "name": "stdout",
     "output_type": "stream",
     "text": [
      "True\n",
      "False\n"
     ]
    }
   ],
   "source": [
    "# Password Strength Checker\n",
    "def is_strongP(password):\n",
    "    if len(password) < 8:\n",
    "        return False\n",
    "    if not any(char.isdigit() for char in password):\n",
    "        return False\n",
    "    if not any(char.islower() for char in password):\n",
    "        return False\n",
    "    if not any(char in '!@#$&^*' for char in password):\n",
    "        return False\n",
    "    return True\n",
    "\n",
    "print(is_strongP(\"anshu1@1\"))\n",
    "print(is_strongP(\"anshu\"))\n",
    "   "
   ]
  },
  {
   "cell_type": "code",
   "execution_count": null,
   "id": "17958739",
   "metadata": {},
   "outputs": [
    {
     "name": "stdout",
     "output_type": "stream",
     "text": [
      "620\n"
     ]
    }
   ],
   "source": [
    "# Ex 3: Calculate the Total cost of Items in a Shopping cart\n",
    "def cal_total_cost(cart):\n",
    "    totalCost = 0\n",
    "    for item in cart:\n",
    "        totalCost += item[\"price\"] * item[\"quantity\"]\n",
    "    return totalCost\n",
    "\n",
    "    # Example cart data\n",
    "cart = [\n",
    "        {\"name\":\"Apple\", \"price\":20, \"quantity\":5},\n",
    "        {\"name\":\"Banana\", \"price\":10, \"quantity\":12},\n",
    "        {\"name\":\"Orange\", \"price\":50, \"quantity\":8}\n",
    "]\n",
    "\n",
    "# calling the fn\n",
    "totalCost = cal_total_cost(cart)\n",
    "print(totalCost)"
   ]
  },
  {
   "cell_type": "code",
   "execution_count": null,
   "id": "d3c44686",
   "metadata": {},
   "outputs": [
    {
     "name": "stdout",
     "output_type": "stream",
     "text": [
      "True\n",
      "False\n"
     ]
    }
   ],
   "source": [
    "# Checking if a String is Palindrome\n",
    "def isPalindrome(s):\n",
    "    s = s.lower().replace(\" \", \"\")\n",
    "    return s == s[::-1]\n",
    "\n",
    "print(isPalindrome(\"racecar\"))\n",
    "print(isPalindrome(\"A man a plan a canal panama\"))"
   ]
  },
  {
   "cell_type": "code",
   "execution_count": 25,
   "id": "632e8c24",
   "metadata": {},
   "outputs": [
    {
     "name": "stdout",
     "output_type": "stream",
     "text": [
      "120\n"
     ]
    }
   ],
   "source": [
    "# Ex 5: Factorial of a no\n",
    "def factorial(n):\n",
    "    if (n == 0):\n",
    "        return 1\n",
    "    else: \n",
    "        return n * factorial(n-1)\n",
    "\n",
    "print(factorial(5))"
   ]
  },
  {
   "cell_type": "code",
   "execution_count": null,
   "id": "6df1cf23",
   "metadata": {},
   "outputs": [
    {
     "name": "stdout",
     "output_type": "stream",
     "text": [
      "{'hello': 1, 'i': 1, 'am': 1, 'indian': 1, 'india': 1, 'is': 1, 'a': 1, 'beautiful': 1, 'country': 2}\n"
     ]
    }
   ],
   "source": [
    "# Ex 6: A fn to read a file and count frequency of each word\n",
    "def count_word_frequency(file_path):\n",
    "    word_count = {}\n",
    "    with open(file_path, 'r') as file:\n",
    "        for line in file:\n",
    "            words = line.split()\n",
    "            for word in words:\n",
    "                word = word.lower().strip('.,@#$%^&')\n",
    "                word_count[word] = word_count.get(word, 0) + 1\n",
    "    return word_count\n",
    "\n",
    "\n",
    "filePath = 'sample.txt'\n",
    "wordFrequency = count_word_frequency(filePath)\n",
    "print(wordFrequency)"
   ]
  },
  {
   "cell_type": "code",
   "execution_count": null,
   "id": "993bc345",
   "metadata": {},
   "outputs": [
    {
     "name": "stdout",
     "output_type": "stream",
     "text": [
      "True\n"
     ]
    }
   ],
   "source": [
    "# Ex 7: Validate Email Address\n",
    "import re\n",
    "\n",
    "def is_valid_email(email):\n",
    "    # ^ => start of string\n",
    "    # $ => end of string\n",
    "    # ^....$ => ensure full string must match the pattern\n",
    "    pattern = r'^[a-zA-Z0-9_.+-]+@[a-zA-Z0-9]+\\.[a-zA-Z0-9.]+$'\n",
    "    return re.match(pattern, email) is not None\n",
    "\n",
    "# call the fn\n",
    "print(is_valid_email(\"anshu@gmail.com\"))"
   ]
  },
  {
   "cell_type": "code",
   "execution_count": null,
   "id": "e512b906",
   "metadata": {},
   "outputs": [],
   "source": []
  }
 ],
 "metadata": {
  "kernelspec": {
   "display_name": "Python 3",
   "language": "python",
   "name": "python3"
  },
  "language_info": {
   "codemirror_mode": {
    "name": "ipython",
    "version": 3
   },
   "file_extension": ".py",
   "mimetype": "text/x-python",
   "name": "python",
   "nbconvert_exporter": "python",
   "pygments_lexer": "ipython3",
   "version": "3.12.0"
  }
 },
 "nbformat": 4,
 "nbformat_minor": 5
}
