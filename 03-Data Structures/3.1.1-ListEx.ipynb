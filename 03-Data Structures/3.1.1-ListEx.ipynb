{
 "cells": [
  {
   "cell_type": "code",
   "execution_count": 3,
   "id": "622127e3",
   "metadata": {},
   "outputs": [
    {
     "name": "stdout",
     "output_type": "stream",
     "text": [
      "Don't forget to pay the utility Bill\n",
      "To Do List remaining\n",
      "=> Buy Groceries\n",
      "=> Pay Bills\n",
      "=> Schedule meeting\n",
      "=> Go to play cricket\n"
     ]
    }
   ],
   "source": [
    "# Ex1 : Manage a To Do List\n",
    "to_do_list = [\"Buy Groceries\", \"Clean the house\", \"Pay Bills\"]\n",
    "\n",
    "# Adding to task\n",
    "to_do_list.append(\"Schedule meeting\")\n",
    "to_do_list.append(\"Go to play cricket\")\n",
    "\n",
    "# removing a completed task\n",
    "to_do_list.remove(\"Clean the house\")\n",
    "\n",
    "# checking if a task in the list\n",
    "if \"Pay Bills\" in to_do_list:\n",
    "    print(\"Don't forget to pay the utility Bill\")\n",
    "\n",
    "print(\"To Do List remaining\")\n",
    "for task in to_do_list:\n",
    "    print(f\"=> {task}\")"
   ]
  },
  {
   "cell_type": "code",
   "execution_count": 4,
   "id": "7c85c5d6",
   "metadata": {},
   "outputs": [
    {
     "name": "stdout",
     "output_type": "stream",
     "text": [
      "Average Grade: 69.20\n"
     ]
    }
   ],
   "source": [
    "# Ex2 : Organising student grade\n",
    "grades = [85, 90, 76, 65]\n",
    "\n",
    "# Adding a new grade\n",
    "grades.append(30)\n",
    "\n",
    "# calculating the avg grade\n",
    "avg_grade = sum(grades)/len(grades)\n",
    "print(f\"Average Grade: {avg_grade:.2f}\")"
   ]
  },
  {
   "cell_type": "code",
   "execution_count": null,
   "id": "68eee9fe",
   "metadata": {},
   "outputs": [],
   "source": [
    "# Ex3: Managing a Inventory"
   ]
  },
  {
   "cell_type": "code",
   "execution_count": null,
   "id": "83af8c2e",
   "metadata": {},
   "outputs": [],
   "source": [
    "# Ex: collecting user Feedback"
   ]
  }
 ],
 "metadata": {
  "kernelspec": {
   "display_name": "Python 3",
   "language": "python",
   "name": "python3"
  },
  "language_info": {
   "codemirror_mode": {
    "name": "ipython",
    "version": 3
   },
   "file_extension": ".py",
   "mimetype": "text/x-python",
   "name": "python",
   "nbconvert_exporter": "python",
   "pygments_lexer": "ipython3",
   "version": "3.12.0"
  }
 },
 "nbformat": 4,
 "nbformat_minor": 5
}
