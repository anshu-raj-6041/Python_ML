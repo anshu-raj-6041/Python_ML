{
 "cells": [
  {
   "cell_type": "code",
   "execution_count": null,
   "id": "5b3ec5ad",
   "metadata": {},
   "outputs": [
    {
     "name": "stdout",
     "output_type": "stream",
     "text": [
      "Directory 'package' is created\n"
     ]
    }
   ],
   "source": [
    "# create a new directory (VI)\n",
    "import os\n",
    "\n",
    "new_directory = \"package\"\n",
    "os.mkdir(new_directory)\n",
    "print(f\"Directory '{new_directory}' is created\")"
   ]
  },
  {
   "cell_type": "code",
   "execution_count": 4,
   "id": "5d1cedf1",
   "metadata": {},
   "outputs": [
    {
     "name": "stdout",
     "output_type": "stream",
     "text": [
      "['9.1-fileOpeartion.ipynb', '9.2-filePath.ipynb', 'destination.txt', 'example.bin', 'example.txt', 'package']\n"
     ]
    }
   ],
   "source": [
    "# Listing Files and Directories\n",
    "items = os.listdir('.')\n",
    "print(items)"
   ]
  },
  {
   "cell_type": "code",
   "execution_count": 5,
   "id": "52c86d3a",
   "metadata": {},
   "outputs": [
    {
     "name": "stdout",
     "output_type": "stream",
     "text": [
      "folder\\file.txt\n"
     ]
    }
   ],
   "source": [
    "# Joining Path (VI)\n",
    "dir_name = \"folder\"\n",
    "file_name = \"file.txt\"\n",
    "\n",
    "full_path = os.path.join(dir_name, file_name)\n",
    "print(full_path)"
   ]
  },
  {
   "cell_type": "code",
   "execution_count": 6,
   "id": "ffff9761",
   "metadata": {},
   "outputs": [
    {
     "name": "stdout",
     "output_type": "stream",
     "text": [
      "c:\\Users\\anshu\\OneDrive\\Desktop\\Python2\\9-File Handling\\folder\\file.txt\n"
     ]
    }
   ],
   "source": [
    "# Joining Path (VI)\n",
    "dir_name = \"folder\"\n",
    "file_name = \"file.txt\"\n",
    "\n",
    "full_path = os.path.join(os.getcwd(), dir_name, file_name)\n",
    "print(full_path)"
   ]
  },
  {
   "cell_type": "code",
   "execution_count": 9,
   "id": "a3c5d9ce",
   "metadata": {},
   "outputs": [
    {
     "name": "stdout",
     "output_type": "stream",
     "text": [
      "The path 'example1.txt' does not exists\n"
     ]
    }
   ],
   "source": [
    "path = \"example1.txt\"\n",
    "\n",
    "if (os.path.exists(path)):\n",
    "    print(f\"The path '{path}' exists\")\n",
    "else:\n",
    "    print(f\"The path '{path}' does not exists\")"
   ]
  },
  {
   "cell_type": "code",
   "execution_count": 10,
   "id": "a7aadfdd",
   "metadata": {},
   "outputs": [
    {
     "name": "stdout",
     "output_type": "stream",
     "text": [
      "The path 'example.txt' is a file\n"
     ]
    }
   ],
   "source": [
    "# Checking if a Path is a file or directory\n",
    "import os\n",
    "\n",
    "path = \"example.txt\"\n",
    "if (os.path.isfile(path)):\n",
    "    print(f\"The path '{path}' is a file\")\n",
    "elif (os.path.isdir(path)):\n",
    "    print(f\"The path '{path}' is a directory\")\n",
    "else:\n",
    "    print(f\"The path '{path}' is neither a file nor directory\")"
   ]
  },
  {
   "cell_type": "code",
   "execution_count": 11,
   "id": "5827a434",
   "metadata": {},
   "outputs": [
    {
     "name": "stdout",
     "output_type": "stream",
     "text": [
      "c:\\Users\\anshu\\OneDrive\\Desktop\\Python2\\9-File Handling\\example.txt\n"
     ]
    }
   ],
   "source": [
    "# getting the absolute path\n",
    "relative_path = \"example.txt\"\n",
    "absolute_path = os.path.abspath(relative_path)\n",
    "\n",
    "print(absolute_path)"
   ]
  },
  {
   "cell_type": "code",
   "execution_count": null,
   "id": "c1074083",
   "metadata": {},
   "outputs": [],
   "source": []
  }
 ],
 "metadata": {
  "kernelspec": {
   "display_name": "Python 3",
   "language": "python",
   "name": "python3"
  },
  "language_info": {
   "codemirror_mode": {
    "name": "ipython",
    "version": 3
   },
   "file_extension": ".py",
   "mimetype": "text/x-python",
   "name": "python",
   "nbconvert_exporter": "python",
   "pygments_lexer": "ipython3",
   "version": "3.12.0"
  }
 },
 "nbformat": 4,
 "nbformat_minor": 5
}
