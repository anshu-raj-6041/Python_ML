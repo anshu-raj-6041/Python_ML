{
 "cells": [
  {
   "cell_type": "markdown",
   "id": "bec31a28",
   "metadata": {},
   "source": [
    "File Operation: Read and Write Files"
   ]
  },
  {
   "cell_type": "code",
   "execution_count": 2,
   "id": "dfeabcaf",
   "metadata": {},
   "outputs": [
    {
     "name": "stdout",
     "output_type": "stream",
     "text": [
      "Hello, How are u?\n",
      "I am good\n",
      "Anshu is my name\n",
      "Welcome to the course\n"
     ]
    }
   ],
   "source": [
    "# Read a whole file\n",
    "\n",
    "with open(\"example.txt\", \"r\") as file:\n",
    "    content = file.read()\n",
    "    print(content)"
   ]
  },
  {
   "cell_type": "code",
   "execution_count": null,
   "id": "3bbadaa1",
   "metadata": {},
   "outputs": [
    {
     "name": "stdout",
     "output_type": "stream",
     "text": [
      "Hello, How are u?\n",
      "I am good\n",
      "Anshu is my name\n",
      "Welcome to the course\n"
     ]
    }
   ],
   "source": [
    "# read a file line by line\n",
    "\n",
    "with open(\"example.txt\", \"r\") as file:\n",
    "    for line in file:\n",
    "        # print(line)\n",
    "        print(line.strip())     # .strip() is used to remove newline character"
   ]
  },
  {
   "cell_type": "code",
   "execution_count": 5,
   "id": "992acc49",
   "metadata": {},
   "outputs": [],
   "source": [
    "# Writing a file(Overwriting)\n",
    "\n",
    "with open(\"example.txt\", \"w\") as file:\n",
    "    file.write(\"Hello World!\\n\")\n",
    "    file.write(\"This is a new line.\")"
   ]
  },
  {
   "cell_type": "code",
   "execution_count": 10,
   "id": "d4d6ad46",
   "metadata": {},
   "outputs": [],
   "source": [
    "# Write a file without overwriting\n",
    "\n",
    "with open(\"example.txt\", \"a\") as file:\n",
    "    file.write(\"\\nAppend Operation taking place\\n\")"
   ]
  },
  {
   "cell_type": "code",
   "execution_count": 11,
   "id": "072bd7b2",
   "metadata": {},
   "outputs": [],
   "source": [
    "# writing a list of lines to file\n",
    "lines = [\"First line\\n\", \"Second line\\n\", \"Third Line\\n\"]\n",
    "\n",
    "with open(\"example.txt\", \"a\") as file:\n",
    "    file.writelines(lines)"
   ]
  },
  {
   "cell_type": "code",
   "execution_count": null,
   "id": "9bff558b",
   "metadata": {},
   "outputs": [],
   "source": [
    "# Binary Files\n",
    "# writing to binary files \n",
    "\n",
    "data = b'\\x00\\x01\\x02\\x03\\x04'\n",
    "with open(\"example.bin\", \"wb\") as file:\n",
    "    file.write(data)"
   ]
  },
  {
   "cell_type": "code",
   "execution_count": 13,
   "id": "67772d3a",
   "metadata": {},
   "outputs": [
    {
     "name": "stdout",
     "output_type": "stream",
     "text": [
      "b'\\x00\\x01\\x02\\x03\\x04'\n"
     ]
    }
   ],
   "source": [
    "# Binary Files\n",
    "with open(\"example.bin\", \"rb\") as file:\n",
    "    content = file.read()\n",
    "    print(content)"
   ]
  },
  {
   "cell_type": "code",
   "execution_count": 14,
   "id": "cc63ee97",
   "metadata": {},
   "outputs": [],
   "source": [
    "# read the content from source text file and write to a destination text file\n",
    "# copying the text file \n",
    "with open(\"example.txt\", \"r\") as source_file:\n",
    "    content = source_file.read()\n",
    "\n",
    "with open(\"destination.txt\", \"w\") as destination_file:\n",
    "    destination_file.write(content)"
   ]
  },
  {
   "cell_type": "code",
   "execution_count": null,
   "id": "22442af4",
   "metadata": {},
   "outputs": [],
   "source": [
    "# Read a text line and count no of words and characters"
   ]
  },
  {
   "cell_type": "markdown",
   "id": "b9a553de",
   "metadata": {},
   "source": [
    "The w+ mode in Python is used to open a file for both reading and writing.\n",
    "If the file does not exist, it will be created.\n",
    "If the file exist, its content is truncated(i.e, the file is overwritten)"
   ]
  },
  {
   "cell_type": "code",
   "execution_count": 18,
   "id": "fa0bfead",
   "metadata": {},
   "outputs": [
    {
     "name": "stdout",
     "output_type": "stream",
     "text": [
      "Hello World\n",
      "This is a new line\n",
      "\n"
     ]
    }
   ],
   "source": [
    "# writing and then reading a file\n",
    "\n",
    "with open(\"example.txt\", \"w+\") as file:\n",
    "    file.write(\"Hello World\\n\")\n",
    "    file.write(\"This is a new line\\n\")\n",
    "\n",
    "    # move the file cursor to beginning \n",
    "    file.seek(0)\n",
    "\n",
    "    # read the content of file \n",
    "    content = file.read()\n",
    "    print(content)\n"
   ]
  },
  {
   "cell_type": "code",
   "execution_count": null,
   "id": "562123ce",
   "metadata": {},
   "outputs": [],
   "source": []
  }
 ],
 "metadata": {
  "kernelspec": {
   "display_name": "Python 3",
   "language": "python",
   "name": "python3"
  },
  "language_info": {
   "codemirror_mode": {
    "name": "ipython",
    "version": 3
   },
   "file_extension": ".py",
   "mimetype": "text/x-python",
   "name": "python",
   "nbconvert_exporter": "python",
   "pygments_lexer": "ipython3",
   "version": "3.12.0"
  }
 },
 "nbformat": 4,
 "nbformat_minor": 5
}
